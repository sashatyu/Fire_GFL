{
 "cells": [
  {
   "cell_type": "code",
   "execution_count": 1,
   "metadata": {},
   "outputs": [],
   "source": [
    "import pandas as pd\n",
    "import numpy as np"
   ]
  },
  {
   "cell_type": "markdown",
   "metadata": {},
   "source": [
    "### Area and accuracy estimation for sampling with inclusion probabilities weighted by pixel area, for sampling with replacement, from Tyukavina et al. (in review) \"Global trends of forest loss due to fire, 2001-2019\""
   ]
  },
  {
   "cell_type": "code",
   "execution_count": 2,
   "metadata": {},
   "outputs": [],
   "source": [
    "#Read final sample interpretation table\n",
    "#Reference and map values == 1 for each sample pixel represent forest loss due to fire class\n",
    "#Map values corrrespond to the final map adjusted to match the sample-based estimate, \n",
    "#with areas of zero % tree cover classified as \"forest loss due to other drivers\"\n",
    "data = pd.read_csv('Sample_data.txt', sep ='\\t')\n",
    "#Read strata info, including strata sizes and sample size in each stratum\n",
    "strata = pd.read_csv('Strata_info.txt', sep = '\\t')"
   ]
  },
  {
   "cell_type": "code",
   "execution_count": 3,
   "metadata": {},
   "outputs": [
    {
     "data": {
      "text/html": [
       "<style  type=\"text/css\" >\n",
       "</style><table id=\"T_6f898f3a_ae86_11eb_a376_d0946613b163\" ><thead>    <tr>        <th class=\"col_heading level0 col0\" >ID</th>        <th class=\"col_heading level0 col1\" >Region</th>        <th class=\"col_heading level0 col2\" >Stratum</th>        <th class=\"col_heading level0 col3\" >Pixarea</th>        <th class=\"col_heading level0 col4\" >Reference</th>        <th class=\"col_heading level0 col5\" >Map</th>    </tr></thead><tbody>\n",
       "                <tr>\n",
       "                                <td id=\"T_6f898f3a_ae86_11eb_a376_d0946613b163row0_col0\" class=\"data row0 col0\" >1</td>\n",
       "                        <td id=\"T_6f898f3a_ae86_11eb_a376_d0946613b163row0_col1\" class=\"data row0 col1\" >SEA-AUS</td>\n",
       "                        <td id=\"T_6f898f3a_ae86_11eb_a376_d0946613b163row0_col2\" class=\"data row0 col2\" >10</td>\n",
       "                        <td id=\"T_6f898f3a_ae86_11eb_a376_d0946613b163row0_col3\" class=\"data row0 col3\" >0.000638</td>\n",
       "                        <td id=\"T_6f898f3a_ae86_11eb_a376_d0946613b163row0_col4\" class=\"data row0 col4\" >1</td>\n",
       "                        <td id=\"T_6f898f3a_ae86_11eb_a376_d0946613b163row0_col5\" class=\"data row0 col5\" >1</td>\n",
       "            </tr>\n",
       "            <tr>\n",
       "                                <td id=\"T_6f898f3a_ae86_11eb_a376_d0946613b163row1_col0\" class=\"data row1 col0\" >2</td>\n",
       "                        <td id=\"T_6f898f3a_ae86_11eb_a376_d0946613b163row1_col1\" class=\"data row1 col1\" >EUR</td>\n",
       "                        <td id=\"T_6f898f3a_ae86_11eb_a376_d0946613b163row1_col2\" class=\"data row1 col2\" >2</td>\n",
       "                        <td id=\"T_6f898f3a_ae86_11eb_a376_d0946613b163row1_col3\" class=\"data row1 col3\" >0.000430</td>\n",
       "                        <td id=\"T_6f898f3a_ae86_11eb_a376_d0946613b163row1_col4\" class=\"data row1 col4\" >0</td>\n",
       "                        <td id=\"T_6f898f3a_ae86_11eb_a376_d0946613b163row1_col5\" class=\"data row1 col5\" >0</td>\n",
       "            </tr>\n",
       "            <tr>\n",
       "                                <td id=\"T_6f898f3a_ae86_11eb_a376_d0946613b163row2_col0\" class=\"data row2 col0\" >3</td>\n",
       "                        <td id=\"T_6f898f3a_ae86_11eb_a376_d0946613b163row2_col1\" class=\"data row2 col1\" >AFR</td>\n",
       "                        <td id=\"T_6f898f3a_ae86_11eb_a376_d0946613b163row2_col2\" class=\"data row2 col2\" >1</td>\n",
       "                        <td id=\"T_6f898f3a_ae86_11eb_a376_d0946613b163row2_col3\" class=\"data row2 col3\" >0.000749</td>\n",
       "                        <td id=\"T_6f898f3a_ae86_11eb_a376_d0946613b163row2_col4\" class=\"data row2 col4\" >0</td>\n",
       "                        <td id=\"T_6f898f3a_ae86_11eb_a376_d0946613b163row2_col5\" class=\"data row2 col5\" >0</td>\n",
       "            </tr>\n",
       "            <tr>\n",
       "                                <td id=\"T_6f898f3a_ae86_11eb_a376_d0946613b163row3_col0\" class=\"data row3 col0\" >4</td>\n",
       "                        <td id=\"T_6f898f3a_ae86_11eb_a376_d0946613b163row3_col1\" class=\"data row3 col1\" >LAM</td>\n",
       "                        <td id=\"T_6f898f3a_ae86_11eb_a376_d0946613b163row3_col2\" class=\"data row3 col2\" >3</td>\n",
       "                        <td id=\"T_6f898f3a_ae86_11eb_a376_d0946613b163row3_col3\" class=\"data row3 col3\" >0.000733</td>\n",
       "                        <td id=\"T_6f898f3a_ae86_11eb_a376_d0946613b163row3_col4\" class=\"data row3 col4\" >0</td>\n",
       "                        <td id=\"T_6f898f3a_ae86_11eb_a376_d0946613b163row3_col5\" class=\"data row3 col5\" >0</td>\n",
       "            </tr>\n",
       "            <tr>\n",
       "                                <td id=\"T_6f898f3a_ae86_11eb_a376_d0946613b163row4_col0\" class=\"data row4 col0\" >5</td>\n",
       "                        <td id=\"T_6f898f3a_ae86_11eb_a376_d0946613b163row4_col1\" class=\"data row4 col1\" >LAM</td>\n",
       "                        <td id=\"T_6f898f3a_ae86_11eb_a376_d0946613b163row4_col2\" class=\"data row4 col2\" >8</td>\n",
       "                        <td id=\"T_6f898f3a_ae86_11eb_a376_d0946613b163row4_col3\" class=\"data row4 col3\" >0.000744</td>\n",
       "                        <td id=\"T_6f898f3a_ae86_11eb_a376_d0946613b163row4_col4\" class=\"data row4 col4\" >1</td>\n",
       "                        <td id=\"T_6f898f3a_ae86_11eb_a376_d0946613b163row4_col5\" class=\"data row4 col5\" >1</td>\n",
       "            </tr>\n",
       "    </tbody></table>"
      ],
      "text/plain": [
       "<pandas.io.formats.style.Styler at 0x2a206b1d4e0>"
      ]
     },
     "execution_count": 3,
     "metadata": {},
     "output_type": "execute_result"
    }
   ],
   "source": [
    "data.head().style.hide_index()"
   ]
  },
  {
   "cell_type": "code",
   "execution_count": 4,
   "metadata": {},
   "outputs": [
    {
     "data": {
      "text/html": [
       "<style  type=\"text/css\" >\n",
       "</style><table id=\"T_7070a676_ae86_11eb_b6a8_d0946613b163\" ><thead>    <tr>        <th class=\"col_heading level0 col0\" >Region</th>        <th class=\"col_heading level0 col1\" >Stratum</th>        <th class=\"col_heading level0 col2\" >Area_km2</th>        <th class=\"col_heading level0 col3\" >Sample_size</th>    </tr></thead><tbody>\n",
       "                <tr>\n",
       "                                <td id=\"T_7070a676_ae86_11eb_b6a8_d0946613b163row0_col0\" class=\"data row0 col0\" >AFR</td>\n",
       "                        <td id=\"T_7070a676_ae86_11eb_b6a8_d0946613b163row0_col1\" class=\"data row0 col1\" >1</td>\n",
       "                        <td id=\"T_7070a676_ae86_11eb_b6a8_d0946613b163row0_col2\" class=\"data row0 col2\" >595255.012800</td>\n",
       "                        <td id=\"T_7070a676_ae86_11eb_b6a8_d0946613b163row0_col3\" class=\"data row0 col3\" >134</td>\n",
       "            </tr>\n",
       "            <tr>\n",
       "                                <td id=\"T_7070a676_ae86_11eb_b6a8_d0946613b163row1_col0\" class=\"data row1 col0\" >EUR</td>\n",
       "                        <td id=\"T_7070a676_ae86_11eb_b6a8_d0946613b163row1_col1\" class=\"data row1 col1\" >2</td>\n",
       "                        <td id=\"T_7070a676_ae86_11eb_b6a8_d0946613b163row1_col2\" class=\"data row1 col2\" >332992.902600</td>\n",
       "                        <td id=\"T_7070a676_ae86_11eb_b6a8_d0946613b163row1_col3\" class=\"data row1 col3\" >100</td>\n",
       "            </tr>\n",
       "            <tr>\n",
       "                                <td id=\"T_7070a676_ae86_11eb_b6a8_d0946613b163row2_col0\" class=\"data row2 col0\" >LAM</td>\n",
       "                        <td id=\"T_7070a676_ae86_11eb_b6a8_d0946613b163row2_col1\" class=\"data row2 col1\" >3</td>\n",
       "                        <td id=\"T_7070a676_ae86_11eb_b6a8_d0946613b163row2_col2\" class=\"data row2 col2\" >946369.335100</td>\n",
       "                        <td id=\"T_7070a676_ae86_11eb_b6a8_d0946613b163row2_col3\" class=\"data row2 col3\" >213</td>\n",
       "            </tr>\n",
       "            <tr>\n",
       "                                <td id=\"T_7070a676_ae86_11eb_b6a8_d0946613b163row3_col0\" class=\"data row3 col0\" >NAM</td>\n",
       "                        <td id=\"T_7070a676_ae86_11eb_b6a8_d0946613b163row3_col1\" class=\"data row3 col1\" >4</td>\n",
       "                        <td id=\"T_7070a676_ae86_11eb_b6a8_d0946613b163row3_col2\" class=\"data row3 col2\" >486272.535600</td>\n",
       "                        <td id=\"T_7070a676_ae86_11eb_b6a8_d0946613b163row3_col3\" class=\"data row3 col3\" >109</td>\n",
       "            </tr>\n",
       "            <tr>\n",
       "                                <td id=\"T_7070a676_ae86_11eb_b6a8_d0946613b163row4_col0\" class=\"data row4 col0\" >SEA-AUS</td>\n",
       "                        <td id=\"T_7070a676_ae86_11eb_b6a8_d0946613b163row4_col1\" class=\"data row4 col1\" >5</td>\n",
       "                        <td id=\"T_7070a676_ae86_11eb_b6a8_d0946613b163row4_col2\" class=\"data row4 col2\" >669855.474600</td>\n",
       "                        <td id=\"T_7070a676_ae86_11eb_b6a8_d0946613b163row4_col3\" class=\"data row4 col3\" >150</td>\n",
       "            </tr>\n",
       "    </tbody></table>"
      ],
      "text/plain": [
       "<pandas.io.formats.style.Styler at 0x2a2080d58d0>"
      ]
     },
     "execution_count": 4,
     "metadata": {},
     "output_type": "execute_result"
    }
   ],
   "source": [
    "strata.head().style.hide_index()"
   ]
  },
  {
   "cell_type": "code",
   "execution_count": 5,
   "metadata": {},
   "outputs": [],
   "source": [
    "#Merge sample table (data) with strata info table (strata) on the common column \"Stratum\"\n",
    "data = data.merge(strata[['Stratum', 'Area_km2', 'Sample_size']])\n",
    "data = data.rename(columns = {'Area_km2':'Ah', 'Sample_size':'nh', 'Pixarea':'au'})"
   ]
  },
  {
   "cell_type": "code",
   "execution_count": 6,
   "metadata": {},
   "outputs": [
    {
     "data": {
      "text/html": [
       "<style  type=\"text/css\" >\n",
       "</style><table id=\"T_79295968_ae86_11eb_8961_d0946613b163\" ><thead>    <tr>        <th class=\"col_heading level0 col0\" >ID</th>        <th class=\"col_heading level0 col1\" >Region</th>        <th class=\"col_heading level0 col2\" >Stratum</th>        <th class=\"col_heading level0 col3\" >au</th>        <th class=\"col_heading level0 col4\" >Reference</th>        <th class=\"col_heading level0 col5\" >Map</th>        <th class=\"col_heading level0 col6\" >Ah</th>        <th class=\"col_heading level0 col7\" >nh</th>    </tr></thead><tbody>\n",
       "                <tr>\n",
       "                                <td id=\"T_79295968_ae86_11eb_8961_d0946613b163row0_col0\" class=\"data row0 col0\" >1</td>\n",
       "                        <td id=\"T_79295968_ae86_11eb_8961_d0946613b163row0_col1\" class=\"data row0 col1\" >SEA-AUS</td>\n",
       "                        <td id=\"T_79295968_ae86_11eb_8961_d0946613b163row0_col2\" class=\"data row0 col2\" >10</td>\n",
       "                        <td id=\"T_79295968_ae86_11eb_8961_d0946613b163row0_col3\" class=\"data row0 col3\" >0.000638</td>\n",
       "                        <td id=\"T_79295968_ae86_11eb_8961_d0946613b163row0_col4\" class=\"data row0 col4\" >1</td>\n",
       "                        <td id=\"T_79295968_ae86_11eb_8961_d0946613b163row0_col5\" class=\"data row0 col5\" >1</td>\n",
       "                        <td id=\"T_79295968_ae86_11eb_8961_d0946613b163row0_col6\" class=\"data row0 col6\" >161635.388000</td>\n",
       "                        <td id=\"T_79295968_ae86_11eb_8961_d0946613b163row0_col7\" class=\"data row0 col7\" >100</td>\n",
       "            </tr>\n",
       "            <tr>\n",
       "                                <td id=\"T_79295968_ae86_11eb_8961_d0946613b163row1_col0\" class=\"data row1 col0\" >8</td>\n",
       "                        <td id=\"T_79295968_ae86_11eb_8961_d0946613b163row1_col1\" class=\"data row1 col1\" >SEA-AUS</td>\n",
       "                        <td id=\"T_79295968_ae86_11eb_8961_d0946613b163row1_col2\" class=\"data row1 col2\" >10</td>\n",
       "                        <td id=\"T_79295968_ae86_11eb_8961_d0946613b163row1_col3\" class=\"data row1 col3\" >0.000626</td>\n",
       "                        <td id=\"T_79295968_ae86_11eb_8961_d0946613b163row1_col4\" class=\"data row1 col4\" >1</td>\n",
       "                        <td id=\"T_79295968_ae86_11eb_8961_d0946613b163row1_col5\" class=\"data row1 col5\" >1</td>\n",
       "                        <td id=\"T_79295968_ae86_11eb_8961_d0946613b163row1_col6\" class=\"data row1 col6\" >161635.388000</td>\n",
       "                        <td id=\"T_79295968_ae86_11eb_8961_d0946613b163row1_col7\" class=\"data row1 col7\" >100</td>\n",
       "            </tr>\n",
       "            <tr>\n",
       "                                <td id=\"T_79295968_ae86_11eb_8961_d0946613b163row2_col0\" class=\"data row2 col0\" >10</td>\n",
       "                        <td id=\"T_79295968_ae86_11eb_8961_d0946613b163row2_col1\" class=\"data row2 col1\" >SEA-AUS</td>\n",
       "                        <td id=\"T_79295968_ae86_11eb_8961_d0946613b163row2_col2\" class=\"data row2 col2\" >10</td>\n",
       "                        <td id=\"T_79295968_ae86_11eb_8961_d0946613b163row2_col3\" class=\"data row2 col3\" >0.000769</td>\n",
       "                        <td id=\"T_79295968_ae86_11eb_8961_d0946613b163row2_col4\" class=\"data row2 col4\" >1</td>\n",
       "                        <td id=\"T_79295968_ae86_11eb_8961_d0946613b163row2_col5\" class=\"data row2 col5\" >1</td>\n",
       "                        <td id=\"T_79295968_ae86_11eb_8961_d0946613b163row2_col6\" class=\"data row2 col6\" >161635.388000</td>\n",
       "                        <td id=\"T_79295968_ae86_11eb_8961_d0946613b163row2_col7\" class=\"data row2 col7\" >100</td>\n",
       "            </tr>\n",
       "            <tr>\n",
       "                                <td id=\"T_79295968_ae86_11eb_8961_d0946613b163row3_col0\" class=\"data row3 col0\" >26</td>\n",
       "                        <td id=\"T_79295968_ae86_11eb_8961_d0946613b163row3_col1\" class=\"data row3 col1\" >SEA-AUS</td>\n",
       "                        <td id=\"T_79295968_ae86_11eb_8961_d0946613b163row3_col2\" class=\"data row3 col2\" >10</td>\n",
       "                        <td id=\"T_79295968_ae86_11eb_8961_d0946613b163row3_col3\" class=\"data row3 col3\" >0.000670</td>\n",
       "                        <td id=\"T_79295968_ae86_11eb_8961_d0946613b163row3_col4\" class=\"data row3 col4\" >1</td>\n",
       "                        <td id=\"T_79295968_ae86_11eb_8961_d0946613b163row3_col5\" class=\"data row3 col5\" >1</td>\n",
       "                        <td id=\"T_79295968_ae86_11eb_8961_d0946613b163row3_col6\" class=\"data row3 col6\" >161635.388000</td>\n",
       "                        <td id=\"T_79295968_ae86_11eb_8961_d0946613b163row3_col7\" class=\"data row3 col7\" >100</td>\n",
       "            </tr>\n",
       "            <tr>\n",
       "                                <td id=\"T_79295968_ae86_11eb_8961_d0946613b163row4_col0\" class=\"data row4 col0\" >30</td>\n",
       "                        <td id=\"T_79295968_ae86_11eb_8961_d0946613b163row4_col1\" class=\"data row4 col1\" >SEA-AUS</td>\n",
       "                        <td id=\"T_79295968_ae86_11eb_8961_d0946613b163row4_col2\" class=\"data row4 col2\" >10</td>\n",
       "                        <td id=\"T_79295968_ae86_11eb_8961_d0946613b163row4_col3\" class=\"data row4 col3\" >0.000649</td>\n",
       "                        <td id=\"T_79295968_ae86_11eb_8961_d0946613b163row4_col4\" class=\"data row4 col4\" >1</td>\n",
       "                        <td id=\"T_79295968_ae86_11eb_8961_d0946613b163row4_col5\" class=\"data row4 col5\" >1</td>\n",
       "                        <td id=\"T_79295968_ae86_11eb_8961_d0946613b163row4_col6\" class=\"data row4 col6\" >161635.388000</td>\n",
       "                        <td id=\"T_79295968_ae86_11eb_8961_d0946613b163row4_col7\" class=\"data row4 col7\" >100</td>\n",
       "            </tr>\n",
       "    </tbody></table>"
      ],
      "text/plain": [
       "<pandas.io.formats.style.Styler at 0x2a20802fa90>"
      ]
     },
     "execution_count": 6,
     "metadata": {},
     "output_type": "execute_result"
    }
   ],
   "source": [
    "data.head().style.hide_index()"
   ]
  },
  {
   "cell_type": "code",
   "execution_count": 7,
   "metadata": {},
   "outputs": [],
   "source": [
    "def estimate_area(df: pd.DataFrame) -> float:\n",
    "    \"\"\" \n",
    "    Function to estimate class area from sample refernce values\n",
    "    Input dataframe with number of lines equal the number of sample pixels,\n",
    "    and the following columns:\n",
    "    \"Stratum\" (strata IDs 1 - nstrata)\n",
    "    \"Reference\" (1 if the sample pixel was identified as target class in reference classification, and 0 otherwise)\n",
    "    \"Ah\" (stratum area, km²)\n",
    "    \"nh\" (number of sample pixels in stratum h)\n",
    "    Returns estimated class area in km²\n",
    "    From Tyukavina et al. (in review) \"Global trends of forest loss due to fire, 2001-2019\"\n",
    "    Supplementary Information, equations 1 and 6\n",
    "    \"\"\"\n",
    "    #Create a copy of columns \"Stratum\",\"nh\",\"Ah\" and a new column \"ForArea\", \n",
    "    #where u = Ah if the sample pixel has Reference == 1 (is of target class), and u = 0 if Reference == 0\n",
    "    df1 = pd.concat([df['Stratum'], df['Ah'], df['nh'], pd.Series(((df['Reference']).astype(bool)* df['Ah']) , name = 'ForArea')], axis = 1)\n",
    "    \n",
    "    ByStratum = df1.groupby(by = ['Stratum'])\n",
    "    \n",
    "    # Equation 6, compute area of target class in each stratum\n",
    "    areastrat = ByStratum.ForArea.sum()/ByStratum.nh.median()\n",
    "    # Equation 1, sum target class areas over all strata\n",
    "    area = areastrat.sum()\n",
    "\n",
    "    return area"
   ]
  },
  {
   "cell_type": "code",
   "execution_count": 8,
   "metadata": {},
   "outputs": [
    {
     "data": {
      "text/plain": [
       "1246840.4156019269"
      ]
     },
     "execution_count": 8,
     "metadata": {},
     "output_type": "execute_result"
    }
   ],
   "source": [
    "#Global sample-based area estimate\n",
    "estimate_area(data)"
   ]
  },
  {
   "cell_type": "code",
   "execution_count": 9,
   "metadata": {},
   "outputs": [
    {
     "data": {
      "text/html": [
       "<style  type=\"text/css\" >\n",
       "</style><table id=\"T_7e761bd8_ae86_11eb_914a_d0946613b163\" ><thead>    <tr>        <th class=\"col_heading level0 col0\" >Region</th>        <th class=\"col_heading level0 col1\" >area, km²</th>    </tr></thead><tbody>\n",
       "                <tr>\n",
       "                                <td id=\"T_7e761bd8_ae86_11eb_914a_d0946613b163row0_col0\" class=\"data row0 col0\" >AFR</td>\n",
       "                        <td id=\"T_7e761bd8_ae86_11eb_914a_d0946613b163row0_col1\" class=\"data row0 col1\" >17269.561088</td>\n",
       "            </tr>\n",
       "            <tr>\n",
       "                                <td id=\"T_7e761bd8_ae86_11eb_914a_d0946613b163row1_col0\" class=\"data row1 col0\" >EUR</td>\n",
       "                        <td id=\"T_7e761bd8_ae86_11eb_914a_d0946613b163row1_col1\" class=\"data row1 col1\" >558357.220921</td>\n",
       "            </tr>\n",
       "            <tr>\n",
       "                                <td id=\"T_7e761bd8_ae86_11eb_914a_d0946613b163row2_col0\" class=\"data row2 col0\" >LAM</td>\n",
       "                        <td id=\"T_7e761bd8_ae86_11eb_914a_d0946613b163row2_col1\" class=\"data row2 col1\" >138729.747392</td>\n",
       "            </tr>\n",
       "            <tr>\n",
       "                                <td id=\"T_7e761bd8_ae86_11eb_914a_d0946613b163row3_col0\" class=\"data row3 col0\" >NAM</td>\n",
       "                        <td id=\"T_7e761bd8_ae86_11eb_914a_d0946613b163row3_col1\" class=\"data row3 col1\" >411349.445717</td>\n",
       "            </tr>\n",
       "            <tr>\n",
       "                                <td id=\"T_7e761bd8_ae86_11eb_914a_d0946613b163row4_col0\" class=\"data row4 col0\" >SEA-AUS</td>\n",
       "                        <td id=\"T_7e761bd8_ae86_11eb_914a_d0946613b163row4_col1\" class=\"data row4 col1\" >121134.440484</td>\n",
       "            </tr>\n",
       "    </tbody></table>"
      ],
      "text/plain": [
       "<pandas.io.formats.style.Styler at 0x2a207d9c278>"
      ]
     },
     "execution_count": 9,
     "metadata": {},
     "output_type": "execute_result"
    }
   ],
   "source": [
    "#Sample-based area estimates by region\n",
    "data.groupby(by = [\"Region\"]).apply(estimate_area).reset_index(name='area, km²').style.hide_index()"
   ]
  },
  {
   "cell_type": "code",
   "execution_count": 10,
   "metadata": {},
   "outputs": [],
   "source": [
    "def estimate_area_SE(df: pd.DataFrame) -> float:\n",
    "    \"\"\" \n",
    "    Function to estimate Standard Error of the target class area estimated from sample refernce values\n",
    "    Input dataframe with number of lines equal the number of sample pixels,\n",
    "    and the following columns:\n",
    "    \"Stratum\" (strata IDs 1 - nstrata)\n",
    "    \"Reference\" (1 if the sample pixel was identified as target class in reference classification, and 0 otherwise)\n",
    "    \"Ah\" (stratum area, km²)\n",
    "    \"nh\" (number of sample pixels in stratum h)\n",
    "    Returns estimated SE of the target class area in km²\n",
    "    From Tyukavina et al. (in review) \"Global trends of forest loss due to fire, 2001-2019\"\n",
    "    Supplementary Information, equations 4 and 7\n",
    "    \"\"\"\n",
    "    #Create a copy of columns \"Stratum\",\"nh\" and a new column \"ForVar\", \n",
    "    #where u = Ah if the sample pixel is of the class being estimated and u = 0 if the sample pixel is not of that class\n",
    "    df1 = pd.concat([df['Stratum'],df['nh'], pd.Series(df['Reference'].astype(bool) * df['Ah'], name = 'ForVar')],axis = 1)\n",
    "    \n",
    "    ByStratum = df1.groupby(by = ['Stratum'])\n",
    "    \n",
    "    #Equation 7, compute variance for each stratum\n",
    "    StrataVar = ByStratum.ForVar.var() / ByStratum.nh.median() \n",
    "    #Equation 4, sum strata-specific variances\n",
    "    StrataVarSum = StrataVar.sum()\n",
    "    \n",
    "    #Compute SE of the estimated class area from a sum of strata variances\n",
    "    SE = np.sqrt(StrataVarSum)\n",
    "    \n",
    "    return SE"
   ]
  },
  {
   "cell_type": "code",
   "execution_count": 11,
   "metadata": {},
   "outputs": [
    {
     "data": {
      "text/plain": [
       "41425.870794353155"
      ]
     },
     "execution_count": 11,
     "metadata": {},
     "output_type": "execute_result"
    }
   ],
   "source": [
    "#Global estimate of area SE\n",
    "estimate_area_SE(data)"
   ]
  },
  {
   "cell_type": "code",
   "execution_count": 12,
   "metadata": {},
   "outputs": [
    {
     "data": {
      "text/html": [
       "<style  type=\"text/css\" >\n",
       "</style><table id=\"T_c6a5d34a_ae86_11eb_b2e2_d0946613b163\" ><thead>    <tr>        <th class=\"col_heading level0 col0\" >Region</th>        <th class=\"col_heading level0 col1\" >Area SE, km²</th>    </tr></thead><tbody>\n",
       "                <tr>\n",
       "                                <td id=\"T_c6a5d34a_ae86_11eb_b2e2_d0946613b163row0_col0\" class=\"data row0 col0\" >AFR</td>\n",
       "                        <td id=\"T_c6a5d34a_ae86_11eb_b2e2_d0946613b163row0_col1\" class=\"data row0 col1\" >6339.925588</td>\n",
       "            </tr>\n",
       "            <tr>\n",
       "                                <td id=\"T_c6a5d34a_ae86_11eb_b2e2_d0946613b163row1_col0\" class=\"data row1 col0\" >EUR</td>\n",
       "                        <td id=\"T_c6a5d34a_ae86_11eb_b2e2_d0946613b163row1_col1\" class=\"data row1 col1\" >30248.480823</td>\n",
       "            </tr>\n",
       "            <tr>\n",
       "                                <td id=\"T_c6a5d34a_ae86_11eb_b2e2_d0946613b163row2_col0\" class=\"data row2 col0\" >LAM</td>\n",
       "                        <td id=\"T_c6a5d34a_ae86_11eb_b2e2_d0946613b163row2_col1\" class=\"data row2 col1\" >17030.655984</td>\n",
       "            </tr>\n",
       "            <tr>\n",
       "                                <td id=\"T_c6a5d34a_ae86_11eb_b2e2_d0946613b163row3_col0\" class=\"data row3 col0\" >NAM</td>\n",
       "                        <td id=\"T_c6a5d34a_ae86_11eb_b2e2_d0946613b163row3_col1\" class=\"data row3 col1\" >16616.803306</td>\n",
       "            </tr>\n",
       "            <tr>\n",
       "                                <td id=\"T_c6a5d34a_ae86_11eb_b2e2_d0946613b163row4_col0\" class=\"data row4 col0\" >SEA-AUS</td>\n",
       "                        <td id=\"T_c6a5d34a_ae86_11eb_b2e2_d0946613b163row4_col1\" class=\"data row4 col1\" >13967.494056</td>\n",
       "            </tr>\n",
       "    </tbody></table>"
      ],
      "text/plain": [
       "<pandas.io.formats.style.Styler at 0x2a207d4a400>"
      ]
     },
     "execution_count": 12,
     "metadata": {},
     "output_type": "execute_result"
    }
   ],
   "source": [
    "#Standard error of area estimated by region\n",
    "data.groupby(by = [\"Region\"]).apply(estimate_area_SE).reset_index(name='Area SE, km²').style.hide_index()"
   ]
  },
  {
   "cell_type": "code",
   "execution_count": 13,
   "metadata": {},
   "outputs": [],
   "source": [
    "def estimate_OA (df: pd.DataFrame) -> float:\n",
    "    \"\"\" \n",
    "    Function to estimate Overall Accuracy of the map \n",
    "    Input dataframe with number of lines equal the number of sample pixels,\n",
    "    ans the following columns:\n",
    "    \"Stratum\" (strata IDs 1 - nstrata)\n",
    "    \"Map\" (1 if the sample pixel was mapped as target class, and 0 otherwise)\n",
    "    \"Reference\" (1 if the sample pixel was identified as target class in reference classification, and 0 otherwise)\n",
    "    \"Ah\" (stratum area, km²)\n",
    "    \"nh\" (number of sample pixels in stratum h)\n",
    "    Returns estimated Overall Accuracy of the map expressed as proportion (0-1) of the total study area\n",
    "    From Tyukavina et al. (in review) \"Global trends of forest loss due to fire, 2001-2019\"\n",
    "    Supplementary Information, equations 1 and 6, modified for Overall Accuracy computation:\n",
    "    Y^h is defnied as area of correctly classified pixels within a stratum\n",
    "    \"\"\"\n",
    "    #Create a copy of columns \"Stratum\",\"nh\",\"Ah\" and a new column \"Correct, \n",
    "    #where u = Ah if the sample pixel is correctly classified, and u = 0 if sample is incorrectly classified\n",
    "    df1 = pd.concat([df['Stratum'], df['Ah'], df['nh'], pd.Series((df['Reference'] == df['Map'])* df['Ah'] , name = 'Correct')], axis = 1)\n",
    "    \n",
    "    ByStratum = df1.groupby(by = ['Stratum'])\n",
    "    \n",
    "     # Equation 6, compute correctly classified area in each stratum\n",
    "    CorrectlyClassified = ByStratum.Correct.sum()/ByStratum.nh.median()\n",
    "    # Equation 1, sum correctly classified areas accross all strata\n",
    "    CorrectlyClassifiedSum = CorrectlyClassified.sum()\n",
    "    \n",
    "    #Derive an Overall Accuracy metric by dividing the sum of correctly classified areas by the total study area\n",
    "    OA = CorrectlyClassifiedSum / ((ByStratum.Ah.median()).sum())\n",
    "\n",
    "    return OA"
   ]
  },
  {
   "cell_type": "code",
   "execution_count": 14,
   "metadata": {},
   "outputs": [
    {
     "data": {
      "text/plain": [
       "0.9973937396815894"
      ]
     },
     "execution_count": 14,
     "metadata": {},
     "output_type": "execute_result"
    }
   ],
   "source": [
    "#Global estimate of map Overall Accuracy\n",
    "estimate_OA(data)"
   ]
  },
  {
   "cell_type": "code",
   "execution_count": 15,
   "metadata": {},
   "outputs": [
    {
     "data": {
      "text/html": [
       "<style  type=\"text/css\" >\n",
       "</style><table id=\"T_d6caef8a_ae86_11eb_922c_d0946613b163\" ><thead>    <tr>        <th class=\"col_heading level0 col0\" >Region</th>        <th class=\"col_heading level0 col1\" >Overall Accuracy</th>    </tr></thead><tbody>\n",
       "                <tr>\n",
       "                                <td id=\"T_d6caef8a_ae86_11eb_922c_d0946613b163row0_col0\" class=\"data row0 col0\" >AFR</td>\n",
       "                        <td id=\"T_d6caef8a_ae86_11eb_922c_d0946613b163row0_col1\" class=\"data row0 col1\" >0.990780</td>\n",
       "            </tr>\n",
       "            <tr>\n",
       "                                <td id=\"T_d6caef8a_ae86_11eb_922c_d0946613b163row1_col0\" class=\"data row1 col0\" >EUR</td>\n",
       "                        <td id=\"T_d6caef8a_ae86_11eb_922c_d0946613b163row1_col1\" class=\"data row1 col1\" >0.997034</td>\n",
       "            </tr>\n",
       "            <tr>\n",
       "                                <td id=\"T_d6caef8a_ae86_11eb_922c_d0946613b163row2_col0\" class=\"data row2 col0\" >LAM</td>\n",
       "                        <td id=\"T_d6caef8a_ae86_11eb_922c_d0946613b163row2_col1\" class=\"data row2 col1\" >0.995756</td>\n",
       "            </tr>\n",
       "            <tr>\n",
       "                                <td id=\"T_d6caef8a_ae86_11eb_922c_d0946613b163row3_col0\" class=\"data row3 col0\" >NAM</td>\n",
       "                        <td id=\"T_d6caef8a_ae86_11eb_922c_d0946613b163row3_col1\" class=\"data row3 col1\" >0.996671</td>\n",
       "            </tr>\n",
       "            <tr>\n",
       "                                <td id=\"T_d6caef8a_ae86_11eb_922c_d0946613b163row4_col0\" class=\"data row4 col0\" >SEA-AUS</td>\n",
       "                        <td id=\"T_d6caef8a_ae86_11eb_922c_d0946613b163row4_col1\" class=\"data row4 col1\" >0.996804</td>\n",
       "            </tr>\n",
       "    </tbody></table>"
      ],
      "text/plain": [
       "<pandas.io.formats.style.Styler at 0x2a20640ce10>"
      ]
     },
     "execution_count": 15,
     "metadata": {},
     "output_type": "execute_result"
    }
   ],
   "source": [
    "#Overall accuracy estimated by region\n",
    "data.groupby(by = [\"Region\"]).apply(estimate_OA).reset_index(name='Overall Accuracy').style.hide_index()"
   ]
  },
  {
   "cell_type": "code",
   "execution_count": 16,
   "metadata": {},
   "outputs": [],
   "source": [
    "def estimate_OA_SE(df: pd.DataFrame) -> float:\n",
    "    \"\"\" \n",
    "    Function to estimate Standard Error of map Overall Accuracy\n",
    "    Input dataframe with number of lines equal the number of sample pixels,\n",
    "    and the following columns:\n",
    "    \"Stratum\" (strata IDs 1 - nstrata)\n",
    "    \"Map\" (1 if the sample pixel was mapped as target class, and 0 otherwise)\n",
    "    \"Reference\" (1 if the sample pixel was identified as target class in reference classification, and 0 otherwise)\n",
    "    \"Ah\" (stratum area, km²)\n",
    "    \"nh\" (number of sample pixels in stratum h)\n",
    "    Returns estimated SE of the Overall Accuracy expressed as proportion (0-1) of the total study area\n",
    "    From Tyukavina et al. (in review) \"Global trends of forest loss due to fire, 2001-2019\"\n",
    "    Supplementary Information, equations 4 and 7, modified for Overall Accuracy computation:\n",
    "    u = Ah if the sample pixel is classified correctly and u = 0 if the sample pixel is not classified correctly.\n",
    "    \"\"\"\n",
    "    #Create a copy of columns \"Stratum\",\"nh\",\"Ah\" and a new column \"Correct\", \n",
    "    #where u = Ah if the sample pixel has Reference == 1 (is of target class), and u = 0 if Reference == 0\n",
    "    \n",
    "    df1 = pd.concat([df['Stratum'], df['Ah'], df['nh'], pd.Series((df['Reference'] == df['Map']) * df['Ah'], name = 'Correct')], axis = 1)\n",
    "    \n",
    "    ByStratum = df1.groupby(by = ['Stratum'])\n",
    "    \n",
    "    #Equation 7, compute variance for each stratum\n",
    "    StrataVar = ByStratum.Correct.var() / ByStratum.nh.median() \n",
    "    #Equation 4, sum strata-specific variances\n",
    "    StrataVarSum = StrataVar.sum()\n",
    "    \n",
    "    #Compute SE of the estimated class area from a sum of strata variances divided by the total study area\n",
    "    SE = np.sqrt(StrataVarSum)/((ByStratum.Ah.median()).sum())\n",
    "    \n",
    "    return SE"
   ]
  },
  {
   "cell_type": "code",
   "execution_count": 17,
   "metadata": {},
   "outputs": [
    {
     "data": {
      "text/plain": [
       "0.0002784464844875971"
      ]
     },
     "execution_count": 17,
     "metadata": {},
     "output_type": "execute_result"
    }
   ],
   "source": [
    "#Global estimate of Standard Error of Overall Accuracy\n",
    "estimate_OA_SE(data)"
   ]
  },
  {
   "cell_type": "code",
   "execution_count": 18,
   "metadata": {},
   "outputs": [
    {
     "data": {
      "text/html": [
       "<style  type=\"text/css\" >\n",
       "</style><table id=\"T_dec8f246_ae86_11eb_9473_d0946613b163\" ><thead>    <tr>        <th class=\"col_heading level0 col0\" >Region</th>        <th class=\"col_heading level0 col1\" >OA SE</th>    </tr></thead><tbody>\n",
       "                <tr>\n",
       "                                <td id=\"T_dec8f246_ae86_11eb_9473_d0946613b163row0_col0\" class=\"data row0 col0\" >AFR</td>\n",
       "                        <td id=\"T_dec8f246_ae86_11eb_9473_d0946613b163row0_col1\" class=\"data row0 col1\" >0.000195</td>\n",
       "            </tr>\n",
       "            <tr>\n",
       "                                <td id=\"T_dec8f246_ae86_11eb_9473_d0946613b163row1_col0\" class=\"data row1 col0\" >EUR</td>\n",
       "                        <td id=\"T_dec8f246_ae86_11eb_9473_d0946613b163row1_col1\" class=\"data row1 col1\" >0.000677</td>\n",
       "            </tr>\n",
       "            <tr>\n",
       "                                <td id=\"T_dec8f246_ae86_11eb_9473_d0946613b163row2_col0\" class=\"data row2 col0\" >LAM</td>\n",
       "                        <td id=\"T_dec8f246_ae86_11eb_9473_d0946613b163row2_col1\" class=\"data row2 col1\" >0.000824</td>\n",
       "            </tr>\n",
       "            <tr>\n",
       "                                <td id=\"T_dec8f246_ae86_11eb_9473_d0946613b163row3_col0\" class=\"data row3 col0\" >NAM</td>\n",
       "                        <td id=\"T_dec8f246_ae86_11eb_9473_d0946613b163row3_col1\" class=\"data row3 col1\" >0.000862</td>\n",
       "            </tr>\n",
       "            <tr>\n",
       "                                <td id=\"T_dec8f246_ae86_11eb_9473_d0946613b163row4_col0\" class=\"data row4 col0\" >SEA-AUS</td>\n",
       "                        <td id=\"T_dec8f246_ae86_11eb_9473_d0946613b163row4_col1\" class=\"data row4 col1\" >0.000564</td>\n",
       "            </tr>\n",
       "    </tbody></table>"
      ],
      "text/plain": [
       "<pandas.io.formats.style.Styler at 0x2a2080c4400>"
      ]
     },
     "execution_count": 18,
     "metadata": {},
     "output_type": "execute_result"
    }
   ],
   "source": [
    "#Standard Error of Overall Accuracy estimated by region\n",
    "data.groupby(by = [\"Region\"]).apply(estimate_OA_SE).reset_index(name='OA SE').style.hide_index()"
   ]
  },
  {
   "cell_type": "code",
   "execution_count": 19,
   "metadata": {},
   "outputs": [],
   "source": [
    "def estimate_UA (df: pd.DataFrame) -> float:\n",
    "    \"\"\" \n",
    "    Function to estimate User's Accuracy of target class \n",
    "    Input dataframe with number of lines equal the number of sample pixels,\n",
    "    and the following columns:\n",
    "    \"Map\" (1 if the sample pixel was mapped as target class, and 0 otherwise)\n",
    "    \"Reference\" (1 if the sample pixel was identified as target class in reference classification, and 0 otherwise)\n",
    "    \"Ah\" (stratum area, km²)\n",
    "    \"nh\" (number of sample pixels in stratum h)\n",
    "    \"au\" (area of sampled pixel in km²)\n",
    "    Returns estimated User's Accuracy of target class expressed as proportion (0-1) of the total study area\n",
    "    From Tyukavina et al. (in review) \"Global trends of forest loss due to fire, 2001-2019\"\n",
    "    Supplementary Information, equations 8 - 11\n",
    "    \"\"\"\n",
    "    #Create a copy of columns \"Stratum\",\"nh\", \"Ah\" and new columns: \n",
    "    #\"Correct\", where yu = au if the sample pixel is correctly classified as target class, and yu = 0 otherwise\n",
    "    #\"Mapped\", where zu = au if the sample pixel is mapped as target class, and zu = 0 otherwise \n",
    "    df1 = pd.concat([df['nh'],df['Ah'],df['au'], pd.Series((((df['Reference'] == 1) & (df['Map'] == 1)).astype(bool) * df['au']) , name = 'Correct'),\n",
    "                    pd.Series(((df['Map'] == 1).astype(bool)* df['au']) , name = 'Mapped')],axis = 1)\n",
    "    \n",
    "    #Equation 11 Compute inclusion probability for each sampled pixel\n",
    "    df1['PIu'] = df1['nh'] * df1['au'] / df1['Ah']\n",
    "    \n",
    "    #Equation 9\n",
    "    Yest = (df1.Correct/df1.PIu).sum()\n",
    "    #Equation 10\n",
    "    Zest = (df1.Mapped/df1.PIu).sum()\n",
    "    \n",
    "    #Equation 8\n",
    "    UA = Yest/Zest\n",
    "\n",
    "    return UA"
   ]
  },
  {
   "cell_type": "code",
   "execution_count": 20,
   "metadata": {},
   "outputs": [
    {
     "data": {
      "text/plain": [
       "0.9000435462914481"
      ]
     },
     "execution_count": 20,
     "metadata": {},
     "output_type": "execute_result"
    }
   ],
   "source": [
    "#Global estimate of User's Accuracy\n",
    "estimate_UA(data)"
   ]
  },
  {
   "cell_type": "code",
   "execution_count": 21,
   "metadata": {},
   "outputs": [
    {
     "data": {
      "text/html": [
       "<style  type=\"text/css\" >\n",
       "</style><table id=\"T_e5d3089c_ae86_11eb_965d_d0946613b163\" ><thead>    <tr>        <th class=\"col_heading level0 col0\" >Region</th>        <th class=\"col_heading level0 col1\" >User's Accuracy</th>    </tr></thead><tbody>\n",
       "                <tr>\n",
       "                                <td id=\"T_e5d3089c_ae86_11eb_965d_d0946613b163row0_col0\" class=\"data row0 col0\" >AFR</td>\n",
       "                        <td id=\"T_e5d3089c_ae86_11eb_965d_d0946613b163row0_col1\" class=\"data row0 col1\" >0.612500</td>\n",
       "            </tr>\n",
       "            <tr>\n",
       "                                <td id=\"T_e5d3089c_ae86_11eb_965d_d0946613b163row1_col0\" class=\"data row1 col0\" >EUR</td>\n",
       "                        <td id=\"T_e5d3089c_ae86_11eb_965d_d0946613b163row1_col1\" class=\"data row1 col1\" >0.932203</td>\n",
       "            </tr>\n",
       "            <tr>\n",
       "                                <td id=\"T_e5d3089c_ae86_11eb_965d_d0946613b163row2_col0\" class=\"data row2 col0\" >LAM</td>\n",
       "                        <td id=\"T_e5d3089c_ae86_11eb_965d_d0946613b163row2_col1\" class=\"data row2 col1\" >0.743243</td>\n",
       "            </tr>\n",
       "            <tr>\n",
       "                                <td id=\"T_e5d3089c_ae86_11eb_965d_d0946613b163row3_col0\" class=\"data row3 col0\" >NAM</td>\n",
       "                        <td id=\"T_e5d3089c_ae86_11eb_965d_d0946613b163row3_col1\" class=\"data row3 col1\" >0.956989</td>\n",
       "            </tr>\n",
       "            <tr>\n",
       "                                <td id=\"T_e5d3089c_ae86_11eb_965d_d0946613b163row4_col0\" class=\"data row4 col0\" >SEA-AUS</td>\n",
       "                        <td id=\"T_e5d3089c_ae86_11eb_965d_d0946613b163row4_col1\" class=\"data row4 col1\" >0.727273</td>\n",
       "            </tr>\n",
       "    </tbody></table>"
      ],
      "text/plain": [
       "<pandas.io.formats.style.Styler at 0x2a2080e7d30>"
      ]
     },
     "execution_count": 21,
     "metadata": {},
     "output_type": "execute_result"
    }
   ],
   "source": [
    "#User's Accuracy estimated by region\n",
    "data.groupby(by = [\"Region\"]).apply(estimate_UA).reset_index(name ='User\\'s Accuracy').style.hide_index()"
   ]
  },
  {
   "cell_type": "code",
   "execution_count": 22,
   "metadata": {},
   "outputs": [],
   "source": [
    "def estimate_PA (df: pd.DataFrame) -> float:\n",
    "    \"\"\" \n",
    "    Function to estimate Producer's Accuracy of target class \n",
    "    Input dataframe with number of lines equal the number of sample pixels,\n",
    "    and the following columns:\n",
    "    \"Map\" (1 if the sample pixel was mapped as target class, and 0 otherwise)\n",
    "    \"Reference\" (1 if the sample pixel was identified as target class in reference classification, and 0 otherwise)\n",
    "    \"Ah\" (stratum area, km²)\n",
    "    \"nh\" (number of sample pixels in stratum h)\n",
    "    \"au\" (area of sample pixel in km²)\n",
    "    Returns estimated Producer's Accuracy of target class expressed as proportion (0-1) of the total study area\n",
    "    From Tyukavina et al. (in review) \"Global trends of forest loss due to fire, 2001-2019\"\n",
    "    Supplementary Information, equations 8 - 11\n",
    "    \"\"\"\n",
    "    #Create a copy of columns \"Stratum\",\"nh\", \"Ah\" and new columns: \n",
    "    #\"Correct\", where yu = au if the sample pixel is correctly classified as target class, and yu = 0 otherwise\n",
    "    #\"Ref\", where zu = au if the sample pixel is mapped as target class, and zu = 0 otherwise \n",
    "    df1 = pd.concat([df['nh'],df['Ah'],df['au'], pd.Series((((df['Reference'] == 1) & (df['Map'] == 1)).astype(bool) * df['au']) , name = 'Correct'),\n",
    "                    pd.Series(((df['Reference'] == 1).astype(bool)* df['au']) , name = 'Ref')],axis = 1)\n",
    "    \n",
    "    #Equation 11 Compute inclusion probability for each sampled pixel\n",
    "    df1['PIu'] = df1['nh'] * df1['au'] / df1['Ah']\n",
    "    \n",
    "    #Equation 9\n",
    "    Yest = (df1.Correct/df1.PIu).sum()\n",
    "    #Equation 10\n",
    "    Zest = (df1.Ref/df1.PIu).sum()\n",
    "    \n",
    "    #Equation 8\n",
    "    PA = Yest/Zest\n",
    "\n",
    "    return PA"
   ]
  },
  {
   "cell_type": "code",
   "execution_count": 23,
   "metadata": {},
   "outputs": [
    {
     "data": {
      "text/plain": [
       "0.8229112489591839"
      ]
     },
     "execution_count": 23,
     "metadata": {},
     "output_type": "execute_result"
    }
   ],
   "source": [
    "#Global estimate of Producer's Accuracy\n",
    "estimate_PA(data)"
   ]
  },
  {
   "cell_type": "code",
   "execution_count": 24,
   "metadata": {},
   "outputs": [
    {
     "data": {
      "text/html": [
       "<style  type=\"text/css\" >\n",
       "</style><table id=\"T_eb3746d8_ae86_11eb_a6cb_d0946613b163\" ><thead>    <tr>        <th class=\"col_heading level0 col0\" >Region</th>        <th class=\"col_heading level0 col1\" >Producer's Accuracy</th>    </tr></thead><tbody>\n",
       "                <tr>\n",
       "                                <td id=\"T_eb3746d8_ae86_11eb_a6cb_d0946613b163row0_col0\" class=\"data row0 col0\" >AFR</td>\n",
       "                        <td id=\"T_eb3746d8_ae86_11eb_a6cb_d0946613b163row0_col1\" class=\"data row0 col1\" >0.411171</td>\n",
       "            </tr>\n",
       "            <tr>\n",
       "                                <td id=\"T_eb3746d8_ae86_11eb_a6cb_d0946613b163row1_col0\" class=\"data row1 col0\" >EUR</td>\n",
       "                        <td id=\"T_eb3746d8_ae86_11eb_a6cb_d0946613b163row1_col1\" class=\"data row1 col1\" >0.879371</td>\n",
       "            </tr>\n",
       "            <tr>\n",
       "                                <td id=\"T_eb3746d8_ae86_11eb_a6cb_d0946613b163row2_col0\" class=\"data row2 col0\" >LAM</td>\n",
       "                        <td id=\"T_eb3746d8_ae86_11eb_a6cb_d0946613b163row2_col1\" class=\"data row2 col1\" >0.585581</td>\n",
       "            </tr>\n",
       "            <tr>\n",
       "                                <td id=\"T_eb3746d8_ae86_11eb_a6cb_d0946613b163row3_col0\" class=\"data row3 col0\" >NAM</td>\n",
       "                        <td id=\"T_eb3746d8_ae86_11eb_a6cb_d0946613b163row3_col1\" class=\"data row3 col1\" >0.897322</td>\n",
       "            </tr>\n",
       "            <tr>\n",
       "                                <td id=\"T_eb3746d8_ae86_11eb_a6cb_d0946613b163row4_col0\" class=\"data row4 col0\" >SEA-AUS</td>\n",
       "                        <td id=\"T_eb3746d8_ae86_11eb_a6cb_d0946613b163row4_col1\" class=\"data row4 col1\" >0.640487</td>\n",
       "            </tr>\n",
       "    </tbody></table>"
      ],
      "text/plain": [
       "<pandas.io.formats.style.Styler at 0x2a2080e79b0>"
      ]
     },
     "execution_count": 24,
     "metadata": {},
     "output_type": "execute_result"
    }
   ],
   "source": [
    "#Producer's Accuracy estimated by region\n",
    "data.groupby(by = [\"Region\"]).apply(estimate_PA).reset_index(name ='Producer\\'s Accuracy').style.hide_index()"
   ]
  },
  {
   "cell_type": "code",
   "execution_count": 25,
   "metadata": {},
   "outputs": [],
   "source": [
    "def estimate_UA_SE(df: pd.DataFrame) -> float:\n",
    "    \"\"\" \n",
    "    Function to estimate the Standard Error of User's Accuracy of target class \n",
    "    Input dataframe with number of lines equal the number of sample pixels,\n",
    "    and the following columns:\n",
    "    \"ID\" (sampled pixel ID)\n",
    "    \"Stratum\" (strata IDs 1 - nstrata)\n",
    "    \"Map\" (1 if the sample pixel was mapped as target class, and 0 otherwise)\n",
    "    \"Reference\" (1 if the sample pixel was identified as target class in reference classification, and 0 otherwise)\n",
    "    \"au\" (area of sample pixel in km²)\n",
    "    \"nh\" (number of sample pixels in stratum h)\n",
    "    \"Ah\" (stratum area, km²)\n",
    "    Returns estimated SE of User's Accuracy of target class expressed as proportion (0-1) of the total study area\n",
    "    From Tyukavina et al. (in review) \"Global trends of forest loss due to fire, 2001-2019\"\n",
    "    Supplementary Information, equations 8 - 13\n",
    "    \"\"\"\n",
    "    #Create a copy of columns \"Stratum\",\"nh\", \"Ah\" and new columns: \n",
    "    #\"Correct\", where yu = au if the sample pixel is correctly classified as target class, and yu = 0 otherwise\n",
    "    #\"Mapped\", where zu = au if the sample pixel is mapped as target class, and zu = 0 otherwise \n",
    "    df1 = pd.concat([df[['au','ID','Stratum','nh','Ah']], \n",
    "                     pd.Series((((df['Reference'] == 1) & (df['Map'] == 1)).astype(bool) * df['au']) , name = 'Correct'),\n",
    "                     pd.Series(((df['Map'] == 1).astype(bool)* df['au']) , name = 'Mapped')],axis = 1)\n",
    "    \n",
    "    #Equation 11 Compute inclusion probability for each sampled pixel\n",
    "    df1['PIu'] = df1['nh'] * df1['au'] / df1['Ah']\n",
    "    \n",
    "    #Equations 8-10\n",
    "    Yest = (df1.Correct/df1.PIu).sum()\n",
    "    Zest = (df1.Mapped/df1.PIu).sum()\n",
    "    UA = Yest/Zest\n",
    "    \n",
    "    # Equation 13\n",
    "    var_u =(1-df1['PIu'])*(df1['Correct'] - UA * df1['Mapped'])*(df1['Correct'] - UA * df1['Mapped'])/ (df1['PIu']*df1['PIu'])\n",
    "    var = np.sum(var_u) / Zest ** 2\n",
    "    \n",
    "    SE = np.sqrt(var)\n",
    "     \n",
    "    return SE"
   ]
  },
  {
   "cell_type": "code",
   "execution_count": 26,
   "metadata": {},
   "outputs": [
    {
     "data": {
      "text/plain": [
       "0.015110121130097904"
      ]
     },
     "execution_count": 26,
     "metadata": {},
     "output_type": "execute_result"
    }
   ],
   "source": [
    "#Global estimate of Standard Error of User's Accuracy\n",
    "estimate_UA_SE(data)"
   ]
  },
  {
   "cell_type": "code",
   "execution_count": 27,
   "metadata": {},
   "outputs": [
    {
     "data": {
      "text/html": [
       "<style  type=\"text/css\" >\n",
       "</style><table id=\"T_f6717682_ae86_11eb_b165_d0946613b163\" ><thead>    <tr>        <th class=\"col_heading level0 col0\" >Region</th>        <th class=\"col_heading level0 col1\" >UA SE</th>    </tr></thead><tbody>\n",
       "                <tr>\n",
       "                                <td id=\"T_f6717682_ae86_11eb_b165_d0946613b163row0_col0\" class=\"data row0 col0\" >AFR</td>\n",
       "                        <td id=\"T_f6717682_ae86_11eb_b165_d0946613b163row0_col1\" class=\"data row0 col1\" >0.054468</td>\n",
       "            </tr>\n",
       "            <tr>\n",
       "                                <td id=\"T_f6717682_ae86_11eb_b165_d0946613b163row1_col0\" class=\"data row1 col0\" >EUR</td>\n",
       "                        <td id=\"T_f6717682_ae86_11eb_b165_d0946613b163row1_col1\" class=\"data row1 col1\" >0.023143</td>\n",
       "            </tr>\n",
       "            <tr>\n",
       "                                <td id=\"T_f6717682_ae86_11eb_b165_d0946613b163row2_col0\" class=\"data row2 col0\" >LAM</td>\n",
       "                        <td id=\"T_f6717682_ae86_11eb_b165_d0946613b163row2_col1\" class=\"data row2 col1\" >0.050782</td>\n",
       "            </tr>\n",
       "            <tr>\n",
       "                                <td id=\"T_f6717682_ae86_11eb_b165_d0946613b163row3_col0\" class=\"data row3 col0\" >NAM</td>\n",
       "                        <td id=\"T_f6717682_ae86_11eb_b165_d0946613b163row3_col1\" class=\"data row3 col1\" >0.021038</td>\n",
       "            </tr>\n",
       "            <tr>\n",
       "                                <td id=\"T_f6717682_ae86_11eb_b165_d0946613b163row4_col0\" class=\"data row4 col0\" >SEA-AUS</td>\n",
       "                        <td id=\"T_f6717682_ae86_11eb_b165_d0946613b163row4_col1\" class=\"data row4 col1\" >0.054820</td>\n",
       "            </tr>\n",
       "    </tbody></table>"
      ],
      "text/plain": [
       "<pandas.io.formats.style.Styler at 0x2a20802fef0>"
      ]
     },
     "execution_count": 27,
     "metadata": {},
     "output_type": "execute_result"
    }
   ],
   "source": [
    "#Standard Error of User's Accuracy estimated by region\n",
    "data.groupby(by = [\"Region\"]).apply(estimate_UA_SE).reset_index(name ='UA SE').style.hide_index()"
   ]
  },
  {
   "cell_type": "code",
   "execution_count": 28,
   "metadata": {},
   "outputs": [],
   "source": [
    "def estimate_PA_SE (df: pd.DataFrame) -> float:\n",
    "    \"\"\" \n",
    "    Function to estimate the Standard Error of Producer's Accuracy of target class \n",
    "    Input dataframe with number of lines equal the number of sample pixels,\n",
    "    and the following columns:\n",
    "    \"ID\" (sampled pixel ID)\n",
    "    \"Stratum\" (strata IDs 1 - nstrata)\n",
    "    \"Map\" (1 if the sample pixel was mapped as target class, and 0 otherwise)\n",
    "    \"Reference\" (1 if the sample pixel was identified as target class in reference classification, and 0 otherwise)\n",
    "    \"au\" (area of sample pixel in km²)\n",
    "    \"nh\" (number of sample pixels in stratum h)\n",
    "    \"Ah\" (stratum area, km²)\n",
    "    Returns estimated SE of Producer's Accuracy of target class expressed as proportion (0-1) of the total study area\n",
    "    From Tyukavina et al. (in review) \"Global trends of forest loss due to fire, 2001-2019\"\n",
    "    Supplementary Information, equations 8 - 13\n",
    "    \"\"\"\n",
    "    #Create a copy of columns \"Stratum\",\"nh\", \"Ah\" and new columns: \n",
    "    #\"Correct\", where yu = au if the sample pixel is correctly classified as target class, and yu = 0 otherwise\n",
    "    #\"Ref\", where zu = au if the sample pixel is mapped as target class, and zu = 0 otherwise \n",
    "    df1 = pd.concat([df[['au','ID','Stratum','nh','Ah']],\n",
    "                     pd.Series((((df['Reference'] == 1) & (df['Map'] == 1)).astype(bool) * df['au']) , name = 'Correct'),\n",
    "                     pd.Series(((df['Reference'] == 1).astype(bool)* df['au']) , name = 'Ref')],axis = 1)\n",
    "   \n",
    "    #Equation 11 Compute inclusion probability for each sampled pixel\n",
    "    df1['PIu'] = df1['nh'] * df1['au'] / df1['Ah']\n",
    "    \n",
    "    #Equations 8-10\n",
    "    Yest = (df1.Correct/df1.PIu).sum()\n",
    "    Zest = (df1.Ref/df1.PIu).sum()\n",
    "    PA = Yest/Zest\n",
    "    \n",
    "    # Equation 13\n",
    "    var_u =(1-df1['PIu'])*(df1['Correct'] - PA * df1['Ref'])*(df1['Correct'] - PA * df1['Ref'])/ (df1['PIu']*df1['PIu'])\n",
    "    var = np.sum(var_u) / Zest ** 2\n",
    "    \n",
    "    SE = np.sqrt(var)\n",
    "     \n",
    "    return SE"
   ]
  },
  {
   "cell_type": "code",
   "execution_count": 29,
   "metadata": {},
   "outputs": [
    {
     "data": {
      "text/plain": [
       "0.023132087307044035"
      ]
     },
     "execution_count": 29,
     "metadata": {},
     "output_type": "execute_result"
    }
   ],
   "source": [
    "#Global estimate of Standard Error of Producer's Accuracy\n",
    "estimate_PA_SE(data)"
   ]
  },
  {
   "cell_type": "code",
   "execution_count": 30,
   "metadata": {},
   "outputs": [
    {
     "data": {
      "text/html": [
       "<style  type=\"text/css\" >\n",
       "</style><table id=\"T_f83e20c0_ae86_11eb_a2a4_d0946613b163\" ><thead>    <tr>        <th class=\"col_heading level0 col0\" >Region</th>        <th class=\"col_heading level0 col1\" >PA SE</th>    </tr></thead><tbody>\n",
       "                <tr>\n",
       "                                <td id=\"T_f83e20c0_ae86_11eb_a2a4_d0946613b163row0_col0\" class=\"data row0 col0\" >AFR</td>\n",
       "                        <td id=\"T_f83e20c0_ae86_11eb_a2a4_d0946613b163row0_col1\" class=\"data row0 col1\" >0.154589</td>\n",
       "            </tr>\n",
       "            <tr>\n",
       "                                <td id=\"T_f83e20c0_ae86_11eb_a2a4_d0946613b163row1_col0\" class=\"data row1 col0\" >EUR</td>\n",
       "                        <td id=\"T_f83e20c0_ae86_11eb_a2a4_d0946613b163row1_col1\" class=\"data row1 col1\" >0.034013</td>\n",
       "            </tr>\n",
       "            <tr>\n",
       "                                <td id=\"T_f83e20c0_ae86_11eb_a2a4_d0946613b163row2_col0\" class=\"data row2 col0\" >LAM</td>\n",
       "                        <td id=\"T_f83e20c0_ae86_11eb_a2a4_d0946613b163row2_col1\" class=\"data row2 col1\" >0.074619</td>\n",
       "            </tr>\n",
       "            <tr>\n",
       "                                <td id=\"T_f83e20c0_ae86_11eb_a2a4_d0946613b163row3_col0\" class=\"data row3 col0\" >NAM</td>\n",
       "                        <td id=\"T_f83e20c0_ae86_11eb_a2a4_d0946613b163row3_col1\" class=\"data row3 col1\" >0.030730</td>\n",
       "            </tr>\n",
       "            <tr>\n",
       "                                <td id=\"T_f83e20c0_ae86_11eb_a2a4_d0946613b163row4_col0\" class=\"data row4 col0\" >SEA-AUS</td>\n",
       "                        <td id=\"T_f83e20c0_ae86_11eb_a2a4_d0946613b163row4_col1\" class=\"data row4 col1\" >0.072515</td>\n",
       "            </tr>\n",
       "    </tbody></table>"
      ],
      "text/plain": [
       "<pandas.io.formats.style.Styler at 0x2a2080c46d8>"
      ]
     },
     "execution_count": 30,
     "metadata": {},
     "output_type": "execute_result"
    }
   ],
   "source": [
    "#Standard Error of Producer's Accuracy estimated by region\n",
    "data.groupby(by = [\"Region\"]).apply(estimate_PA_SE).reset_index(name ='PA SE').style.hide_index()"
   ]
  },
  {
   "cell_type": "code",
   "execution_count": 31,
   "metadata": {},
   "outputs": [
    {
     "data": {
      "text/html": [
       "<style  type=\"text/css\" >\n",
       "</style><table id=\"T_fdca3b0a_ae86_11eb_b19f_d0946613b163\" ><thead>    <tr>        <th class=\"col_heading level0 col0\" >area, km²</th>        <th class=\"col_heading level0 col1\" >area SE, km²</th>        <th class=\"col_heading level0 col2\" >OA</th>        <th class=\"col_heading level0 col3\" >OA SE</th>        <th class=\"col_heading level0 col4\" >UA</th>        <th class=\"col_heading level0 col5\" >UA SE</th>        <th class=\"col_heading level0 col6\" >PA</th>        <th class=\"col_heading level0 col7\" >PA SE</th>    </tr></thead><tbody>\n",
       "                <tr>\n",
       "                                <td id=\"T_fdca3b0a_ae86_11eb_b19f_d0946613b163row0_col0\" class=\"data row0 col0\" >1246840.42</td>\n",
       "                        <td id=\"T_fdca3b0a_ae86_11eb_b19f_d0946613b163row0_col1\" class=\"data row0 col1\" >41425.87</td>\n",
       "                        <td id=\"T_fdca3b0a_ae86_11eb_b19f_d0946613b163row0_col2\" class=\"data row0 col2\" >1.00</td>\n",
       "                        <td id=\"T_fdca3b0a_ae86_11eb_b19f_d0946613b163row0_col3\" class=\"data row0 col3\" >0.00</td>\n",
       "                        <td id=\"T_fdca3b0a_ae86_11eb_b19f_d0946613b163row0_col4\" class=\"data row0 col4\" >0.90</td>\n",
       "                        <td id=\"T_fdca3b0a_ae86_11eb_b19f_d0946613b163row0_col5\" class=\"data row0 col5\" >0.02</td>\n",
       "                        <td id=\"T_fdca3b0a_ae86_11eb_b19f_d0946613b163row0_col6\" class=\"data row0 col6\" >0.82</td>\n",
       "                        <td id=\"T_fdca3b0a_ae86_11eb_b19f_d0946613b163row0_col7\" class=\"data row0 col7\" >0.02</td>\n",
       "            </tr>\n",
       "    </tbody></table>"
      ],
      "text/plain": [
       "<pandas.io.formats.style.Styler at 0x2a20812ab70>"
      ]
     },
     "execution_count": 31,
     "metadata": {},
     "output_type": "execute_result"
    }
   ],
   "source": [
    "#Run all models for all regions together\n",
    "functions = [estimate_area, estimate_area_SE, estimate_OA, estimate_OA_SE, estimate_UA, estimate_UA_SE, estimate_PA, estimate_PA_SE]\n",
    "names = ['area, km²','area SE, km²', 'OA', 'OA SE', 'UA','UA SE', 'PA','PA SE']\n",
    "values = {nm:[fn(data)] for fn, nm in zip(functions,names)}\n",
    "results_global = pd.DataFrame(values)\n",
    "\n",
    "results_global.style.hide_index().format(\"{:.2f}\")"
   ]
  },
  {
   "cell_type": "code",
   "execution_count": 32,
   "metadata": {},
   "outputs": [
    {
     "data": {
      "text/html": [
       "<style  type=\"text/css\" >\n",
       "</style><table id=\"T_0204a150_ae87_11eb_b37b_d0946613b163\" ><thead>    <tr>        <th class=\"col_heading level0 col0\" >Region</th>        <th class=\"col_heading level0 col1\" >area, km²</th>        <th class=\"col_heading level0 col2\" >area SE, km²</th>        <th class=\"col_heading level0 col3\" >OA</th>        <th class=\"col_heading level0 col4\" >OA SE</th>        <th class=\"col_heading level0 col5\" >UA</th>        <th class=\"col_heading level0 col6\" >UA SE</th>        <th class=\"col_heading level0 col7\" >PA</th>        <th class=\"col_heading level0 col8\" >PA SE</th>    </tr></thead><tbody>\n",
       "                <tr>\n",
       "                                <td id=\"T_0204a150_ae87_11eb_b37b_d0946613b163row0_col0\" class=\"data row0 col0\" >AFR</td>\n",
       "                        <td id=\"T_0204a150_ae87_11eb_b37b_d0946613b163row0_col1\" class=\"data row0 col1\" >17269.56</td>\n",
       "                        <td id=\"T_0204a150_ae87_11eb_b37b_d0946613b163row0_col2\" class=\"data row0 col2\" >6339.93</td>\n",
       "                        <td id=\"T_0204a150_ae87_11eb_b37b_d0946613b163row0_col3\" class=\"data row0 col3\" >0.99</td>\n",
       "                        <td id=\"T_0204a150_ae87_11eb_b37b_d0946613b163row0_col4\" class=\"data row0 col4\" >0.00</td>\n",
       "                        <td id=\"T_0204a150_ae87_11eb_b37b_d0946613b163row0_col5\" class=\"data row0 col5\" >0.61</td>\n",
       "                        <td id=\"T_0204a150_ae87_11eb_b37b_d0946613b163row0_col6\" class=\"data row0 col6\" >0.05</td>\n",
       "                        <td id=\"T_0204a150_ae87_11eb_b37b_d0946613b163row0_col7\" class=\"data row0 col7\" >0.41</td>\n",
       "                        <td id=\"T_0204a150_ae87_11eb_b37b_d0946613b163row0_col8\" class=\"data row0 col8\" >0.15</td>\n",
       "            </tr>\n",
       "            <tr>\n",
       "                                <td id=\"T_0204a150_ae87_11eb_b37b_d0946613b163row1_col0\" class=\"data row1 col0\" >EUR</td>\n",
       "                        <td id=\"T_0204a150_ae87_11eb_b37b_d0946613b163row1_col1\" class=\"data row1 col1\" >558357.22</td>\n",
       "                        <td id=\"T_0204a150_ae87_11eb_b37b_d0946613b163row1_col2\" class=\"data row1 col2\" >30248.48</td>\n",
       "                        <td id=\"T_0204a150_ae87_11eb_b37b_d0946613b163row1_col3\" class=\"data row1 col3\" >1.00</td>\n",
       "                        <td id=\"T_0204a150_ae87_11eb_b37b_d0946613b163row1_col4\" class=\"data row1 col4\" >0.00</td>\n",
       "                        <td id=\"T_0204a150_ae87_11eb_b37b_d0946613b163row1_col5\" class=\"data row1 col5\" >0.93</td>\n",
       "                        <td id=\"T_0204a150_ae87_11eb_b37b_d0946613b163row1_col6\" class=\"data row1 col6\" >0.02</td>\n",
       "                        <td id=\"T_0204a150_ae87_11eb_b37b_d0946613b163row1_col7\" class=\"data row1 col7\" >0.88</td>\n",
       "                        <td id=\"T_0204a150_ae87_11eb_b37b_d0946613b163row1_col8\" class=\"data row1 col8\" >0.03</td>\n",
       "            </tr>\n",
       "            <tr>\n",
       "                                <td id=\"T_0204a150_ae87_11eb_b37b_d0946613b163row2_col0\" class=\"data row2 col0\" >LAM</td>\n",
       "                        <td id=\"T_0204a150_ae87_11eb_b37b_d0946613b163row2_col1\" class=\"data row2 col1\" >138729.75</td>\n",
       "                        <td id=\"T_0204a150_ae87_11eb_b37b_d0946613b163row2_col2\" class=\"data row2 col2\" >17030.66</td>\n",
       "                        <td id=\"T_0204a150_ae87_11eb_b37b_d0946613b163row2_col3\" class=\"data row2 col3\" >1.00</td>\n",
       "                        <td id=\"T_0204a150_ae87_11eb_b37b_d0946613b163row2_col4\" class=\"data row2 col4\" >0.00</td>\n",
       "                        <td id=\"T_0204a150_ae87_11eb_b37b_d0946613b163row2_col5\" class=\"data row2 col5\" >0.74</td>\n",
       "                        <td id=\"T_0204a150_ae87_11eb_b37b_d0946613b163row2_col6\" class=\"data row2 col6\" >0.05</td>\n",
       "                        <td id=\"T_0204a150_ae87_11eb_b37b_d0946613b163row2_col7\" class=\"data row2 col7\" >0.59</td>\n",
       "                        <td id=\"T_0204a150_ae87_11eb_b37b_d0946613b163row2_col8\" class=\"data row2 col8\" >0.07</td>\n",
       "            </tr>\n",
       "            <tr>\n",
       "                                <td id=\"T_0204a150_ae87_11eb_b37b_d0946613b163row3_col0\" class=\"data row3 col0\" >NAM</td>\n",
       "                        <td id=\"T_0204a150_ae87_11eb_b37b_d0946613b163row3_col1\" class=\"data row3 col1\" >411349.45</td>\n",
       "                        <td id=\"T_0204a150_ae87_11eb_b37b_d0946613b163row3_col2\" class=\"data row3 col2\" >16616.80</td>\n",
       "                        <td id=\"T_0204a150_ae87_11eb_b37b_d0946613b163row3_col3\" class=\"data row3 col3\" >1.00</td>\n",
       "                        <td id=\"T_0204a150_ae87_11eb_b37b_d0946613b163row3_col4\" class=\"data row3 col4\" >0.00</td>\n",
       "                        <td id=\"T_0204a150_ae87_11eb_b37b_d0946613b163row3_col5\" class=\"data row3 col5\" >0.96</td>\n",
       "                        <td id=\"T_0204a150_ae87_11eb_b37b_d0946613b163row3_col6\" class=\"data row3 col6\" >0.02</td>\n",
       "                        <td id=\"T_0204a150_ae87_11eb_b37b_d0946613b163row3_col7\" class=\"data row3 col7\" >0.90</td>\n",
       "                        <td id=\"T_0204a150_ae87_11eb_b37b_d0946613b163row3_col8\" class=\"data row3 col8\" >0.03</td>\n",
       "            </tr>\n",
       "            <tr>\n",
       "                                <td id=\"T_0204a150_ae87_11eb_b37b_d0946613b163row4_col0\" class=\"data row4 col0\" >SEA-AUS</td>\n",
       "                        <td id=\"T_0204a150_ae87_11eb_b37b_d0946613b163row4_col1\" class=\"data row4 col1\" >121134.44</td>\n",
       "                        <td id=\"T_0204a150_ae87_11eb_b37b_d0946613b163row4_col2\" class=\"data row4 col2\" >13967.49</td>\n",
       "                        <td id=\"T_0204a150_ae87_11eb_b37b_d0946613b163row4_col3\" class=\"data row4 col3\" >1.00</td>\n",
       "                        <td id=\"T_0204a150_ae87_11eb_b37b_d0946613b163row4_col4\" class=\"data row4 col4\" >0.00</td>\n",
       "                        <td id=\"T_0204a150_ae87_11eb_b37b_d0946613b163row4_col5\" class=\"data row4 col5\" >0.73</td>\n",
       "                        <td id=\"T_0204a150_ae87_11eb_b37b_d0946613b163row4_col6\" class=\"data row4 col6\" >0.05</td>\n",
       "                        <td id=\"T_0204a150_ae87_11eb_b37b_d0946613b163row4_col7\" class=\"data row4 col7\" >0.64</td>\n",
       "                        <td id=\"T_0204a150_ae87_11eb_b37b_d0946613b163row4_col8\" class=\"data row4 col8\" >0.07</td>\n",
       "            </tr>\n",
       "    </tbody></table>"
      ],
      "text/plain": [
       "<pandas.io.formats.style.Styler at 0x2a20812ac50>"
      ]
     },
     "execution_count": 32,
     "metadata": {},
     "output_type": "execute_result"
    }
   ],
   "source": [
    "#Run all models for each region\n",
    "functions = [estimate_area, estimate_area_SE, estimate_OA, estimate_OA_SE, estimate_UA, estimate_UA_SE, estimate_PA, estimate_PA_SE]\n",
    "names = ['area, km²','area SE, km²', 'OA', 'OA SE', 'UA','UA SE', 'PA','PA SE']\n",
    "results = pd.concat([data.groupby(by = [\"Region\"]).apply(fn).reset_index(name = nm).set_index(\"Region\") for fn, nm in zip(functions,names)], axis = 1).reset_index()\n",
    "\n",
    "results.style.hide_index().format({name: '{:.2f}' for name in names})"
   ]
  }
 ],
 "metadata": {
  "kernelspec": {
   "display_name": "Python 3",
   "language": "python",
   "name": "python3"
  },
  "language_info": {
   "codemirror_mode": {
    "name": "ipython",
    "version": 3
   },
   "file_extension": ".py",
   "mimetype": "text/x-python",
   "name": "python",
   "nbconvert_exporter": "python",
   "pygments_lexer": "ipython3",
   "version": "3.7.3"
  }
 },
 "nbformat": 4,
 "nbformat_minor": 2
}
