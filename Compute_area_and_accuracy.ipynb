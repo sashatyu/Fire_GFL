{
 "cells": [
  {
   "cell_type": "code",
   "execution_count": 1,
   "metadata": {},
   "outputs": [],
   "source": [
    "import pandas as pd\n",
    "import numpy as np"
   ]
  },
  {
   "cell_type": "markdown",
   "metadata": {},
   "source": [
    "### Area and accuracy estimation for sampling with inclusion probabilities weighted by pixel area, for sampling with replacement, from Tyukavina et al. (in review) \"Global trends of forest loss due to fire, 2001-2019\""
   ]
  },
  {
   "cell_type": "code",
   "execution_count": 2,
   "metadata": {},
   "outputs": [],
   "source": [
    "#Read final sample interpretation table\n",
    "#Reference and map values == 1 for each sample represent forest loss due to fire class\n",
    "#Map values corrrespond to the final map adjusted to match the sample-based estimate\n",
    "data = pd.read_csv('Sample_data.txt', sep ='\\t')\n",
    "#Read strata info, including strata sizes and sample size in each stratum\n",
    "strata = pd.read_csv('Strata_info.txt', sep = '\\t')"
   ]
  },
  {
   "cell_type": "code",
   "execution_count": 3,
   "metadata": {},
   "outputs": [
    {
     "data": {
      "text/html": [
       "<div>\n",
       "<style scoped>\n",
       "    .dataframe tbody tr th:only-of-type {\n",
       "        vertical-align: middle;\n",
       "    }\n",
       "\n",
       "    .dataframe tbody tr th {\n",
       "        vertical-align: top;\n",
       "    }\n",
       "\n",
       "    .dataframe thead th {\n",
       "        text-align: right;\n",
       "    }\n",
       "</style>\n",
       "<table border=\"1\" class=\"dataframe\">\n",
       "  <thead>\n",
       "    <tr style=\"text-align: right;\">\n",
       "      <th></th>\n",
       "      <th>ID</th>\n",
       "      <th>Region</th>\n",
       "      <th>Stratum</th>\n",
       "      <th>Reference</th>\n",
       "      <th>Pixarea</th>\n",
       "      <th>Map</th>\n",
       "    </tr>\n",
       "  </thead>\n",
       "  <tbody>\n",
       "    <tr>\n",
       "      <th>0</th>\n",
       "      <td>1</td>\n",
       "      <td>SEA-AUS</td>\n",
       "      <td>10</td>\n",
       "      <td>1</td>\n",
       "      <td>0.000638</td>\n",
       "      <td>1</td>\n",
       "    </tr>\n",
       "    <tr>\n",
       "      <th>1</th>\n",
       "      <td>2</td>\n",
       "      <td>EUR</td>\n",
       "      <td>2</td>\n",
       "      <td>0</td>\n",
       "      <td>0.000430</td>\n",
       "      <td>0</td>\n",
       "    </tr>\n",
       "    <tr>\n",
       "      <th>2</th>\n",
       "      <td>3</td>\n",
       "      <td>AFR</td>\n",
       "      <td>1</td>\n",
       "      <td>0</td>\n",
       "      <td>0.000749</td>\n",
       "      <td>0</td>\n",
       "    </tr>\n",
       "    <tr>\n",
       "      <th>3</th>\n",
       "      <td>4</td>\n",
       "      <td>LAM</td>\n",
       "      <td>3</td>\n",
       "      <td>0</td>\n",
       "      <td>0.000733</td>\n",
       "      <td>0</td>\n",
       "    </tr>\n",
       "    <tr>\n",
       "      <th>4</th>\n",
       "      <td>5</td>\n",
       "      <td>LAM</td>\n",
       "      <td>8</td>\n",
       "      <td>1</td>\n",
       "      <td>0.000744</td>\n",
       "      <td>1</td>\n",
       "    </tr>\n",
       "  </tbody>\n",
       "</table>\n",
       "</div>"
      ],
      "text/plain": [
       "   ID   Region  Stratum  Reference   Pixarea  Map\n",
       "0   1  SEA-AUS       10          1  0.000638    1\n",
       "1   2      EUR        2          0  0.000430    0\n",
       "2   3      AFR        1          0  0.000749    0\n",
       "3   4      LAM        3          0  0.000733    0\n",
       "4   5      LAM        8          1  0.000744    1"
      ]
     },
     "execution_count": 3,
     "metadata": {},
     "output_type": "execute_result"
    }
   ],
   "source": [
    "data.head()"
   ]
  },
  {
   "cell_type": "code",
   "execution_count": 4,
   "metadata": {},
   "outputs": [
    {
     "data": {
      "text/html": [
       "<div>\n",
       "<style scoped>\n",
       "    .dataframe tbody tr th:only-of-type {\n",
       "        vertical-align: middle;\n",
       "    }\n",
       "\n",
       "    .dataframe tbody tr th {\n",
       "        vertical-align: top;\n",
       "    }\n",
       "\n",
       "    .dataframe thead th {\n",
       "        text-align: right;\n",
       "    }\n",
       "</style>\n",
       "<table border=\"1\" class=\"dataframe\">\n",
       "  <thead>\n",
       "    <tr style=\"text-align: right;\">\n",
       "      <th></th>\n",
       "      <th>Region</th>\n",
       "      <th>Stratum</th>\n",
       "      <th>Area_km2</th>\n",
       "      <th>Count</th>\n",
       "      <th>Sample_size</th>\n",
       "    </tr>\n",
       "  </thead>\n",
       "  <tbody>\n",
       "    <tr>\n",
       "      <th>0</th>\n",
       "      <td>AFR</td>\n",
       "      <td>1</td>\n",
       "      <td>595255.0128</td>\n",
       "      <td>788889906</td>\n",
       "      <td>134</td>\n",
       "    </tr>\n",
       "    <tr>\n",
       "      <th>1</th>\n",
       "      <td>EUR</td>\n",
       "      <td>2</td>\n",
       "      <td>332992.9026</td>\n",
       "      <td>781490883</td>\n",
       "      <td>100</td>\n",
       "    </tr>\n",
       "    <tr>\n",
       "      <th>2</th>\n",
       "      <td>LAM</td>\n",
       "      <td>3</td>\n",
       "      <td>946369.3351</td>\n",
       "      <td>1280971777</td>\n",
       "      <td>213</td>\n",
       "    </tr>\n",
       "    <tr>\n",
       "      <th>3</th>\n",
       "      <td>NAM</td>\n",
       "      <td>4</td>\n",
       "      <td>486272.5356</td>\n",
       "      <td>859622001</td>\n",
       "      <td>109</td>\n",
       "    </tr>\n",
       "    <tr>\n",
       "      <th>4</th>\n",
       "      <td>SEA-AUS</td>\n",
       "      <td>5</td>\n",
       "      <td>669855.4746</td>\n",
       "      <td>909836775</td>\n",
       "      <td>150</td>\n",
       "    </tr>\n",
       "  </tbody>\n",
       "</table>\n",
       "</div>"
      ],
      "text/plain": [
       "    Region  Stratum     Area_km2       Count  Sample_size\n",
       "0      AFR        1  595255.0128   788889906          134\n",
       "1      EUR        2  332992.9026   781490883          100\n",
       "2      LAM        3  946369.3351  1280971777          213\n",
       "3      NAM        4  486272.5356   859622001          109\n",
       "4  SEA-AUS        5  669855.4746   909836775          150"
      ]
     },
     "execution_count": 4,
     "metadata": {},
     "output_type": "execute_result"
    }
   ],
   "source": [
    "strata.head()"
   ]
  },
  {
   "cell_type": "code",
   "execution_count": 5,
   "metadata": {},
   "outputs": [],
   "source": [
    "#Merge sample table (data) with strata info table (strata) on the common column \"Stratum\"\n",
    "data = data.merge(strata[['Stratum', 'Area_km2', 'Sample_size']])\n",
    "data = data.rename(columns = {'Area_km2':'Ah', 'Sample_size':'nh', 'Pixarea':'au'})"
   ]
  },
  {
   "cell_type": "code",
   "execution_count": 6,
   "metadata": {},
   "outputs": [
    {
     "data": {
      "text/html": [
       "<div>\n",
       "<style scoped>\n",
       "    .dataframe tbody tr th:only-of-type {\n",
       "        vertical-align: middle;\n",
       "    }\n",
       "\n",
       "    .dataframe tbody tr th {\n",
       "        vertical-align: top;\n",
       "    }\n",
       "\n",
       "    .dataframe thead th {\n",
       "        text-align: right;\n",
       "    }\n",
       "</style>\n",
       "<table border=\"1\" class=\"dataframe\">\n",
       "  <thead>\n",
       "    <tr style=\"text-align: right;\">\n",
       "      <th></th>\n",
       "      <th>ID</th>\n",
       "      <th>Region</th>\n",
       "      <th>Stratum</th>\n",
       "      <th>Reference</th>\n",
       "      <th>au</th>\n",
       "      <th>Map</th>\n",
       "      <th>Ah</th>\n",
       "      <th>nh</th>\n",
       "    </tr>\n",
       "  </thead>\n",
       "  <tbody>\n",
       "    <tr>\n",
       "      <th>0</th>\n",
       "      <td>1</td>\n",
       "      <td>SEA-AUS</td>\n",
       "      <td>10</td>\n",
       "      <td>1</td>\n",
       "      <td>0.000638</td>\n",
       "      <td>1</td>\n",
       "      <td>161635.388</td>\n",
       "      <td>100</td>\n",
       "    </tr>\n",
       "    <tr>\n",
       "      <th>1</th>\n",
       "      <td>8</td>\n",
       "      <td>SEA-AUS</td>\n",
       "      <td>10</td>\n",
       "      <td>1</td>\n",
       "      <td>0.000626</td>\n",
       "      <td>1</td>\n",
       "      <td>161635.388</td>\n",
       "      <td>100</td>\n",
       "    </tr>\n",
       "    <tr>\n",
       "      <th>2</th>\n",
       "      <td>10</td>\n",
       "      <td>SEA-AUS</td>\n",
       "      <td>10</td>\n",
       "      <td>1</td>\n",
       "      <td>0.000769</td>\n",
       "      <td>1</td>\n",
       "      <td>161635.388</td>\n",
       "      <td>100</td>\n",
       "    </tr>\n",
       "    <tr>\n",
       "      <th>3</th>\n",
       "      <td>26</td>\n",
       "      <td>SEA-AUS</td>\n",
       "      <td>10</td>\n",
       "      <td>1</td>\n",
       "      <td>0.000670</td>\n",
       "      <td>1</td>\n",
       "      <td>161635.388</td>\n",
       "      <td>100</td>\n",
       "    </tr>\n",
       "    <tr>\n",
       "      <th>4</th>\n",
       "      <td>30</td>\n",
       "      <td>SEA-AUS</td>\n",
       "      <td>10</td>\n",
       "      <td>1</td>\n",
       "      <td>0.000649</td>\n",
       "      <td>1</td>\n",
       "      <td>161635.388</td>\n",
       "      <td>100</td>\n",
       "    </tr>\n",
       "  </tbody>\n",
       "</table>\n",
       "</div>"
      ],
      "text/plain": [
       "   ID   Region  Stratum  Reference        au  Map          Ah   nh\n",
       "0   1  SEA-AUS       10          1  0.000638    1  161635.388  100\n",
       "1   8  SEA-AUS       10          1  0.000626    1  161635.388  100\n",
       "2  10  SEA-AUS       10          1  0.000769    1  161635.388  100\n",
       "3  26  SEA-AUS       10          1  0.000670    1  161635.388  100\n",
       "4  30  SEA-AUS       10          1  0.000649    1  161635.388  100"
      ]
     },
     "execution_count": 6,
     "metadata": {},
     "output_type": "execute_result"
    }
   ],
   "source": [
    "data.head()"
   ]
  },
  {
   "cell_type": "code",
   "execution_count": 7,
   "metadata": {},
   "outputs": [],
   "source": [
    "def estimate_area(df: pd.DataFrame) -> float:\n",
    "    \"\"\" \n",
    "    Function to estimate class area from sample refernce values\n",
    "    Input dataframe with number of lines equal the number of sample pixels,\n",
    "    and the following columns:\n",
    "    \"Stratum\" (strata IDs 1 - nstrata)\n",
    "    \"Reference\" (1 if the sample pixel was identified as target class in reference classification, and 0 otherwise)\n",
    "    \"Ah\" (stratum area, km2)\n",
    "    \"nh\" (number of sample pixels in stratum h)\n",
    "    Returns estimated class area in km2\n",
    "    From Tyukavina et al. (in review) \"Global trends of forest loss due to fire, 2001-2019\"\n",
    "    Supplementary Information, equations 1 and 6\n",
    "    \"\"\"\n",
    "    #Create a copy of columns \"Stratum\",\"nh\",\"Ah\" and a new column \"ForArea\", \n",
    "    #where u = Ah if the sample pixel has Reference == 1 (is of target class), and u = 0 if Reference == 0\n",
    "    df1 = pd.concat([df['Stratum'], df['Ah'], df['nh'], pd.Series(((df['Reference']).astype(bool)* df['Ah']) , name = 'ForArea')], axis = 1)\n",
    "    \n",
    "    ByStratum = df1.groupby(by = ['Stratum'])\n",
    "    \n",
    "    # Equation 6, compute area of target class in each stratum\n",
    "    areastrat = ByStratum.ForArea.sum()/ByStratum.nh.median()\n",
    "    # Equation 1, sum target class areas over all strata\n",
    "    area = areastrat.sum()\n",
    "\n",
    "    return area"
   ]
  },
  {
   "cell_type": "code",
   "execution_count": 8,
   "metadata": {},
   "outputs": [
    {
     "data": {
      "text/plain": [
       "1227725.1907783307"
      ]
     },
     "execution_count": 8,
     "metadata": {},
     "output_type": "execute_result"
    }
   ],
   "source": [
    "#Global area estimate\n",
    "estimate_area(data)"
   ]
  },
  {
   "cell_type": "code",
   "execution_count": 9,
   "metadata": {},
   "outputs": [
    {
     "data": {
      "text/html": [
       "<div>\n",
       "<style scoped>\n",
       "    .dataframe tbody tr th:only-of-type {\n",
       "        vertical-align: middle;\n",
       "    }\n",
       "\n",
       "    .dataframe tbody tr th {\n",
       "        vertical-align: top;\n",
       "    }\n",
       "\n",
       "    .dataframe thead th {\n",
       "        text-align: right;\n",
       "    }\n",
       "</style>\n",
       "<table border=\"1\" class=\"dataframe\">\n",
       "  <thead>\n",
       "    <tr style=\"text-align: right;\">\n",
       "      <th></th>\n",
       "      <th>Region</th>\n",
       "      <th>area</th>\n",
       "    </tr>\n",
       "  </thead>\n",
       "  <tbody>\n",
       "    <tr>\n",
       "      <th>0</th>\n",
       "      <td>AFR</td>\n",
       "      <td>16854.619667</td>\n",
       "    </tr>\n",
       "    <tr>\n",
       "      <th>1</th>\n",
       "      <td>EUR</td>\n",
       "      <td>572411.271631</td>\n",
       "    </tr>\n",
       "    <tr>\n",
       "      <th>2</th>\n",
       "      <td>LAM</td>\n",
       "      <td>128598.229410</td>\n",
       "    </tr>\n",
       "    <tr>\n",
       "      <th>3</th>\n",
       "      <td>NAM</td>\n",
       "      <td>385702.259811</td>\n",
       "    </tr>\n",
       "    <tr>\n",
       "      <th>4</th>\n",
       "      <td>SEA-AUS</td>\n",
       "      <td>124158.810260</td>\n",
       "    </tr>\n",
       "  </tbody>\n",
       "</table>\n",
       "</div>"
      ],
      "text/plain": [
       "    Region           area\n",
       "0      AFR   16854.619667\n",
       "1      EUR  572411.271631\n",
       "2      LAM  128598.229410\n",
       "3      NAM  385702.259811\n",
       "4  SEA-AUS  124158.810260"
      ]
     },
     "execution_count": 9,
     "metadata": {},
     "output_type": "execute_result"
    }
   ],
   "source": [
    "#Area estimates by region\n",
    "data.groupby(by = [\"Region\"]).apply(estimate_area).reset_index(name='area')"
   ]
  },
  {
   "cell_type": "code",
   "execution_count": 24,
   "metadata": {},
   "outputs": [],
   "source": [
    "def estimate_area_SE(df: pd.DataFrame) -> float:\n",
    "    \"\"\" \n",
    "    Function to estimate Standard Error of the target class area estimated from sample refernce values\n",
    "    Input dataframe with number of lines equal the number of sample pixels,\n",
    "    and the following columns:\n",
    "    \"Stratum\" (strata IDs 1 - nstrata)\n",
    "    \"Reference\" (1 if the sample pixel was identified as target class in reference classification, and 0 otherwise)\n",
    "    \"Ah\" (stratum area, km2)\n",
    "    \"nh\" (number of sample pixels in stratum h)\n",
    "    Returns estimated SE of the target class area in km2\n",
    "    From Tyukavina et al. (in review) \"Global trends of forest loss due to fire, 2001-2019\"\n",
    "    Supplementary Information, equations 4 an 7\n",
    "    \"\"\"\n",
    "    #Create a copy of columns \"Stratum\",\"nh\" and a new column \"ForVar\", \n",
    "    #where u = Ah if the sample pixel is of the class being estimated and u = 0 if the sample pixel is not of that class\n",
    "    df1 = pd.concat([df['Stratum'],df['nh'], pd.Series(df['Reference'].astype(bool) * df['Ah'], name = 'ForVar')],axis = 1)\n",
    "    \n",
    "    ByStratum = df1.groupby(by = ['Stratum'])\n",
    "    \n",
    "    #Equation 7, compute variance for each stratum\n",
    "    StrataVar = ByStratum.ForVar.var() / ByStratum.nh.median() \n",
    "    #Equation 4, sum strata-specific variances\n",
    "    StrataVarSum = StrataVar.sum()\n",
    "    \n",
    "    #Compute SE of the estimated class area from a sum of strata variances\n",
    "    SE = np.sqrt(StrataVarSum)\n",
    "    \n",
    "    return SE"
   ]
  },
  {
   "cell_type": "code",
   "execution_count": 11,
   "metadata": {},
   "outputs": [
    {
     "data": {
      "text/plain": [
       "31527.132247399582"
      ]
     },
     "execution_count": 11,
     "metadata": {},
     "output_type": "execute_result"
    }
   ],
   "source": [
    "#Global estimate of area SE\n",
    "estimate_area_SE(data)"
   ]
  },
  {
   "cell_type": "code",
   "execution_count": 12,
   "metadata": {},
   "outputs": [
    {
     "data": {
      "text/html": [
       "<div>\n",
       "<style scoped>\n",
       "    .dataframe tbody tr th:only-of-type {\n",
       "        vertical-align: middle;\n",
       "    }\n",
       "\n",
       "    .dataframe tbody tr th {\n",
       "        vertical-align: top;\n",
       "    }\n",
       "\n",
       "    .dataframe thead th {\n",
       "        text-align: right;\n",
       "    }\n",
       "</style>\n",
       "<table border=\"1\" class=\"dataframe\">\n",
       "  <thead>\n",
       "    <tr style=\"text-align: right;\">\n",
       "      <th></th>\n",
       "      <th>Region</th>\n",
       "      <th>Area SE</th>\n",
       "    </tr>\n",
       "  </thead>\n",
       "  <tbody>\n",
       "    <tr>\n",
       "      <th>0</th>\n",
       "      <td>AFR</td>\n",
       "      <td>6300.362320</td>\n",
       "    </tr>\n",
       "    <tr>\n",
       "      <th>1</th>\n",
       "      <td>EUR</td>\n",
       "      <td>21875.332734</td>\n",
       "    </tr>\n",
       "    <tr>\n",
       "      <th>2</th>\n",
       "      <td>LAM</td>\n",
       "      <td>14285.627420</td>\n",
       "    </tr>\n",
       "    <tr>\n",
       "      <th>3</th>\n",
       "      <td>NAM</td>\n",
       "      <td>10635.113566</td>\n",
       "    </tr>\n",
       "    <tr>\n",
       "      <th>4</th>\n",
       "      <td>SEA-AUS</td>\n",
       "      <td>12591.684909</td>\n",
       "    </tr>\n",
       "  </tbody>\n",
       "</table>\n",
       "</div>"
      ],
      "text/plain": [
       "    Region       Area SE\n",
       "0      AFR   6300.362320\n",
       "1      EUR  21875.332734\n",
       "2      LAM  14285.627420\n",
       "3      NAM  10635.113566\n",
       "4  SEA-AUS  12591.684909"
      ]
     },
     "execution_count": 12,
     "metadata": {},
     "output_type": "execute_result"
    }
   ],
   "source": [
    "#Standard error of area estimated by region\n",
    "data.groupby(by = [\"Region\"]).apply(estimate_area_SE).reset_index(name='Area SE')"
   ]
  },
  {
   "cell_type": "code",
   "execution_count": 22,
   "metadata": {},
   "outputs": [],
   "source": [
    "def estimate_OA (df: pd.DataFrame) -> float:\n",
    "    \"\"\" \n",
    "    Function to estimate Overall Accuracy of the map \n",
    "    Input dataframe with number of lines equal the number of sample pixels,\n",
    "    ans the following columns:\n",
    "    \"Stratum\" (strata IDs 1 - nstrata)\n",
    "    \"Map\" (1 if the sample pixel was mapped as target class, and 0 otherwise)\n",
    "    \"Reference\" (1 if the sample pixel was identified as target class in reference classification, and 0 otherwise)\n",
    "    \"Ah\" (stratum area, km2)\n",
    "    \"nh\" (number of sample pixels in stratum h)\n",
    "    Returns estimated Overall Accuracy of the map expressed as proportion (0-1) of the total study area\n",
    "    From Tyukavina et al. (in review) \"Global trends of forest loss due to fire, 2001-2019\"\n",
    "    Supplementary Information, equations 1 and 6, modified for Overall Accuracy computation:\n",
    "    Y^h is defnied as area of correctly classified pixels within a stratum\n",
    "    \"\"\"\n",
    "    #Create a copy of columns \"Stratum\",\"nh\",\"Ah\" and a new column \"Correct, \n",
    "    #where u = Ah if the sample pixel is correctly classified, and u = 0 if sample is incorrectly classified\n",
    "    df1 = pd.concat([df['Stratum'], df['Ah'], df['nh'], pd.Series((df['Reference'] == df['Map'])* df['Ah'] , name = 'Correct')], axis = 1)\n",
    "    \n",
    "    ByStratum = df1.groupby(by = ['Stratum'])\n",
    "    \n",
    "     # Equation 6, compute correctly classified area in each stratum\n",
    "    CorrectlyClassified = ByStratum.Correct.sum()/ByStratum.nh.median()\n",
    "    # Equation 1, sum correctly classified areas accross all strata\n",
    "    CorrectlyClassifiedSum = CorrectlyClassified.sum()\n",
    "    \n",
    "    #Derive an Overall Accuracy metric by dividing the sum of correctly classified areas by the total study area\n",
    "    OA = CorrectlyClassifiedSum / ((ByStratum.Ah.median()).sum())\n",
    "\n",
    "    return OA"
   ]
  },
  {
   "cell_type": "code",
   "execution_count": 23,
   "metadata": {},
   "outputs": [
    {
     "data": {
      "text/plain": [
       "0.9443361626185658"
      ]
     },
     "execution_count": 23,
     "metadata": {},
     "output_type": "execute_result"
    }
   ],
   "source": [
    "#Global estimate of Overall Accuracy\n",
    "estimate_OA(data)"
   ]
  },
  {
   "cell_type": "code",
   "execution_count": 15,
   "metadata": {},
   "outputs": [
    {
     "data": {
      "text/html": [
       "<div>\n",
       "<style scoped>\n",
       "    .dataframe tbody tr th:only-of-type {\n",
       "        vertical-align: middle;\n",
       "    }\n",
       "\n",
       "    .dataframe tbody tr th {\n",
       "        vertical-align: top;\n",
       "    }\n",
       "\n",
       "    .dataframe thead th {\n",
       "        text-align: right;\n",
       "    }\n",
       "</style>\n",
       "<table border=\"1\" class=\"dataframe\">\n",
       "  <thead>\n",
       "    <tr style=\"text-align: right;\">\n",
       "      <th></th>\n",
       "      <th>Region</th>\n",
       "      <th>Overall Accuracy</th>\n",
       "    </tr>\n",
       "  </thead>\n",
       "  <tbody>\n",
       "    <tr>\n",
       "      <th>0</th>\n",
       "      <td>AFR</td>\n",
       "      <td>0.977111</td>\n",
       "    </tr>\n",
       "    <tr>\n",
       "      <th>1</th>\n",
       "      <td>EUR</td>\n",
       "      <td>0.933049</td>\n",
       "    </tr>\n",
       "    <tr>\n",
       "      <th>2</th>\n",
       "      <td>LAM</td>\n",
       "      <td>0.933761</td>\n",
       "    </tr>\n",
       "    <tr>\n",
       "      <th>3</th>\n",
       "      <td>NAM</td>\n",
       "      <td>0.967779</td>\n",
       "    </tr>\n",
       "    <tr>\n",
       "      <th>4</th>\n",
       "      <td>SEA-AUS</td>\n",
       "      <td>0.922604</td>\n",
       "    </tr>\n",
       "  </tbody>\n",
       "</table>\n",
       "</div>"
      ],
      "text/plain": [
       "    Region  Overall Accuracy\n",
       "0      AFR          0.977111\n",
       "1      EUR          0.933049\n",
       "2      LAM          0.933761\n",
       "3      NAM          0.967779\n",
       "4  SEA-AUS          0.922604"
      ]
     },
     "execution_count": 15,
     "metadata": {},
     "output_type": "execute_result"
    }
   ],
   "source": [
    "#Overall accuracy estimated by region\n",
    "data.groupby(by = [\"Region\"]).apply(estimate_OA).reset_index(name='Overall Accuracy')"
   ]
  },
  {
   "cell_type": "code",
   "execution_count": 25,
   "metadata": {},
   "outputs": [],
   "source": [
    "def estimate_OA_SE(df: pd.DataFrame) -> float:\n",
    "    \"\"\" \n",
    "    Function to estimate Standard Error of map Overall Accuracy\n",
    "    Input dataframe with number of lines equal the number of sample pixels,\n",
    "    and the following columns:\n",
    "    \"Stratum\" (strata IDs 1 - nstrata)\n",
    "    \"Map\" (1 if the sample pixel was mapped as target class, and 0 otherwise)\n",
    "    \"Reference\" (1 if the sample pixel was identified as target class in reference classification, and 0 otherwise)\n",
    "    \"Ah\" (stratum area, km2)\n",
    "    \"nh\" (number of sample pixels in stratum h)\n",
    "    Returns estimated SE of the Overall Accuracy expressed as proportion (0-1) of the total study area\n",
    "    From Tyukavina et al. (in review) \"Global trends of forest loss due to fire, 2001-2019\"\n",
    "    Supplementary Information, equations 4 and 7, modified for Overall Accuracy computation:\n",
    "    u = Ah if the sample pixel is classified correctly and u = 0 if the sample pixel is not classified correctly.\n",
    "    \"\"\"\n",
    "    #Create a copy of columns \"Stratum\",\"nh\",\"Ah\" and a new column \"Correct\", \n",
    "    #where u = Ah if the sample pixel has Reference == 1 (is of target class), and u = 0 if Reference == 0\n",
    "    \n",
    "    df1 = pd.concat([df['Stratum'], df['Ah'], df['nh'], pd.Series((df['Reference'] == df['Map']) * df['Ah'], name = 'Correct')], axis = 1)\n",
    "    \n",
    "    ByStratum = df1.groupby(by = ['Stratum'])\n",
    "    \n",
    "    #Equation 7, compute variance for each stratum\n",
    "    StrataVar = ByStratum.Correct.var() / ByStratum.nh.median() \n",
    "    #Equation 4, sum strata-specific variances\n",
    "    StrataVarSum = StrataVar.sum()\n",
    "    \n",
    "    #Compute SE of the estimated class area from a sum of strata variances divided by the total study area\n",
    "    SE = np.sqrt(StrataVarSum)/((ByStratum.Ah.median()).sum())\n",
    "    \n",
    "    return SE"
   ]
  },
  {
   "cell_type": "code",
   "execution_count": 26,
   "metadata": {},
   "outputs": [
    {
     "data": {
      "text/plain": [
       "0.006215359496848278"
      ]
     },
     "execution_count": 26,
     "metadata": {},
     "output_type": "execute_result"
    }
   ],
   "source": [
    "estimate_OA_SE(data)"
   ]
  },
  {
   "cell_type": "code",
   "execution_count": 27,
   "metadata": {},
   "outputs": [
    {
     "data": {
      "text/html": [
       "<div>\n",
       "<style scoped>\n",
       "    .dataframe tbody tr th:only-of-type {\n",
       "        vertical-align: middle;\n",
       "    }\n",
       "\n",
       "    .dataframe tbody tr th {\n",
       "        vertical-align: top;\n",
       "    }\n",
       "\n",
       "    .dataframe thead th {\n",
       "        text-align: right;\n",
       "    }\n",
       "</style>\n",
       "<table border=\"1\" class=\"dataframe\">\n",
       "  <thead>\n",
       "    <tr style=\"text-align: right;\">\n",
       "      <th></th>\n",
       "      <th>Region</th>\n",
       "      <th>OA SE</th>\n",
       "    </tr>\n",
       "  </thead>\n",
       "  <tbody>\n",
       "    <tr>\n",
       "      <th>0</th>\n",
       "      <td>AFR</td>\n",
       "      <td>0.010327</td>\n",
       "    </tr>\n",
       "    <tr>\n",
       "      <th>1</th>\n",
       "      <td>EUR</td>\n",
       "      <td>0.016209</td>\n",
       "    </tr>\n",
       "    <tr>\n",
       "      <th>2</th>\n",
       "      <td>LAM</td>\n",
       "      <td>0.012732</td>\n",
       "    </tr>\n",
       "    <tr>\n",
       "      <th>3</th>\n",
       "      <td>NAM</td>\n",
       "      <td>0.011804</td>\n",
       "    </tr>\n",
       "    <tr>\n",
       "      <th>4</th>\n",
       "      <td>SEA-AUS</td>\n",
       "      <td>0.014622</td>\n",
       "    </tr>\n",
       "  </tbody>\n",
       "</table>\n",
       "</div>"
      ],
      "text/plain": [
       "    Region     OA SE\n",
       "0      AFR  0.010327\n",
       "1      EUR  0.016209\n",
       "2      LAM  0.012732\n",
       "3      NAM  0.011804\n",
       "4  SEA-AUS  0.014622"
      ]
     },
     "execution_count": 27,
     "metadata": {},
     "output_type": "execute_result"
    }
   ],
   "source": [
    "#Standard Error of Overall accuracy estimated by region\n",
    "data.groupby(by = [\"Region\"]).apply(estimate_OA_SE).reset_index(name='OA SE')"
   ]
  },
  {
   "cell_type": "code",
   "execution_count": 28,
   "metadata": {},
   "outputs": [],
   "source": [
    "def estimate_UA (df: pd.DataFrame) -> float:\n",
    "    \"\"\" \n",
    "    Function to estimate User's Accuracy of target class \n",
    "    Input dataframe with number of lines equal the number of sample pixels,\n",
    "    and the following columns:\n",
    "    \"Map\" (1 if the sample pixel was mapped as target class, and 0 otherwise)\n",
    "    \"Reference\" (1 if the sample pixel was identified as target class in reference classification, and 0 otherwise)\n",
    "    \"Ah\" (stratum area, km2)\n",
    "    \"nh\" (number of sample pixels in stratum h)\n",
    "    \"au\" (area of sampled pixel in km2)\n",
    "    Returns estimated User's Accuracy of target class expressed as proportion (0-1) of the total study area\n",
    "    From Tyukavina et al. (in review) \"Global trends of forest loss due to fire, 2001-2019\"\n",
    "    Supplementary Information, equations 8 - 11\n",
    "    \"\"\"\n",
    "    #Create a copy of columns \"Stratum\",\"nh\", \"Ah\" and new columns: \n",
    "    #\"Correct\", where yu = au if the sample pixel is correctly classified as target class, and yu = 0 otherwise\n",
    "    #\"Mapped\", where zu = au if the sample pixel is mapped as target class, and zu = 0 otherwise \n",
    "    df1 = pd.concat([df['nh'],df['Ah'],df['au'], pd.Series((((df['Reference'] == 1) & (df['Map'] == 1)).astype(bool) * df['au']) , name = 'Correct'),\n",
    "                    pd.Series(((df['Map'] == 1).astype(bool)* df['au']) , name = 'Mapped')],axis = 1)\n",
    "    \n",
    "    #Equation 11 Compute inclusion probability for each sampled pixel\n",
    "    df1['PIu'] = df1['nh'] * df1['au'] / df1['Ah']\n",
    "    \n",
    "    #Equation 9\n",
    "    Yest = (df1.Correct/df1.PIu).sum()\n",
    "    #Equation 10\n",
    "    Zest = (df1.Mapped/df1.PIu).sum()\n",
    "    \n",
    "    #Equation 8\n",
    "    UA = Yest/Zest\n",
    "\n",
    "    return UA"
   ]
  },
  {
   "cell_type": "code",
   "execution_count": 29,
   "metadata": {},
   "outputs": [
    {
     "data": {
      "text/plain": [
       "0.8997915745423283"
      ]
     },
     "execution_count": 29,
     "metadata": {},
     "output_type": "execute_result"
    }
   ],
   "source": [
    "estimate_UA(data)"
   ]
  },
  {
   "cell_type": "code",
   "execution_count": 30,
   "metadata": {},
   "outputs": [
    {
     "data": {
      "text/html": [
       "<div>\n",
       "<style scoped>\n",
       "    .dataframe tbody tr th:only-of-type {\n",
       "        vertical-align: middle;\n",
       "    }\n",
       "\n",
       "    .dataframe tbody tr th {\n",
       "        vertical-align: top;\n",
       "    }\n",
       "\n",
       "    .dataframe thead th {\n",
       "        text-align: right;\n",
       "    }\n",
       "</style>\n",
       "<table border=\"1\" class=\"dataframe\">\n",
       "  <thead>\n",
       "    <tr style=\"text-align: right;\">\n",
       "      <th></th>\n",
       "      <th>Region</th>\n",
       "      <th>UA</th>\n",
       "    </tr>\n",
       "  </thead>\n",
       "  <tbody>\n",
       "    <tr>\n",
       "      <th>0</th>\n",
       "      <td>AFR</td>\n",
       "      <td>0.621951</td>\n",
       "    </tr>\n",
       "    <tr>\n",
       "      <th>1</th>\n",
       "      <td>EUR</td>\n",
       "      <td>0.937984</td>\n",
       "    </tr>\n",
       "    <tr>\n",
       "      <th>2</th>\n",
       "      <td>LAM</td>\n",
       "      <td>0.743590</td>\n",
       "    </tr>\n",
       "    <tr>\n",
       "      <th>3</th>\n",
       "      <td>NAM</td>\n",
       "      <td>0.947917</td>\n",
       "    </tr>\n",
       "    <tr>\n",
       "      <th>4</th>\n",
       "      <td>SEA-AUS</td>\n",
       "      <td>0.740260</td>\n",
       "    </tr>\n",
       "  </tbody>\n",
       "</table>\n",
       "</div>"
      ],
      "text/plain": [
       "    Region        UA\n",
       "0      AFR  0.621951\n",
       "1      EUR  0.937984\n",
       "2      LAM  0.743590\n",
       "3      NAM  0.947917\n",
       "4  SEA-AUS  0.740260"
      ]
     },
     "execution_count": 30,
     "metadata": {},
     "output_type": "execute_result"
    }
   ],
   "source": [
    "data.groupby(by = [\"Region\"]).apply(estimate_UA).reset_index(name ='UA')"
   ]
  },
  {
   "cell_type": "code",
   "execution_count": 38,
   "metadata": {},
   "outputs": [],
   "source": [
    "def estimate_PA (df: pd.DataFrame) -> float:\n",
    "    \"\"\" \n",
    "    Function to estimate Producer's Accuracy of target class \n",
    "    Input dataframe with number of lines equal the number of sample pixels,\n",
    "    and the following columns:\n",
    "    \"Map\" (1 if the sample pixel was mapped as target class, and 0 otherwise)\n",
    "    \"Reference\" (1 if the sample pixel was identified as target class in reference classification, and 0 otherwise)\n",
    "    \"Ah\" (stratum area, km2)\n",
    "    \"nh\" (number of sample pixels in stratum h)\n",
    "    \"au\" (area of sample pixel in km2)\n",
    "    Returns estimated Producer's Accuracy of target class expressed as proportion (0-1) of the total study area\n",
    "    From Tyukavina et al. (in review) \"Global trends of forest loss due to fire, 2001-2019\"\n",
    "    Supplementary Information, equations 8 - 11\n",
    "    \"\"\"\n",
    "    #Create a copy of columns \"Stratum\",\"nh\", \"Ah\" and new columns: \n",
    "    #\"Correct\", where yu = au if the sample pixel is correctly classified as target class, and yu = 0 otherwise\n",
    "    #\"Ref\", where zu = au if the sample pixel is mapped as target class, and zu = 0 otherwise \n",
    "    df1 = pd.concat([df['nh'],df['Ah'],df['au'], pd.Series((((df['Reference'] == 1) & (df['Map'] == 1)).astype(bool) * df['au']) , name = 'Correct'),\n",
    "                    pd.Series(((df['Reference'] == 1).astype(bool)* df['au']) , name = 'Ref')],axis = 1)\n",
    "    \n",
    "    #Equation 11 Compute inclusion probability for each sampled pixel\n",
    "    df1['PIu'] = df1['nh'] * df1['au'] / df1['Ah']\n",
    "    \n",
    "    #Equation 9\n",
    "    Yest = (df1.Correct/df1.PIu).sum()\n",
    "    #Equation 10\n",
    "    Zest = (df1.Ref/df1.PIu).sum()\n",
    "    \n",
    "    #Equation 8\n",
    "    PA = Yest/Zest\n",
    "\n",
    "    return PA"
   ]
  },
  {
   "cell_type": "code",
   "execution_count": 39,
   "metadata": {},
   "outputs": [
    {
     "data": {
      "text/plain": [
       "0.8981668852260704"
      ]
     },
     "execution_count": 39,
     "metadata": {},
     "output_type": "execute_result"
    }
   ],
   "source": [
    "estimate_PA(data)"
   ]
  },
  {
   "cell_type": "code",
   "execution_count": 40,
   "metadata": {},
   "outputs": [
    {
     "data": {
      "text/html": [
       "<div>\n",
       "<style scoped>\n",
       "    .dataframe tbody tr th:only-of-type {\n",
       "        vertical-align: middle;\n",
       "    }\n",
       "\n",
       "    .dataframe tbody tr th {\n",
       "        vertical-align: top;\n",
       "    }\n",
       "\n",
       "    .dataframe thead th {\n",
       "        text-align: right;\n",
       "    }\n",
       "</style>\n",
       "<table border=\"1\" class=\"dataframe\">\n",
       "  <thead>\n",
       "    <tr style=\"text-align: right;\">\n",
       "      <th></th>\n",
       "      <th>Region</th>\n",
       "      <th>PA</th>\n",
       "    </tr>\n",
       "  </thead>\n",
       "  <tbody>\n",
       "    <tr>\n",
       "      <th>0</th>\n",
       "      <td>AFR</td>\n",
       "      <td>0.438489</td>\n",
       "    </tr>\n",
       "    <tr>\n",
       "      <th>1</th>\n",
       "      <td>EUR</td>\n",
       "      <td>0.943558</td>\n",
       "    </tr>\n",
       "    <tr>\n",
       "      <th>2</th>\n",
       "      <td>LAM</td>\n",
       "      <td>0.666173</td>\n",
       "    </tr>\n",
       "    <tr>\n",
       "      <th>3</th>\n",
       "      <td>NAM</td>\n",
       "      <td>0.978495</td>\n",
       "    </tr>\n",
       "    <tr>\n",
       "      <th>4</th>\n",
       "      <td>SEA-AUS</td>\n",
       "      <td>0.742051</td>\n",
       "    </tr>\n",
       "  </tbody>\n",
       "</table>\n",
       "</div>"
      ],
      "text/plain": [
       "    Region        PA\n",
       "0      AFR  0.438489\n",
       "1      EUR  0.943558\n",
       "2      LAM  0.666173\n",
       "3      NAM  0.978495\n",
       "4  SEA-AUS  0.742051"
      ]
     },
     "execution_count": 40,
     "metadata": {},
     "output_type": "execute_result"
    }
   ],
   "source": [
    "data.groupby(by = [\"Region\"]).apply(estimate_PA).reset_index(name ='PA')"
   ]
  },
  {
   "cell_type": "code",
   "execution_count": 31,
   "metadata": {},
   "outputs": [],
   "source": [
    "def estimate_UA_SE(df: pd.DataFrame) -> float:\n",
    "    \"\"\" \n",
    "    Function to estimate the Standard Error of User's Accuracy of target class \n",
    "    Input dataframe with number of lines equal the number of sample pixels,\n",
    "    and the following columns:\n",
    "    \"ID\" (sampled pixel ID)\n",
    "    \"Stratum\" (strata IDs 1 - nstrata)\n",
    "    \"Map\" (1 if the sample pixel was mapped as target class, and 0 otherwise)\n",
    "    \"Reference\" (1 if the sample pixel was identified as target class in reference classification, and 0 otherwise)\n",
    "    \"au\" (area of sample pixel in km2)\n",
    "    \"nh\" (number of sample pixels in stratum h)\n",
    "    \"Ah\" (stratum area, km2)\n",
    "    Returns estimated SE of User's Accuracy of target class expressed as proportion (0-1) of the total study area\n",
    "    From Tyukavina et al. (in review) \"Global trends of forest loss due to fire, 2001-2019\"\n",
    "    Supplementary Information, equations 8 - 13\n",
    "    \"\"\"\n",
    "    #Create a copy of columns \"Stratum\",\"nh\", \"Ah\" and new columns: \n",
    "    #\"Correct\", where yu = au if the sample pixel is correctly classified as target class, and yu = 0 otherwise\n",
    "    #\"Mapped\", where zu = au if the sample pixel is mapped as target class, and zu = 0 otherwise \n",
    "    df1 = pd.concat([df[['au','ID','Stratum','nh','Ah']], \n",
    "                     pd.Series((((df['Reference'] == 1) & (df['Map'] == 1)).astype(bool) * df['au']) , name = 'Correct'),\n",
    "                     pd.Series(((df['Map'] == 1).astype(bool)* df['au']) , name = 'Mapped')],axis = 1)\n",
    "    \n",
    "    #Equation 11 Compute inclusion probability for each sampled pixel\n",
    "    df1['PIu'] = df1['nh'] * df1['au'] / df1['Ah']\n",
    "    \n",
    "    #Equations 8-10\n",
    "    Yest = (df1.Correct/df1.PIu).sum()\n",
    "    Zest = (df1.Mapped/df1.PIu).sum()\n",
    "    UA = Yest/Zest\n",
    "    \n",
    "    # Equation 13\n",
    "    var_u =(1-df1['PIu'])*(df1['Correct'] - UA * df1['Mapped'])*(df1['Correct'] - UA * df1['Mapped'])/ (df1['PIu']*df1['PIu'])\n",
    "    var = np.sum(var_u) / Zest ** 2\n",
    "    \n",
    "    SE = np.sqrt(var)\n",
    "     \n",
    "    return SE"
   ]
  },
  {
   "cell_type": "code",
   "execution_count": 32,
   "metadata": {},
   "outputs": [
    {
     "name": "stdout",
     "output_type": "stream",
     "text": [
      "Wall time: 18 ms\n"
     ]
    },
    {
     "data": {
      "text/plain": [
       "0.014586350037767162"
      ]
     },
     "execution_count": 32,
     "metadata": {},
     "output_type": "execute_result"
    }
   ],
   "source": [
    "%%time\n",
    "estimate_UA_SE(data)"
   ]
  },
  {
   "cell_type": "code",
   "execution_count": 33,
   "metadata": {},
   "outputs": [
    {
     "data": {
      "text/html": [
       "<div>\n",
       "<style scoped>\n",
       "    .dataframe tbody tr th:only-of-type {\n",
       "        vertical-align: middle;\n",
       "    }\n",
       "\n",
       "    .dataframe tbody tr th {\n",
       "        vertical-align: top;\n",
       "    }\n",
       "\n",
       "    .dataframe thead th {\n",
       "        text-align: right;\n",
       "    }\n",
       "</style>\n",
       "<table border=\"1\" class=\"dataframe\">\n",
       "  <thead>\n",
       "    <tr style=\"text-align: right;\">\n",
       "      <th></th>\n",
       "      <th>Region</th>\n",
       "      <th>UA_SE</th>\n",
       "    </tr>\n",
       "  </thead>\n",
       "  <tbody>\n",
       "    <tr>\n",
       "      <th>0</th>\n",
       "      <td>AFR</td>\n",
       "      <td>0.053548</td>\n",
       "    </tr>\n",
       "    <tr>\n",
       "      <th>1</th>\n",
       "      <td>EUR</td>\n",
       "      <td>0.021235</td>\n",
       "    </tr>\n",
       "    <tr>\n",
       "      <th>2</th>\n",
       "      <td>LAM</td>\n",
       "      <td>0.049441</td>\n",
       "    </tr>\n",
       "    <tr>\n",
       "      <th>3</th>\n",
       "      <td>NAM</td>\n",
       "      <td>0.022678</td>\n",
       "    </tr>\n",
       "    <tr>\n",
       "      <th>4</th>\n",
       "      <td>SEA-AUS</td>\n",
       "      <td>0.049971</td>\n",
       "    </tr>\n",
       "  </tbody>\n",
       "</table>\n",
       "</div>"
      ],
      "text/plain": [
       "    Region     UA_SE\n",
       "0      AFR  0.053548\n",
       "1      EUR  0.021235\n",
       "2      LAM  0.049441\n",
       "3      NAM  0.022678\n",
       "4  SEA-AUS  0.049971"
      ]
     },
     "execution_count": 33,
     "metadata": {},
     "output_type": "execute_result"
    }
   ],
   "source": [
    "data.groupby(by = [\"Region\"]).apply(estimate_UA_SE).reset_index(name ='UA_SE')"
   ]
  },
  {
   "cell_type": "code",
   "execution_count": 34,
   "metadata": {},
   "outputs": [],
   "source": [
    "def estimate_PA_SE (df: pd.DataFrame) -> float:\n",
    "    \"\"\" \n",
    "    Function to estimate the Standard Error of Producer's Accuracy of target class \n",
    "    Input dataframe with number of lines equal the number of sample pixels,\n",
    "    and the following columns:\n",
    "    \"ID\" (sampled pixel ID)\n",
    "    \"Stratum\" (strata IDs 1 - nstrata)\n",
    "    \"Map\" (1 if the sample pixel was mapped as target class, and 0 otherwise)\n",
    "    \"Reference\" (1 if the sample pixel was identified as target class in reference classification, and 0 otherwise)\n",
    "    \"au\" (area of sample pixel in km2)\n",
    "    \"nh\" (number of sample pixels in stratum h)\n",
    "    \"Ah\" (stratum area, km2)\n",
    "    Returns estimated SE of Producer's Accuracy of target class expressed as proportion (0-1) of the total study area\n",
    "    From Tyukavina et al. (in review) \"Global trends of forest loss due to fire, 2001-2019\"\n",
    "    Supplementary Information, equations 8 - 13\n",
    "    \"\"\"\n",
    "    #Create a copy of columns \"Stratum\",\"nh\", \"Ah\" and new columns: \n",
    "    #\"Correct\", where yu = au if the sample pixel is correctly classified as target class, and yu = 0 otherwise\n",
    "    #\"Ref\", where zu = au if the sample pixel is mapped as target class, and zu = 0 otherwise \n",
    "    df1 = pd.concat([df[['au','ID','Stratum','nh','Ah']],\n",
    "                     pd.Series((((df['Reference'] == 1) & (df['Map'] == 1)).astype(bool) * df['au']) , name = 'Correct'),\n",
    "                     pd.Series(((df['Reference'] == 1).astype(bool)* df['au']) , name = 'Ref')],axis = 1)\n",
    "   \n",
    "    #Equation 11 Compute inclusion probability for each sampled pixel\n",
    "    df1['PIu'] = df1['nh'] * df1['au'] / df1['Ah']\n",
    "    \n",
    "    #Equations 8-10\n",
    "    Yest = (df1.Correct/df1.PIu).sum()\n",
    "    Zest = (df1.Ref/df1.PIu).sum()\n",
    "    PA = Yest/Zest\n",
    "    \n",
    "    # Equation 13\n",
    "    var_u =(1-df1['PIu'])*(df1['Correct'] - PA * df1['Ref'])*(df1['Correct'] - PA * df1['Ref'])/ (df1['PIu']*df1['PIu'])\n",
    "    var = np.sum(var_u) / Zest ** 2\n",
    "    \n",
    "    SE = np.sqrt(var)\n",
    "     \n",
    "    return SE"
   ]
  },
  {
   "cell_type": "code",
   "execution_count": 35,
   "metadata": {},
   "outputs": [
    {
     "data": {
      "text/plain": [
       "0.017090040550356903"
      ]
     },
     "execution_count": 35,
     "metadata": {},
     "output_type": "execute_result"
    }
   ],
   "source": [
    "estimate_PA_SE(data)"
   ]
  },
  {
   "cell_type": "code",
   "execution_count": 36,
   "metadata": {},
   "outputs": [
    {
     "data": {
      "text/html": [
       "<div>\n",
       "<style scoped>\n",
       "    .dataframe tbody tr th:only-of-type {\n",
       "        vertical-align: middle;\n",
       "    }\n",
       "\n",
       "    .dataframe tbody tr th {\n",
       "        vertical-align: top;\n",
       "    }\n",
       "\n",
       "    .dataframe thead th {\n",
       "        text-align: right;\n",
       "    }\n",
       "</style>\n",
       "<table border=\"1\" class=\"dataframe\">\n",
       "  <thead>\n",
       "    <tr style=\"text-align: right;\">\n",
       "      <th></th>\n",
       "      <th>Region</th>\n",
       "      <th>PA_SE</th>\n",
       "    </tr>\n",
       "  </thead>\n",
       "  <tbody>\n",
       "    <tr>\n",
       "      <th>0</th>\n",
       "      <td>AFR</td>\n",
       "      <td>0.167205</td>\n",
       "    </tr>\n",
       "    <tr>\n",
       "      <th>1</th>\n",
       "      <td>EUR</td>\n",
       "      <td>0.019609</td>\n",
       "    </tr>\n",
       "    <tr>\n",
       "      <th>2</th>\n",
       "      <td>LAM</td>\n",
       "      <td>0.073371</td>\n",
       "    </tr>\n",
       "    <tr>\n",
       "      <th>3</th>\n",
       "      <td>NAM</td>\n",
       "      <td>0.015042</td>\n",
       "    </tr>\n",
       "    <tr>\n",
       "      <th>4</th>\n",
       "      <td>SEA-AUS</td>\n",
       "      <td>0.069025</td>\n",
       "    </tr>\n",
       "  </tbody>\n",
       "</table>\n",
       "</div>"
      ],
      "text/plain": [
       "    Region     PA_SE\n",
       "0      AFR  0.167205\n",
       "1      EUR  0.019609\n",
       "2      LAM  0.073371\n",
       "3      NAM  0.015042\n",
       "4  SEA-AUS  0.069025"
      ]
     },
     "execution_count": 36,
     "metadata": {},
     "output_type": "execute_result"
    }
   ],
   "source": [
    "data.groupby(by = [\"Region\"]).apply(estimate_PA_SE).reset_index(name ='PA_SE')"
   ]
  },
  {
   "cell_type": "code",
   "execution_count": 41,
   "metadata": {},
   "outputs": [
    {
     "name": "stdout",
     "output_type": "stream",
     "text": [
      "       area   area_SE    OA  OA_SE   UA  UA_SE   PA  PA_SE\n",
      " 1227725.19  31527.13  0.94   0.01  0.9   0.01  0.9   0.02\n"
     ]
    }
   ],
   "source": [
    "#Run all models for all regions together\n",
    "functions = [estimate_area, estimate_area_SE, estimate_OA, estimate_OA_SE, estimate_UA, estimate_UA_SE, estimate_PA, estimate_PA_SE]\n",
    "names = ['area','area_SE', 'OA', 'OA_SE', 'UA','UA_SE', 'PA','PA_SE']\n",
    "values = {nm:[fn(data)] for fn, nm in zip(functions,names)}\n",
    "results = pd.DataFrame(values)\n",
    "\n",
    "print (results.round(2).to_string(index=False))"
   ]
  },
  {
   "cell_type": "code",
   "execution_count": 42,
   "metadata": {},
   "outputs": [
    {
     "name": "stdout",
     "output_type": "stream",
     "text": [
      "  Region       area   area_SE    OA  OA_SE    UA  UA_SE    PA  PA_SE\n",
      "     AFR   16854.62   6300.36  0.98   0.01  0.62   0.05  0.44   0.17\n",
      "     EUR  572411.27  21875.33  0.93   0.02  0.94   0.02  0.94   0.02\n",
      "     LAM  128598.23  14285.63  0.93   0.01  0.74   0.05  0.67   0.07\n",
      "     NAM  385702.26  10635.11  0.97   0.01  0.95   0.02  0.98   0.02\n",
      " SEA-AUS  124158.81  12591.68  0.92   0.01  0.74   0.05  0.74   0.07\n"
     ]
    }
   ],
   "source": [
    "#Run all models for each region\n",
    "functions = [estimate_area, estimate_area_SE, estimate_OA, estimate_OA_SE, estimate_UA, estimate_UA_SE, estimate_PA, estimate_PA_SE]\n",
    "names = ['area','area_SE', 'OA', 'OA_SE', 'UA','UA_SE', 'PA','PA_SE']\n",
    "results = pd.concat([data.groupby(by = [\"Region\"]).apply(fn).reset_index(name = nm).set_index(\"Region\") for fn, nm in zip(functions,names)], axis = 1).reset_index()\n",
    "\n",
    "print (results.round(2).to_string(index=False))"
   ]
  },
  {
   "cell_type": "code",
   "execution_count": null,
   "metadata": {},
   "outputs": [],
   "source": []
  }
 ],
 "metadata": {
  "kernelspec": {
   "display_name": "Python 3",
   "language": "python",
   "name": "python3"
  },
  "language_info": {
   "codemirror_mode": {
    "name": "ipython",
    "version": 3
   },
   "file_extension": ".py",
   "mimetype": "text/x-python",
   "name": "python",
   "nbconvert_exporter": "python",
   "pygments_lexer": "ipython3",
   "version": "3.7.3"
  }
 },
 "nbformat": 4,
 "nbformat_minor": 2
}
