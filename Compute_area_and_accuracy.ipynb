{
 "cells": [
  {
   "cell_type": "code",
   "execution_count": 1,
   "metadata": {},
   "outputs": [],
   "source": [
    "import pandas as pd\n",
    "import numpy as np"
   ]
  },
  {
   "cell_type": "markdown",
   "metadata": {},
   "source": [
    "### Area and accuracy estimation for sampling with inclusion probabilities weighted by pixel area, for sampling with replacement, from Tyukavina et al. (in review) \"Global trends of forest loss due to fire, 2001-2019\""
   ]
  },
  {
   "cell_type": "code",
   "execution_count": 2,
   "metadata": {},
   "outputs": [],
   "source": [
    "#Read final sample interpretation table\n",
    "#Reference and map values == 1 for each sample represent forest loss due to fire class\n",
    "#Map values corrrespond to the final map adjusted to match the sample-based estimate\n",
    "data = pd.read_csv('Sample_data.txt', sep ='\\t')\n",
    "#Read strata info, including strata sizes and sample size in each stratum\n",
    "strata = pd.read_csv('Strata_info.txt', sep = '\\t')"
   ]
  },
  {
   "cell_type": "code",
   "execution_count": 3,
   "metadata": {},
   "outputs": [
    {
     "data": {
      "text/html": [
       "<style  type=\"text/css\" >\n",
       "</style><table id=\"T_474a2402_6c8a_11eb_9033_d0946613b163\" ><thead>    <tr>        <th class=\"col_heading level0 col0\" >ID</th>        <th class=\"col_heading level0 col1\" >Region</th>        <th class=\"col_heading level0 col2\" >Stratum</th>        <th class=\"col_heading level0 col3\" >Reference</th>        <th class=\"col_heading level0 col4\" >Pixarea</th>        <th class=\"col_heading level0 col5\" >Map</th>    </tr></thead><tbody>\n",
       "                <tr>\n",
       "                                <td id=\"T_474a2402_6c8a_11eb_9033_d0946613b163row0_col0\" class=\"data row0 col0\" >1</td>\n",
       "                        <td id=\"T_474a2402_6c8a_11eb_9033_d0946613b163row0_col1\" class=\"data row0 col1\" >SEA-AUS</td>\n",
       "                        <td id=\"T_474a2402_6c8a_11eb_9033_d0946613b163row0_col2\" class=\"data row0 col2\" >10</td>\n",
       "                        <td id=\"T_474a2402_6c8a_11eb_9033_d0946613b163row0_col3\" class=\"data row0 col3\" >1</td>\n",
       "                        <td id=\"T_474a2402_6c8a_11eb_9033_d0946613b163row0_col4\" class=\"data row0 col4\" >0.000638</td>\n",
       "                        <td id=\"T_474a2402_6c8a_11eb_9033_d0946613b163row0_col5\" class=\"data row0 col5\" >1</td>\n",
       "            </tr>\n",
       "            <tr>\n",
       "                                <td id=\"T_474a2402_6c8a_11eb_9033_d0946613b163row1_col0\" class=\"data row1 col0\" >2</td>\n",
       "                        <td id=\"T_474a2402_6c8a_11eb_9033_d0946613b163row1_col1\" class=\"data row1 col1\" >EUR</td>\n",
       "                        <td id=\"T_474a2402_6c8a_11eb_9033_d0946613b163row1_col2\" class=\"data row1 col2\" >2</td>\n",
       "                        <td id=\"T_474a2402_6c8a_11eb_9033_d0946613b163row1_col3\" class=\"data row1 col3\" >0</td>\n",
       "                        <td id=\"T_474a2402_6c8a_11eb_9033_d0946613b163row1_col4\" class=\"data row1 col4\" >0.000430</td>\n",
       "                        <td id=\"T_474a2402_6c8a_11eb_9033_d0946613b163row1_col5\" class=\"data row1 col5\" >0</td>\n",
       "            </tr>\n",
       "            <tr>\n",
       "                                <td id=\"T_474a2402_6c8a_11eb_9033_d0946613b163row2_col0\" class=\"data row2 col0\" >3</td>\n",
       "                        <td id=\"T_474a2402_6c8a_11eb_9033_d0946613b163row2_col1\" class=\"data row2 col1\" >AFR</td>\n",
       "                        <td id=\"T_474a2402_6c8a_11eb_9033_d0946613b163row2_col2\" class=\"data row2 col2\" >1</td>\n",
       "                        <td id=\"T_474a2402_6c8a_11eb_9033_d0946613b163row2_col3\" class=\"data row2 col3\" >0</td>\n",
       "                        <td id=\"T_474a2402_6c8a_11eb_9033_d0946613b163row2_col4\" class=\"data row2 col4\" >0.000749</td>\n",
       "                        <td id=\"T_474a2402_6c8a_11eb_9033_d0946613b163row2_col5\" class=\"data row2 col5\" >0</td>\n",
       "            </tr>\n",
       "            <tr>\n",
       "                                <td id=\"T_474a2402_6c8a_11eb_9033_d0946613b163row3_col0\" class=\"data row3 col0\" >4</td>\n",
       "                        <td id=\"T_474a2402_6c8a_11eb_9033_d0946613b163row3_col1\" class=\"data row3 col1\" >LAM</td>\n",
       "                        <td id=\"T_474a2402_6c8a_11eb_9033_d0946613b163row3_col2\" class=\"data row3 col2\" >3</td>\n",
       "                        <td id=\"T_474a2402_6c8a_11eb_9033_d0946613b163row3_col3\" class=\"data row3 col3\" >0</td>\n",
       "                        <td id=\"T_474a2402_6c8a_11eb_9033_d0946613b163row3_col4\" class=\"data row3 col4\" >0.000733</td>\n",
       "                        <td id=\"T_474a2402_6c8a_11eb_9033_d0946613b163row3_col5\" class=\"data row3 col5\" >0</td>\n",
       "            </tr>\n",
       "            <tr>\n",
       "                                <td id=\"T_474a2402_6c8a_11eb_9033_d0946613b163row4_col0\" class=\"data row4 col0\" >5</td>\n",
       "                        <td id=\"T_474a2402_6c8a_11eb_9033_d0946613b163row4_col1\" class=\"data row4 col1\" >LAM</td>\n",
       "                        <td id=\"T_474a2402_6c8a_11eb_9033_d0946613b163row4_col2\" class=\"data row4 col2\" >8</td>\n",
       "                        <td id=\"T_474a2402_6c8a_11eb_9033_d0946613b163row4_col3\" class=\"data row4 col3\" >1</td>\n",
       "                        <td id=\"T_474a2402_6c8a_11eb_9033_d0946613b163row4_col4\" class=\"data row4 col4\" >0.000744</td>\n",
       "                        <td id=\"T_474a2402_6c8a_11eb_9033_d0946613b163row4_col5\" class=\"data row4 col5\" >1</td>\n",
       "            </tr>\n",
       "    </tbody></table>"
      ],
      "text/plain": [
       "<pandas.io.formats.style.Styler at 0x25f57ca9860>"
      ]
     },
     "execution_count": 3,
     "metadata": {},
     "output_type": "execute_result"
    }
   ],
   "source": [
    "data.head().style.hide_index()"
   ]
  },
  {
   "cell_type": "code",
   "execution_count": 4,
   "metadata": {},
   "outputs": [
    {
     "data": {
      "text/html": [
       "<style  type=\"text/css\" >\n",
       "</style><table id=\"T_474bd16e_6c8a_11eb_afe1_d0946613b163\" ><thead>    <tr>        <th class=\"col_heading level0 col0\" >Region</th>        <th class=\"col_heading level0 col1\" >Stratum</th>        <th class=\"col_heading level0 col2\" >Area_km2</th>        <th class=\"col_heading level0 col3\" >Sample_size</th>    </tr></thead><tbody>\n",
       "                <tr>\n",
       "                                <td id=\"T_474bd16e_6c8a_11eb_afe1_d0946613b163row0_col0\" class=\"data row0 col0\" >AFR</td>\n",
       "                        <td id=\"T_474bd16e_6c8a_11eb_afe1_d0946613b163row0_col1\" class=\"data row0 col1\" >1</td>\n",
       "                        <td id=\"T_474bd16e_6c8a_11eb_afe1_d0946613b163row0_col2\" class=\"data row0 col2\" >595255.012800</td>\n",
       "                        <td id=\"T_474bd16e_6c8a_11eb_afe1_d0946613b163row0_col3\" class=\"data row0 col3\" >134</td>\n",
       "            </tr>\n",
       "            <tr>\n",
       "                                <td id=\"T_474bd16e_6c8a_11eb_afe1_d0946613b163row1_col0\" class=\"data row1 col0\" >EUR</td>\n",
       "                        <td id=\"T_474bd16e_6c8a_11eb_afe1_d0946613b163row1_col1\" class=\"data row1 col1\" >2</td>\n",
       "                        <td id=\"T_474bd16e_6c8a_11eb_afe1_d0946613b163row1_col2\" class=\"data row1 col2\" >332992.902600</td>\n",
       "                        <td id=\"T_474bd16e_6c8a_11eb_afe1_d0946613b163row1_col3\" class=\"data row1 col3\" >100</td>\n",
       "            </tr>\n",
       "            <tr>\n",
       "                                <td id=\"T_474bd16e_6c8a_11eb_afe1_d0946613b163row2_col0\" class=\"data row2 col0\" >LAM</td>\n",
       "                        <td id=\"T_474bd16e_6c8a_11eb_afe1_d0946613b163row2_col1\" class=\"data row2 col1\" >3</td>\n",
       "                        <td id=\"T_474bd16e_6c8a_11eb_afe1_d0946613b163row2_col2\" class=\"data row2 col2\" >946369.335100</td>\n",
       "                        <td id=\"T_474bd16e_6c8a_11eb_afe1_d0946613b163row2_col3\" class=\"data row2 col3\" >213</td>\n",
       "            </tr>\n",
       "            <tr>\n",
       "                                <td id=\"T_474bd16e_6c8a_11eb_afe1_d0946613b163row3_col0\" class=\"data row3 col0\" >NAM</td>\n",
       "                        <td id=\"T_474bd16e_6c8a_11eb_afe1_d0946613b163row3_col1\" class=\"data row3 col1\" >4</td>\n",
       "                        <td id=\"T_474bd16e_6c8a_11eb_afe1_d0946613b163row3_col2\" class=\"data row3 col2\" >486272.535600</td>\n",
       "                        <td id=\"T_474bd16e_6c8a_11eb_afe1_d0946613b163row3_col3\" class=\"data row3 col3\" >109</td>\n",
       "            </tr>\n",
       "            <tr>\n",
       "                                <td id=\"T_474bd16e_6c8a_11eb_afe1_d0946613b163row4_col0\" class=\"data row4 col0\" >SEA-AUS</td>\n",
       "                        <td id=\"T_474bd16e_6c8a_11eb_afe1_d0946613b163row4_col1\" class=\"data row4 col1\" >5</td>\n",
       "                        <td id=\"T_474bd16e_6c8a_11eb_afe1_d0946613b163row4_col2\" class=\"data row4 col2\" >669855.474600</td>\n",
       "                        <td id=\"T_474bd16e_6c8a_11eb_afe1_d0946613b163row4_col3\" class=\"data row4 col3\" >150</td>\n",
       "            </tr>\n",
       "    </tbody></table>"
      ],
      "text/plain": [
       "<pandas.io.formats.style.Styler at 0x25f5af62128>"
      ]
     },
     "execution_count": 4,
     "metadata": {},
     "output_type": "execute_result"
    }
   ],
   "source": [
    "strata.head().style.hide_index()"
   ]
  },
  {
   "cell_type": "code",
   "execution_count": 5,
   "metadata": {},
   "outputs": [],
   "source": [
    "#Merge sample table (data) with strata info table (strata) on the common column \"Stratum\"\n",
    "data = data.merge(strata[['Stratum', 'Area_km2', 'Sample_size']])\n",
    "data = data.rename(columns = {'Area_km2':'Ah', 'Sample_size':'nh', 'Pixarea':'au'})"
   ]
  },
  {
   "cell_type": "code",
   "execution_count": 6,
   "metadata": {},
   "outputs": [
    {
     "data": {
      "text/html": [
       "<style  type=\"text/css\" >\n",
       "</style><table id=\"T_48550052_6c8a_11eb_9583_d0946613b163\" ><thead>    <tr>        <th class=\"col_heading level0 col0\" >ID</th>        <th class=\"col_heading level0 col1\" >Region</th>        <th class=\"col_heading level0 col2\" >Stratum</th>        <th class=\"col_heading level0 col3\" >Reference</th>        <th class=\"col_heading level0 col4\" >au</th>        <th class=\"col_heading level0 col5\" >Map</th>        <th class=\"col_heading level0 col6\" >Ah</th>        <th class=\"col_heading level0 col7\" >nh</th>    </tr></thead><tbody>\n",
       "                <tr>\n",
       "                                <td id=\"T_48550052_6c8a_11eb_9583_d0946613b163row0_col0\" class=\"data row0 col0\" >1</td>\n",
       "                        <td id=\"T_48550052_6c8a_11eb_9583_d0946613b163row0_col1\" class=\"data row0 col1\" >SEA-AUS</td>\n",
       "                        <td id=\"T_48550052_6c8a_11eb_9583_d0946613b163row0_col2\" class=\"data row0 col2\" >10</td>\n",
       "                        <td id=\"T_48550052_6c8a_11eb_9583_d0946613b163row0_col3\" class=\"data row0 col3\" >1</td>\n",
       "                        <td id=\"T_48550052_6c8a_11eb_9583_d0946613b163row0_col4\" class=\"data row0 col4\" >0.000638</td>\n",
       "                        <td id=\"T_48550052_6c8a_11eb_9583_d0946613b163row0_col5\" class=\"data row0 col5\" >1</td>\n",
       "                        <td id=\"T_48550052_6c8a_11eb_9583_d0946613b163row0_col6\" class=\"data row0 col6\" >161635.388000</td>\n",
       "                        <td id=\"T_48550052_6c8a_11eb_9583_d0946613b163row0_col7\" class=\"data row0 col7\" >100</td>\n",
       "            </tr>\n",
       "            <tr>\n",
       "                                <td id=\"T_48550052_6c8a_11eb_9583_d0946613b163row1_col0\" class=\"data row1 col0\" >8</td>\n",
       "                        <td id=\"T_48550052_6c8a_11eb_9583_d0946613b163row1_col1\" class=\"data row1 col1\" >SEA-AUS</td>\n",
       "                        <td id=\"T_48550052_6c8a_11eb_9583_d0946613b163row1_col2\" class=\"data row1 col2\" >10</td>\n",
       "                        <td id=\"T_48550052_6c8a_11eb_9583_d0946613b163row1_col3\" class=\"data row1 col3\" >1</td>\n",
       "                        <td id=\"T_48550052_6c8a_11eb_9583_d0946613b163row1_col4\" class=\"data row1 col4\" >0.000626</td>\n",
       "                        <td id=\"T_48550052_6c8a_11eb_9583_d0946613b163row1_col5\" class=\"data row1 col5\" >1</td>\n",
       "                        <td id=\"T_48550052_6c8a_11eb_9583_d0946613b163row1_col6\" class=\"data row1 col6\" >161635.388000</td>\n",
       "                        <td id=\"T_48550052_6c8a_11eb_9583_d0946613b163row1_col7\" class=\"data row1 col7\" >100</td>\n",
       "            </tr>\n",
       "            <tr>\n",
       "                                <td id=\"T_48550052_6c8a_11eb_9583_d0946613b163row2_col0\" class=\"data row2 col0\" >10</td>\n",
       "                        <td id=\"T_48550052_6c8a_11eb_9583_d0946613b163row2_col1\" class=\"data row2 col1\" >SEA-AUS</td>\n",
       "                        <td id=\"T_48550052_6c8a_11eb_9583_d0946613b163row2_col2\" class=\"data row2 col2\" >10</td>\n",
       "                        <td id=\"T_48550052_6c8a_11eb_9583_d0946613b163row2_col3\" class=\"data row2 col3\" >1</td>\n",
       "                        <td id=\"T_48550052_6c8a_11eb_9583_d0946613b163row2_col4\" class=\"data row2 col4\" >0.000769</td>\n",
       "                        <td id=\"T_48550052_6c8a_11eb_9583_d0946613b163row2_col5\" class=\"data row2 col5\" >1</td>\n",
       "                        <td id=\"T_48550052_6c8a_11eb_9583_d0946613b163row2_col6\" class=\"data row2 col6\" >161635.388000</td>\n",
       "                        <td id=\"T_48550052_6c8a_11eb_9583_d0946613b163row2_col7\" class=\"data row2 col7\" >100</td>\n",
       "            </tr>\n",
       "            <tr>\n",
       "                                <td id=\"T_48550052_6c8a_11eb_9583_d0946613b163row3_col0\" class=\"data row3 col0\" >26</td>\n",
       "                        <td id=\"T_48550052_6c8a_11eb_9583_d0946613b163row3_col1\" class=\"data row3 col1\" >SEA-AUS</td>\n",
       "                        <td id=\"T_48550052_6c8a_11eb_9583_d0946613b163row3_col2\" class=\"data row3 col2\" >10</td>\n",
       "                        <td id=\"T_48550052_6c8a_11eb_9583_d0946613b163row3_col3\" class=\"data row3 col3\" >1</td>\n",
       "                        <td id=\"T_48550052_6c8a_11eb_9583_d0946613b163row3_col4\" class=\"data row3 col4\" >0.000670</td>\n",
       "                        <td id=\"T_48550052_6c8a_11eb_9583_d0946613b163row3_col5\" class=\"data row3 col5\" >1</td>\n",
       "                        <td id=\"T_48550052_6c8a_11eb_9583_d0946613b163row3_col6\" class=\"data row3 col6\" >161635.388000</td>\n",
       "                        <td id=\"T_48550052_6c8a_11eb_9583_d0946613b163row3_col7\" class=\"data row3 col7\" >100</td>\n",
       "            </tr>\n",
       "            <tr>\n",
       "                                <td id=\"T_48550052_6c8a_11eb_9583_d0946613b163row4_col0\" class=\"data row4 col0\" >30</td>\n",
       "                        <td id=\"T_48550052_6c8a_11eb_9583_d0946613b163row4_col1\" class=\"data row4 col1\" >SEA-AUS</td>\n",
       "                        <td id=\"T_48550052_6c8a_11eb_9583_d0946613b163row4_col2\" class=\"data row4 col2\" >10</td>\n",
       "                        <td id=\"T_48550052_6c8a_11eb_9583_d0946613b163row4_col3\" class=\"data row4 col3\" >1</td>\n",
       "                        <td id=\"T_48550052_6c8a_11eb_9583_d0946613b163row4_col4\" class=\"data row4 col4\" >0.000649</td>\n",
       "                        <td id=\"T_48550052_6c8a_11eb_9583_d0946613b163row4_col5\" class=\"data row4 col5\" >1</td>\n",
       "                        <td id=\"T_48550052_6c8a_11eb_9583_d0946613b163row4_col6\" class=\"data row4 col6\" >161635.388000</td>\n",
       "                        <td id=\"T_48550052_6c8a_11eb_9583_d0946613b163row4_col7\" class=\"data row4 col7\" >100</td>\n",
       "            </tr>\n",
       "    </tbody></table>"
      ],
      "text/plain": [
       "<pandas.io.formats.style.Styler at 0x25f5aebeef0>"
      ]
     },
     "execution_count": 6,
     "metadata": {},
     "output_type": "execute_result"
    }
   ],
   "source": [
    "data.head().style.hide_index()"
   ]
  },
  {
   "cell_type": "code",
   "execution_count": 7,
   "metadata": {},
   "outputs": [],
   "source": [
    "def estimate_area(df: pd.DataFrame) -> float:\n",
    "    \"\"\" \n",
    "    Function to estimate class area from sample refernce values\n",
    "    Input dataframe with number of lines equal the number of sample pixels,\n",
    "    and the following columns:\n",
    "    \"Stratum\" (strata IDs 1 - nstrata)\n",
    "    \"Reference\" (1 if the sample pixel was identified as target class in reference classification, and 0 otherwise)\n",
    "    \"Ah\" (stratum area, km²)\n",
    "    \"nh\" (number of sample pixels in stratum h)\n",
    "    Returns estimated class area in km²\n",
    "    From Tyukavina et al. (in review) \"Global trends of forest loss due to fire, 2001-2019\"\n",
    "    Supplementary Information, equations 1 and 6\n",
    "    \"\"\"\n",
    "    #Create a copy of columns \"Stratum\",\"nh\",\"Ah\" and a new column \"ForArea\", \n",
    "    #where u = Ah if the sample pixel has Reference == 1 (is of target class), and u = 0 if Reference == 0\n",
    "    df1 = pd.concat([df['Stratum'], df['Ah'], df['nh'], pd.Series(((df['Reference']).astype(bool)* df['Ah']) , name = 'ForArea')], axis = 1)\n",
    "    \n",
    "    ByStratum = df1.groupby(by = ['Stratum'])\n",
    "    \n",
    "    # Equation 6, compute area of target class in each stratum\n",
    "    areastrat = ByStratum.ForArea.sum()/ByStratum.nh.median()\n",
    "    # Equation 1, sum target class areas over all strata\n",
    "    area = areastrat.sum()\n",
    "\n",
    "    return area"
   ]
  },
  {
   "cell_type": "code",
   "execution_count": 8,
   "metadata": {},
   "outputs": [
    {
     "data": {
      "text/plain": [
       "1227725.1907783307"
      ]
     },
     "execution_count": 8,
     "metadata": {},
     "output_type": "execute_result"
    }
   ],
   "source": [
    "#Global area estimate\n",
    "estimate_area(data)"
   ]
  },
  {
   "cell_type": "code",
   "execution_count": 9,
   "metadata": {},
   "outputs": [
    {
     "data": {
      "text/html": [
       "<style  type=\"text/css\" >\n",
       "</style><table id=\"T_4af199be_6c8a_11eb_8d80_d0946613b163\" ><thead>    <tr>        <th class=\"col_heading level0 col0\" >Region</th>        <th class=\"col_heading level0 col1\" >area, km²</th>    </tr></thead><tbody>\n",
       "                <tr>\n",
       "                                <td id=\"T_4af199be_6c8a_11eb_8d80_d0946613b163row0_col0\" class=\"data row0 col0\" >AFR</td>\n",
       "                        <td id=\"T_4af199be_6c8a_11eb_8d80_d0946613b163row0_col1\" class=\"data row0 col1\" >16854.619667</td>\n",
       "            </tr>\n",
       "            <tr>\n",
       "                                <td id=\"T_4af199be_6c8a_11eb_8d80_d0946613b163row1_col0\" class=\"data row1 col0\" >EUR</td>\n",
       "                        <td id=\"T_4af199be_6c8a_11eb_8d80_d0946613b163row1_col1\" class=\"data row1 col1\" >572411.271631</td>\n",
       "            </tr>\n",
       "            <tr>\n",
       "                                <td id=\"T_4af199be_6c8a_11eb_8d80_d0946613b163row2_col0\" class=\"data row2 col0\" >LAM</td>\n",
       "                        <td id=\"T_4af199be_6c8a_11eb_8d80_d0946613b163row2_col1\" class=\"data row2 col1\" >128598.229410</td>\n",
       "            </tr>\n",
       "            <tr>\n",
       "                                <td id=\"T_4af199be_6c8a_11eb_8d80_d0946613b163row3_col0\" class=\"data row3 col0\" >NAM</td>\n",
       "                        <td id=\"T_4af199be_6c8a_11eb_8d80_d0946613b163row3_col1\" class=\"data row3 col1\" >385702.259811</td>\n",
       "            </tr>\n",
       "            <tr>\n",
       "                                <td id=\"T_4af199be_6c8a_11eb_8d80_d0946613b163row4_col0\" class=\"data row4 col0\" >SEA-AUS</td>\n",
       "                        <td id=\"T_4af199be_6c8a_11eb_8d80_d0946613b163row4_col1\" class=\"data row4 col1\" >124158.810260</td>\n",
       "            </tr>\n",
       "    </tbody></table>"
      ],
      "text/plain": [
       "<pandas.io.formats.style.Styler at 0x25f5af73ba8>"
      ]
     },
     "execution_count": 9,
     "metadata": {},
     "output_type": "execute_result"
    }
   ],
   "source": [
    "#Area estimates by region\n",
    "data.groupby(by = [\"Region\"]).apply(estimate_area).reset_index(name='area, km²').style.hide_index()"
   ]
  },
  {
   "cell_type": "code",
   "execution_count": 10,
   "metadata": {},
   "outputs": [],
   "source": [
    "def estimate_area_SE(df: pd.DataFrame) -> float:\n",
    "    \"\"\" \n",
    "    Function to estimate Standard Error of the target class area estimated from sample refernce values\n",
    "    Input dataframe with number of lines equal the number of sample pixels,\n",
    "    and the following columns:\n",
    "    \"Stratum\" (strata IDs 1 - nstrata)\n",
    "    \"Reference\" (1 if the sample pixel was identified as target class in reference classification, and 0 otherwise)\n",
    "    \"Ah\" (stratum area, km²)\n",
    "    \"nh\" (number of sample pixels in stratum h)\n",
    "    Returns estimated SE of the target class area in km²\n",
    "    From Tyukavina et al. (in review) \"Global trends of forest loss due to fire, 2001-2019\"\n",
    "    Supplementary Information, equations 4 and 7\n",
    "    \"\"\"\n",
    "    #Create a copy of columns \"Stratum\",\"nh\" and a new column \"ForVar\", \n",
    "    #where u = Ah if the sample pixel is of the class being estimated and u = 0 if the sample pixel is not of that class\n",
    "    df1 = pd.concat([df['Stratum'],df['nh'], pd.Series(df['Reference'].astype(bool) * df['Ah'], name = 'ForVar')],axis = 1)\n",
    "    \n",
    "    ByStratum = df1.groupby(by = ['Stratum'])\n",
    "    \n",
    "    #Equation 7, compute variance for each stratum\n",
    "    StrataVar = ByStratum.ForVar.var() / ByStratum.nh.median() \n",
    "    #Equation 4, sum strata-specific variances\n",
    "    StrataVarSum = StrataVar.sum()\n",
    "    \n",
    "    #Compute SE of the estimated class area from a sum of strata variances\n",
    "    SE = np.sqrt(StrataVarSum)\n",
    "    \n",
    "    return SE"
   ]
  },
  {
   "cell_type": "code",
   "execution_count": 11,
   "metadata": {},
   "outputs": [
    {
     "data": {
      "text/plain": [
       "31527.132247399582"
      ]
     },
     "execution_count": 11,
     "metadata": {},
     "output_type": "execute_result"
    }
   ],
   "source": [
    "#Global estimate of area SE\n",
    "estimate_area_SE(data)"
   ]
  },
  {
   "cell_type": "code",
   "execution_count": 12,
   "metadata": {},
   "outputs": [
    {
     "data": {
      "text/html": [
       "<style  type=\"text/css\" >\n",
       "</style><table id=\"T_4e12579c_6c8a_11eb_b59b_d0946613b163\" ><thead>    <tr>        <th class=\"col_heading level0 col0\" >Region</th>        <th class=\"col_heading level0 col1\" >Area SE, km²</th>    </tr></thead><tbody>\n",
       "                <tr>\n",
       "                                <td id=\"T_4e12579c_6c8a_11eb_b59b_d0946613b163row0_col0\" class=\"data row0 col0\" >AFR</td>\n",
       "                        <td id=\"T_4e12579c_6c8a_11eb_b59b_d0946613b163row0_col1\" class=\"data row0 col1\" >6300.362320</td>\n",
       "            </tr>\n",
       "            <tr>\n",
       "                                <td id=\"T_4e12579c_6c8a_11eb_b59b_d0946613b163row1_col0\" class=\"data row1 col0\" >EUR</td>\n",
       "                        <td id=\"T_4e12579c_6c8a_11eb_b59b_d0946613b163row1_col1\" class=\"data row1 col1\" >21875.332734</td>\n",
       "            </tr>\n",
       "            <tr>\n",
       "                                <td id=\"T_4e12579c_6c8a_11eb_b59b_d0946613b163row2_col0\" class=\"data row2 col0\" >LAM</td>\n",
       "                        <td id=\"T_4e12579c_6c8a_11eb_b59b_d0946613b163row2_col1\" class=\"data row2 col1\" >14285.627420</td>\n",
       "            </tr>\n",
       "            <tr>\n",
       "                                <td id=\"T_4e12579c_6c8a_11eb_b59b_d0946613b163row3_col0\" class=\"data row3 col0\" >NAM</td>\n",
       "                        <td id=\"T_4e12579c_6c8a_11eb_b59b_d0946613b163row3_col1\" class=\"data row3 col1\" >10635.113566</td>\n",
       "            </tr>\n",
       "            <tr>\n",
       "                                <td id=\"T_4e12579c_6c8a_11eb_b59b_d0946613b163row4_col0\" class=\"data row4 col0\" >SEA-AUS</td>\n",
       "                        <td id=\"T_4e12579c_6c8a_11eb_b59b_d0946613b163row4_col1\" class=\"data row4 col1\" >12591.684909</td>\n",
       "            </tr>\n",
       "    </tbody></table>"
      ],
      "text/plain": [
       "<pandas.io.formats.style.Styler at 0x25f5aebe860>"
      ]
     },
     "execution_count": 12,
     "metadata": {},
     "output_type": "execute_result"
    }
   ],
   "source": [
    "#Standard error of area estimated by region\n",
    "data.groupby(by = [\"Region\"]).apply(estimate_area_SE).reset_index(name='Area SE, km²').style.hide_index()"
   ]
  },
  {
   "cell_type": "code",
   "execution_count": 13,
   "metadata": {},
   "outputs": [],
   "source": [
    "def estimate_OA (df: pd.DataFrame) -> float:\n",
    "    \"\"\" \n",
    "    Function to estimate Overall Accuracy of the map \n",
    "    Input dataframe with number of lines equal the number of sample pixels,\n",
    "    ans the following columns:\n",
    "    \"Stratum\" (strata IDs 1 - nstrata)\n",
    "    \"Map\" (1 if the sample pixel was mapped as target class, and 0 otherwise)\n",
    "    \"Reference\" (1 if the sample pixel was identified as target class in reference classification, and 0 otherwise)\n",
    "    \"Ah\" (stratum area, km²)\n",
    "    \"nh\" (number of sample pixels in stratum h)\n",
    "    Returns estimated Overall Accuracy of the map expressed as proportion (0-1) of the total study area\n",
    "    From Tyukavina et al. (in review) \"Global trends of forest loss due to fire, 2001-2019\"\n",
    "    Supplementary Information, equations 1 and 6, modified for Overall Accuracy computation:\n",
    "    Y^h is defnied as area of correctly classified pixels within a stratum\n",
    "    \"\"\"\n",
    "    #Create a copy of columns \"Stratum\",\"nh\",\"Ah\" and a new column \"Correct, \n",
    "    #where u = Ah if the sample pixel is correctly classified, and u = 0 if sample is incorrectly classified\n",
    "    df1 = pd.concat([df['Stratum'], df['Ah'], df['nh'], pd.Series((df['Reference'] == df['Map'])* df['Ah'] , name = 'Correct')], axis = 1)\n",
    "    \n",
    "    ByStratum = df1.groupby(by = ['Stratum'])\n",
    "    \n",
    "     # Equation 6, compute correctly classified area in each stratum\n",
    "    CorrectlyClassified = ByStratum.Correct.sum()/ByStratum.nh.median()\n",
    "    # Equation 1, sum correctly classified areas accross all strata\n",
    "    CorrectlyClassifiedSum = CorrectlyClassified.sum()\n",
    "    \n",
    "    #Derive an Overall Accuracy metric by dividing the sum of correctly classified areas by the total study area\n",
    "    OA = CorrectlyClassifiedSum / ((ByStratum.Ah.median()).sum())\n",
    "\n",
    "    return OA"
   ]
  },
  {
   "cell_type": "code",
   "execution_count": 14,
   "metadata": {},
   "outputs": [
    {
     "data": {
      "text/plain": [
       "0.9443361626185658"
      ]
     },
     "execution_count": 14,
     "metadata": {},
     "output_type": "execute_result"
    }
   ],
   "source": [
    "#Global estimate of Overall Accuracy\n",
    "estimate_OA(data)"
   ]
  },
  {
   "cell_type": "code",
   "execution_count": 15,
   "metadata": {},
   "outputs": [
    {
     "data": {
      "text/html": [
       "<style  type=\"text/css\" >\n",
       "</style><table id=\"T_500b6fe6_6c8a_11eb_a32b_d0946613b163\" ><thead>    <tr>        <th class=\"col_heading level0 col0\" >Region</th>        <th class=\"col_heading level0 col1\" >Overall Accuracy</th>    </tr></thead><tbody>\n",
       "                <tr>\n",
       "                                <td id=\"T_500b6fe6_6c8a_11eb_a32b_d0946613b163row0_col0\" class=\"data row0 col0\" >AFR</td>\n",
       "                        <td id=\"T_500b6fe6_6c8a_11eb_a32b_d0946613b163row0_col1\" class=\"data row0 col1\" >0.977111</td>\n",
       "            </tr>\n",
       "            <tr>\n",
       "                                <td id=\"T_500b6fe6_6c8a_11eb_a32b_d0946613b163row1_col0\" class=\"data row1 col0\" >EUR</td>\n",
       "                        <td id=\"T_500b6fe6_6c8a_11eb_a32b_d0946613b163row1_col1\" class=\"data row1 col1\" >0.933049</td>\n",
       "            </tr>\n",
       "            <tr>\n",
       "                                <td id=\"T_500b6fe6_6c8a_11eb_a32b_d0946613b163row2_col0\" class=\"data row2 col0\" >LAM</td>\n",
       "                        <td id=\"T_500b6fe6_6c8a_11eb_a32b_d0946613b163row2_col1\" class=\"data row2 col1\" >0.933761</td>\n",
       "            </tr>\n",
       "            <tr>\n",
       "                                <td id=\"T_500b6fe6_6c8a_11eb_a32b_d0946613b163row3_col0\" class=\"data row3 col0\" >NAM</td>\n",
       "                        <td id=\"T_500b6fe6_6c8a_11eb_a32b_d0946613b163row3_col1\" class=\"data row3 col1\" >0.967779</td>\n",
       "            </tr>\n",
       "            <tr>\n",
       "                                <td id=\"T_500b6fe6_6c8a_11eb_a32b_d0946613b163row4_col0\" class=\"data row4 col0\" >SEA-AUS</td>\n",
       "                        <td id=\"T_500b6fe6_6c8a_11eb_a32b_d0946613b163row4_col1\" class=\"data row4 col1\" >0.922604</td>\n",
       "            </tr>\n",
       "    </tbody></table>"
      ],
      "text/plain": [
       "<pandas.io.formats.style.Styler at 0x25f5af9a7f0>"
      ]
     },
     "execution_count": 15,
     "metadata": {},
     "output_type": "execute_result"
    }
   ],
   "source": [
    "#Overall accuracy estimated by region\n",
    "data.groupby(by = [\"Region\"]).apply(estimate_OA).reset_index(name='Overall Accuracy').style.hide_index()"
   ]
  },
  {
   "cell_type": "code",
   "execution_count": 16,
   "metadata": {},
   "outputs": [],
   "source": [
    "def estimate_OA_SE(df: pd.DataFrame) -> float:\n",
    "    \"\"\" \n",
    "    Function to estimate Standard Error of map Overall Accuracy\n",
    "    Input dataframe with number of lines equal the number of sample pixels,\n",
    "    and the following columns:\n",
    "    \"Stratum\" (strata IDs 1 - nstrata)\n",
    "    \"Map\" (1 if the sample pixel was mapped as target class, and 0 otherwise)\n",
    "    \"Reference\" (1 if the sample pixel was identified as target class in reference classification, and 0 otherwise)\n",
    "    \"Ah\" (stratum area, km²)\n",
    "    \"nh\" (number of sample pixels in stratum h)\n",
    "    Returns estimated SE of the Overall Accuracy expressed as proportion (0-1) of the total study area\n",
    "    From Tyukavina et al. (in review) \"Global trends of forest loss due to fire, 2001-2019\"\n",
    "    Supplementary Information, equations 4 and 7, modified for Overall Accuracy computation:\n",
    "    u = Ah if the sample pixel is classified correctly and u = 0 if the sample pixel is not classified correctly.\n",
    "    \"\"\"\n",
    "    #Create a copy of columns \"Stratum\",\"nh\",\"Ah\" and a new column \"Correct\", \n",
    "    #where u = Ah if the sample pixel has Reference == 1 (is of target class), and u = 0 if Reference == 0\n",
    "    \n",
    "    df1 = pd.concat([df['Stratum'], df['Ah'], df['nh'], pd.Series((df['Reference'] == df['Map']) * df['Ah'], name = 'Correct')], axis = 1)\n",
    "    \n",
    "    ByStratum = df1.groupby(by = ['Stratum'])\n",
    "    \n",
    "    #Equation 7, compute variance for each stratum\n",
    "    StrataVar = ByStratum.Correct.var() / ByStratum.nh.median() \n",
    "    #Equation 4, sum strata-specific variances\n",
    "    StrataVarSum = StrataVar.sum()\n",
    "    \n",
    "    #Compute SE of the estimated class area from a sum of strata variances divided by the total study area\n",
    "    SE = np.sqrt(StrataVarSum)/((ByStratum.Ah.median()).sum())\n",
    "    \n",
    "    return SE"
   ]
  },
  {
   "cell_type": "code",
   "execution_count": 17,
   "metadata": {},
   "outputs": [
    {
     "data": {
      "text/plain": [
       "0.006215359496848278"
      ]
     },
     "execution_count": 17,
     "metadata": {},
     "output_type": "execute_result"
    }
   ],
   "source": [
    "#Global estimate of Standard Error of Overall Accuracy\n",
    "estimate_OA_SE(data)"
   ]
  },
  {
   "cell_type": "code",
   "execution_count": 18,
   "metadata": {},
   "outputs": [
    {
     "data": {
      "text/html": [
       "<style  type=\"text/css\" >\n",
       "</style><table id=\"T_514c2bae_6c8a_11eb_beac_d0946613b163\" ><thead>    <tr>        <th class=\"col_heading level0 col0\" >Region</th>        <th class=\"col_heading level0 col1\" >OA SE</th>    </tr></thead><tbody>\n",
       "                <tr>\n",
       "                                <td id=\"T_514c2bae_6c8a_11eb_beac_d0946613b163row0_col0\" class=\"data row0 col0\" >AFR</td>\n",
       "                        <td id=\"T_514c2bae_6c8a_11eb_beac_d0946613b163row0_col1\" class=\"data row0 col1\" >0.010327</td>\n",
       "            </tr>\n",
       "            <tr>\n",
       "                                <td id=\"T_514c2bae_6c8a_11eb_beac_d0946613b163row1_col0\" class=\"data row1 col0\" >EUR</td>\n",
       "                        <td id=\"T_514c2bae_6c8a_11eb_beac_d0946613b163row1_col1\" class=\"data row1 col1\" >0.016209</td>\n",
       "            </tr>\n",
       "            <tr>\n",
       "                                <td id=\"T_514c2bae_6c8a_11eb_beac_d0946613b163row2_col0\" class=\"data row2 col0\" >LAM</td>\n",
       "                        <td id=\"T_514c2bae_6c8a_11eb_beac_d0946613b163row2_col1\" class=\"data row2 col1\" >0.012732</td>\n",
       "            </tr>\n",
       "            <tr>\n",
       "                                <td id=\"T_514c2bae_6c8a_11eb_beac_d0946613b163row3_col0\" class=\"data row3 col0\" >NAM</td>\n",
       "                        <td id=\"T_514c2bae_6c8a_11eb_beac_d0946613b163row3_col1\" class=\"data row3 col1\" >0.011804</td>\n",
       "            </tr>\n",
       "            <tr>\n",
       "                                <td id=\"T_514c2bae_6c8a_11eb_beac_d0946613b163row4_col0\" class=\"data row4 col0\" >SEA-AUS</td>\n",
       "                        <td id=\"T_514c2bae_6c8a_11eb_beac_d0946613b163row4_col1\" class=\"data row4 col1\" >0.014622</td>\n",
       "            </tr>\n",
       "    </tbody></table>"
      ],
      "text/plain": [
       "<pandas.io.formats.style.Styler at 0x25f5998f550>"
      ]
     },
     "execution_count": 18,
     "metadata": {},
     "output_type": "execute_result"
    }
   ],
   "source": [
    "#Standard Error of Overall Accuracy estimated by region\n",
    "data.groupby(by = [\"Region\"]).apply(estimate_OA_SE).reset_index(name='OA SE').style.hide_index()"
   ]
  },
  {
   "cell_type": "code",
   "execution_count": 19,
   "metadata": {},
   "outputs": [],
   "source": [
    "def estimate_UA (df: pd.DataFrame) -> float:\n",
    "    \"\"\" \n",
    "    Function to estimate User's Accuracy of target class \n",
    "    Input dataframe with number of lines equal the number of sample pixels,\n",
    "    and the following columns:\n",
    "    \"Map\" (1 if the sample pixel was mapped as target class, and 0 otherwise)\n",
    "    \"Reference\" (1 if the sample pixel was identified as target class in reference classification, and 0 otherwise)\n",
    "    \"Ah\" (stratum area, km²)\n",
    "    \"nh\" (number of sample pixels in stratum h)\n",
    "    \"au\" (area of sampled pixel in km²)\n",
    "    Returns estimated User's Accuracy of target class expressed as proportion (0-1) of the total study area\n",
    "    From Tyukavina et al. (in review) \"Global trends of forest loss due to fire, 2001-2019\"\n",
    "    Supplementary Information, equations 8 - 11\n",
    "    \"\"\"\n",
    "    #Create a copy of columns \"Stratum\",\"nh\", \"Ah\" and new columns: \n",
    "    #\"Correct\", where yu = au if the sample pixel is correctly classified as target class, and yu = 0 otherwise\n",
    "    #\"Mapped\", where zu = au if the sample pixel is mapped as target class, and zu = 0 otherwise \n",
    "    df1 = pd.concat([df['nh'],df['Ah'],df['au'], pd.Series((((df['Reference'] == 1) & (df['Map'] == 1)).astype(bool) * df['au']) , name = 'Correct'),\n",
    "                    pd.Series(((df['Map'] == 1).astype(bool)* df['au']) , name = 'Mapped')],axis = 1)\n",
    "    \n",
    "    #Equation 11 Compute inclusion probability for each sampled pixel\n",
    "    df1['PIu'] = df1['nh'] * df1['au'] / df1['Ah']\n",
    "    \n",
    "    #Equation 9\n",
    "    Yest = (df1.Correct/df1.PIu).sum()\n",
    "    #Equation 10\n",
    "    Zest = (df1.Mapped/df1.PIu).sum()\n",
    "    \n",
    "    #Equation 8\n",
    "    UA = Yest/Zest\n",
    "\n",
    "    return UA"
   ]
  },
  {
   "cell_type": "code",
   "execution_count": 20,
   "metadata": {},
   "outputs": [
    {
     "data": {
      "text/plain": [
       "0.8997915745423283"
      ]
     },
     "execution_count": 20,
     "metadata": {},
     "output_type": "execute_result"
    }
   ],
   "source": [
    "#Global estimate of User's Accuracy\n",
    "estimate_UA(data)"
   ]
  },
  {
   "cell_type": "code",
   "execution_count": 21,
   "metadata": {},
   "outputs": [
    {
     "data": {
      "text/html": [
       "<style  type=\"text/css\" >\n",
       "</style><table id=\"T_52888a30_6c8a_11eb_a5a7_d0946613b163\" ><thead>    <tr>        <th class=\"col_heading level0 col0\" >Region</th>        <th class=\"col_heading level0 col1\" >User's Accuracy</th>    </tr></thead><tbody>\n",
       "                <tr>\n",
       "                                <td id=\"T_52888a30_6c8a_11eb_a5a7_d0946613b163row0_col0\" class=\"data row0 col0\" >AFR</td>\n",
       "                        <td id=\"T_52888a30_6c8a_11eb_a5a7_d0946613b163row0_col1\" class=\"data row0 col1\" >0.621951</td>\n",
       "            </tr>\n",
       "            <tr>\n",
       "                                <td id=\"T_52888a30_6c8a_11eb_a5a7_d0946613b163row1_col0\" class=\"data row1 col0\" >EUR</td>\n",
       "                        <td id=\"T_52888a30_6c8a_11eb_a5a7_d0946613b163row1_col1\" class=\"data row1 col1\" >0.937984</td>\n",
       "            </tr>\n",
       "            <tr>\n",
       "                                <td id=\"T_52888a30_6c8a_11eb_a5a7_d0946613b163row2_col0\" class=\"data row2 col0\" >LAM</td>\n",
       "                        <td id=\"T_52888a30_6c8a_11eb_a5a7_d0946613b163row2_col1\" class=\"data row2 col1\" >0.743590</td>\n",
       "            </tr>\n",
       "            <tr>\n",
       "                                <td id=\"T_52888a30_6c8a_11eb_a5a7_d0946613b163row3_col0\" class=\"data row3 col0\" >NAM</td>\n",
       "                        <td id=\"T_52888a30_6c8a_11eb_a5a7_d0946613b163row3_col1\" class=\"data row3 col1\" >0.947917</td>\n",
       "            </tr>\n",
       "            <tr>\n",
       "                                <td id=\"T_52888a30_6c8a_11eb_a5a7_d0946613b163row4_col0\" class=\"data row4 col0\" >SEA-AUS</td>\n",
       "                        <td id=\"T_52888a30_6c8a_11eb_a5a7_d0946613b163row4_col1\" class=\"data row4 col1\" >0.740260</td>\n",
       "            </tr>\n",
       "    </tbody></table>"
      ],
      "text/plain": [
       "<pandas.io.formats.style.Styler at 0x25f5aebe358>"
      ]
     },
     "execution_count": 21,
     "metadata": {},
     "output_type": "execute_result"
    }
   ],
   "source": [
    "#User's Accuracy estimated by region\n",
    "data.groupby(by = [\"Region\"]).apply(estimate_UA).reset_index(name ='User\\'s Accuracy').style.hide_index()"
   ]
  },
  {
   "cell_type": "code",
   "execution_count": 22,
   "metadata": {},
   "outputs": [],
   "source": [
    "def estimate_PA (df: pd.DataFrame) -> float:\n",
    "    \"\"\" \n",
    "    Function to estimate Producer's Accuracy of target class \n",
    "    Input dataframe with number of lines equal the number of sample pixels,\n",
    "    and the following columns:\n",
    "    \"Map\" (1 if the sample pixel was mapped as target class, and 0 otherwise)\n",
    "    \"Reference\" (1 if the sample pixel was identified as target class in reference classification, and 0 otherwise)\n",
    "    \"Ah\" (stratum area, km²)\n",
    "    \"nh\" (number of sample pixels in stratum h)\n",
    "    \"au\" (area of sample pixel in km²)\n",
    "    Returns estimated Producer's Accuracy of target class expressed as proportion (0-1) of the total study area\n",
    "    From Tyukavina et al. (in review) \"Global trends of forest loss due to fire, 2001-2019\"\n",
    "    Supplementary Information, equations 8 - 11\n",
    "    \"\"\"\n",
    "    #Create a copy of columns \"Stratum\",\"nh\", \"Ah\" and new columns: \n",
    "    #\"Correct\", where yu = au if the sample pixel is correctly classified as target class, and yu = 0 otherwise\n",
    "    #\"Ref\", where zu = au if the sample pixel is mapped as target class, and zu = 0 otherwise \n",
    "    df1 = pd.concat([df['nh'],df['Ah'],df['au'], pd.Series((((df['Reference'] == 1) & (df['Map'] == 1)).astype(bool) * df['au']) , name = 'Correct'),\n",
    "                    pd.Series(((df['Reference'] == 1).astype(bool)* df['au']) , name = 'Ref')],axis = 1)\n",
    "    \n",
    "    #Equation 11 Compute inclusion probability for each sampled pixel\n",
    "    df1['PIu'] = df1['nh'] * df1['au'] / df1['Ah']\n",
    "    \n",
    "    #Equation 9\n",
    "    Yest = (df1.Correct/df1.PIu).sum()\n",
    "    #Equation 10\n",
    "    Zest = (df1.Ref/df1.PIu).sum()\n",
    "    \n",
    "    #Equation 8\n",
    "    PA = Yest/Zest\n",
    "\n",
    "    return PA"
   ]
  },
  {
   "cell_type": "code",
   "execution_count": 23,
   "metadata": {},
   "outputs": [
    {
     "data": {
      "text/plain": [
       "0.8981668852260704"
      ]
     },
     "execution_count": 23,
     "metadata": {},
     "output_type": "execute_result"
    }
   ],
   "source": [
    "#Global estimate of Producer's Accuracy\n",
    "estimate_PA(data)"
   ]
  },
  {
   "cell_type": "code",
   "execution_count": 24,
   "metadata": {},
   "outputs": [
    {
     "data": {
      "text/html": [
       "<style  type=\"text/css\" >\n",
       "</style><table id=\"T_53c8d814_6c8a_11eb_9fee_d0946613b163\" ><thead>    <tr>        <th class=\"col_heading level0 col0\" >Region</th>        <th class=\"col_heading level0 col1\" >Producer's Accuracy</th>    </tr></thead><tbody>\n",
       "                <tr>\n",
       "                                <td id=\"T_53c8d814_6c8a_11eb_9fee_d0946613b163row0_col0\" class=\"data row0 col0\" >AFR</td>\n",
       "                        <td id=\"T_53c8d814_6c8a_11eb_9fee_d0946613b163row0_col1\" class=\"data row0 col1\" >0.438489</td>\n",
       "            </tr>\n",
       "            <tr>\n",
       "                                <td id=\"T_53c8d814_6c8a_11eb_9fee_d0946613b163row1_col0\" class=\"data row1 col0\" >EUR</td>\n",
       "                        <td id=\"T_53c8d814_6c8a_11eb_9fee_d0946613b163row1_col1\" class=\"data row1 col1\" >0.943558</td>\n",
       "            </tr>\n",
       "            <tr>\n",
       "                                <td id=\"T_53c8d814_6c8a_11eb_9fee_d0946613b163row2_col0\" class=\"data row2 col0\" >LAM</td>\n",
       "                        <td id=\"T_53c8d814_6c8a_11eb_9fee_d0946613b163row2_col1\" class=\"data row2 col1\" >0.666173</td>\n",
       "            </tr>\n",
       "            <tr>\n",
       "                                <td id=\"T_53c8d814_6c8a_11eb_9fee_d0946613b163row3_col0\" class=\"data row3 col0\" >NAM</td>\n",
       "                        <td id=\"T_53c8d814_6c8a_11eb_9fee_d0946613b163row3_col1\" class=\"data row3 col1\" >0.978495</td>\n",
       "            </tr>\n",
       "            <tr>\n",
       "                                <td id=\"T_53c8d814_6c8a_11eb_9fee_d0946613b163row4_col0\" class=\"data row4 col0\" >SEA-AUS</td>\n",
       "                        <td id=\"T_53c8d814_6c8a_11eb_9fee_d0946613b163row4_col1\" class=\"data row4 col1\" >0.742051</td>\n",
       "            </tr>\n",
       "    </tbody></table>"
      ],
      "text/plain": [
       "<pandas.io.formats.style.Styler at 0x25f5afb7eb8>"
      ]
     },
     "execution_count": 24,
     "metadata": {},
     "output_type": "execute_result"
    }
   ],
   "source": [
    "#Producer's Accuracy estimated by region\n",
    "data.groupby(by = [\"Region\"]).apply(estimate_PA).reset_index(name ='Producer\\'s Accuracy').style.hide_index()"
   ]
  },
  {
   "cell_type": "code",
   "execution_count": 25,
   "metadata": {},
   "outputs": [],
   "source": [
    "def estimate_UA_SE(df: pd.DataFrame) -> float:\n",
    "    \"\"\" \n",
    "    Function to estimate the Standard Error of User's Accuracy of target class \n",
    "    Input dataframe with number of lines equal the number of sample pixels,\n",
    "    and the following columns:\n",
    "    \"ID\" (sampled pixel ID)\n",
    "    \"Stratum\" (strata IDs 1 - nstrata)\n",
    "    \"Map\" (1 if the sample pixel was mapped as target class, and 0 otherwise)\n",
    "    \"Reference\" (1 if the sample pixel was identified as target class in reference classification, and 0 otherwise)\n",
    "    \"au\" (area of sample pixel in km²)\n",
    "    \"nh\" (number of sample pixels in stratum h)\n",
    "    \"Ah\" (stratum area, km²)\n",
    "    Returns estimated SE of User's Accuracy of target class expressed as proportion (0-1) of the total study area\n",
    "    From Tyukavina et al. (in review) \"Global trends of forest loss due to fire, 2001-2019\"\n",
    "    Supplementary Information, equations 8 - 13\n",
    "    \"\"\"\n",
    "    #Create a copy of columns \"Stratum\",\"nh\", \"Ah\" and new columns: \n",
    "    #\"Correct\", where yu = au if the sample pixel is correctly classified as target class, and yu = 0 otherwise\n",
    "    #\"Mapped\", where zu = au if the sample pixel is mapped as target class, and zu = 0 otherwise \n",
    "    df1 = pd.concat([df[['au','ID','Stratum','nh','Ah']], \n",
    "                     pd.Series((((df['Reference'] == 1) & (df['Map'] == 1)).astype(bool) * df['au']) , name = 'Correct'),\n",
    "                     pd.Series(((df['Map'] == 1).astype(bool)* df['au']) , name = 'Mapped')],axis = 1)\n",
    "    \n",
    "    #Equation 11 Compute inclusion probability for each sampled pixel\n",
    "    df1['PIu'] = df1['nh'] * df1['au'] / df1['Ah']\n",
    "    \n",
    "    #Equations 8-10\n",
    "    Yest = (df1.Correct/df1.PIu).sum()\n",
    "    Zest = (df1.Mapped/df1.PIu).sum()\n",
    "    UA = Yest/Zest\n",
    "    \n",
    "    # Equation 13\n",
    "    var_u =(1-df1['PIu'])*(df1['Correct'] - UA * df1['Mapped'])*(df1['Correct'] - UA * df1['Mapped'])/ (df1['PIu']*df1['PIu'])\n",
    "    var = np.sum(var_u) / Zest ** 2\n",
    "    \n",
    "    SE = np.sqrt(var)\n",
    "     \n",
    "    return SE"
   ]
  },
  {
   "cell_type": "code",
   "execution_count": 26,
   "metadata": {},
   "outputs": [
    {
     "data": {
      "text/plain": [
       "0.014586350037767162"
      ]
     },
     "execution_count": 26,
     "metadata": {},
     "output_type": "execute_result"
    }
   ],
   "source": [
    "#Global estimate of Standard Error of User's Accuracy\n",
    "estimate_UA_SE(data)"
   ]
  },
  {
   "cell_type": "code",
   "execution_count": 27,
   "metadata": {},
   "outputs": [
    {
     "data": {
      "text/html": [
       "<style  type=\"text/css\" >\n",
       "</style><table id=\"T_55e45940_6c8a_11eb_838d_d0946613b163\" ><thead>    <tr>        <th class=\"col_heading level0 col0\" >Region</th>        <th class=\"col_heading level0 col1\" >UA SE</th>    </tr></thead><tbody>\n",
       "                <tr>\n",
       "                                <td id=\"T_55e45940_6c8a_11eb_838d_d0946613b163row0_col0\" class=\"data row0 col0\" >AFR</td>\n",
       "                        <td id=\"T_55e45940_6c8a_11eb_838d_d0946613b163row0_col1\" class=\"data row0 col1\" >0.053548</td>\n",
       "            </tr>\n",
       "            <tr>\n",
       "                                <td id=\"T_55e45940_6c8a_11eb_838d_d0946613b163row1_col0\" class=\"data row1 col0\" >EUR</td>\n",
       "                        <td id=\"T_55e45940_6c8a_11eb_838d_d0946613b163row1_col1\" class=\"data row1 col1\" >0.021235</td>\n",
       "            </tr>\n",
       "            <tr>\n",
       "                                <td id=\"T_55e45940_6c8a_11eb_838d_d0946613b163row2_col0\" class=\"data row2 col0\" >LAM</td>\n",
       "                        <td id=\"T_55e45940_6c8a_11eb_838d_d0946613b163row2_col1\" class=\"data row2 col1\" >0.049441</td>\n",
       "            </tr>\n",
       "            <tr>\n",
       "                                <td id=\"T_55e45940_6c8a_11eb_838d_d0946613b163row3_col0\" class=\"data row3 col0\" >NAM</td>\n",
       "                        <td id=\"T_55e45940_6c8a_11eb_838d_d0946613b163row3_col1\" class=\"data row3 col1\" >0.022678</td>\n",
       "            </tr>\n",
       "            <tr>\n",
       "                                <td id=\"T_55e45940_6c8a_11eb_838d_d0946613b163row4_col0\" class=\"data row4 col0\" >SEA-AUS</td>\n",
       "                        <td id=\"T_55e45940_6c8a_11eb_838d_d0946613b163row4_col1\" class=\"data row4 col1\" >0.049971</td>\n",
       "            </tr>\n",
       "    </tbody></table>"
      ],
      "text/plain": [
       "<pandas.io.formats.style.Styler at 0x25f5afb7f98>"
      ]
     },
     "execution_count": 27,
     "metadata": {},
     "output_type": "execute_result"
    }
   ],
   "source": [
    "#Standard Error of User's Accuracy estimated by region\n",
    "data.groupby(by = [\"Region\"]).apply(estimate_UA_SE).reset_index(name ='UA SE').style.hide_index()"
   ]
  },
  {
   "cell_type": "code",
   "execution_count": 28,
   "metadata": {},
   "outputs": [],
   "source": [
    "def estimate_PA_SE (df: pd.DataFrame) -> float:\n",
    "    \"\"\" \n",
    "    Function to estimate the Standard Error of Producer's Accuracy of target class \n",
    "    Input dataframe with number of lines equal the number of sample pixels,\n",
    "    and the following columns:\n",
    "    \"ID\" (sampled pixel ID)\n",
    "    \"Stratum\" (strata IDs 1 - nstrata)\n",
    "    \"Map\" (1 if the sample pixel was mapped as target class, and 0 otherwise)\n",
    "    \"Reference\" (1 if the sample pixel was identified as target class in reference classification, and 0 otherwise)\n",
    "    \"au\" (area of sample pixel in km²)\n",
    "    \"nh\" (number of sample pixels in stratum h)\n",
    "    \"Ah\" (stratum area, km²)\n",
    "    Returns estimated SE of Producer's Accuracy of target class expressed as proportion (0-1) of the total study area\n",
    "    From Tyukavina et al. (in review) \"Global trends of forest loss due to fire, 2001-2019\"\n",
    "    Supplementary Information, equations 8 - 13\n",
    "    \"\"\"\n",
    "    #Create a copy of columns \"Stratum\",\"nh\", \"Ah\" and new columns: \n",
    "    #\"Correct\", where yu = au if the sample pixel is correctly classified as target class, and yu = 0 otherwise\n",
    "    #\"Ref\", where zu = au if the sample pixel is mapped as target class, and zu = 0 otherwise \n",
    "    df1 = pd.concat([df[['au','ID','Stratum','nh','Ah']],\n",
    "                     pd.Series((((df['Reference'] == 1) & (df['Map'] == 1)).astype(bool) * df['au']) , name = 'Correct'),\n",
    "                     pd.Series(((df['Reference'] == 1).astype(bool)* df['au']) , name = 'Ref')],axis = 1)\n",
    "   \n",
    "    #Equation 11 Compute inclusion probability for each sampled pixel\n",
    "    df1['PIu'] = df1['nh'] * df1['au'] / df1['Ah']\n",
    "    \n",
    "    #Equations 8-10\n",
    "    Yest = (df1.Correct/df1.PIu).sum()\n",
    "    Zest = (df1.Ref/df1.PIu).sum()\n",
    "    PA = Yest/Zest\n",
    "    \n",
    "    # Equation 13\n",
    "    var_u =(1-df1['PIu'])*(df1['Correct'] - PA * df1['Ref'])*(df1['Correct'] - PA * df1['Ref'])/ (df1['PIu']*df1['PIu'])\n",
    "    var = np.sum(var_u) / Zest ** 2\n",
    "    \n",
    "    SE = np.sqrt(var)\n",
    "     \n",
    "    return SE"
   ]
  },
  {
   "cell_type": "code",
   "execution_count": 29,
   "metadata": {},
   "outputs": [
    {
     "data": {
      "text/plain": [
       "0.017090040550356903"
      ]
     },
     "execution_count": 29,
     "metadata": {},
     "output_type": "execute_result"
    }
   ],
   "source": [
    "#Global estimate of Standard Error of Producer's Accuracy\n",
    "estimate_PA_SE(data)"
   ]
  },
  {
   "cell_type": "code",
   "execution_count": 30,
   "metadata": {},
   "outputs": [
    {
     "data": {
      "text/html": [
       "<style  type=\"text/css\" >\n",
       "</style><table id=\"T_573aa99c_6c8a_11eb_9fae_d0946613b163\" ><thead>    <tr>        <th class=\"col_heading level0 col0\" >Region</th>        <th class=\"col_heading level0 col1\" >PA SE</th>    </tr></thead><tbody>\n",
       "                <tr>\n",
       "                                <td id=\"T_573aa99c_6c8a_11eb_9fae_d0946613b163row0_col0\" class=\"data row0 col0\" >AFR</td>\n",
       "                        <td id=\"T_573aa99c_6c8a_11eb_9fae_d0946613b163row0_col1\" class=\"data row0 col1\" >0.167205</td>\n",
       "            </tr>\n",
       "            <tr>\n",
       "                                <td id=\"T_573aa99c_6c8a_11eb_9fae_d0946613b163row1_col0\" class=\"data row1 col0\" >EUR</td>\n",
       "                        <td id=\"T_573aa99c_6c8a_11eb_9fae_d0946613b163row1_col1\" class=\"data row1 col1\" >0.019609</td>\n",
       "            </tr>\n",
       "            <tr>\n",
       "                                <td id=\"T_573aa99c_6c8a_11eb_9fae_d0946613b163row2_col0\" class=\"data row2 col0\" >LAM</td>\n",
       "                        <td id=\"T_573aa99c_6c8a_11eb_9fae_d0946613b163row2_col1\" class=\"data row2 col1\" >0.073371</td>\n",
       "            </tr>\n",
       "            <tr>\n",
       "                                <td id=\"T_573aa99c_6c8a_11eb_9fae_d0946613b163row3_col0\" class=\"data row3 col0\" >NAM</td>\n",
       "                        <td id=\"T_573aa99c_6c8a_11eb_9fae_d0946613b163row3_col1\" class=\"data row3 col1\" >0.015042</td>\n",
       "            </tr>\n",
       "            <tr>\n",
       "                                <td id=\"T_573aa99c_6c8a_11eb_9fae_d0946613b163row4_col0\" class=\"data row4 col0\" >SEA-AUS</td>\n",
       "                        <td id=\"T_573aa99c_6c8a_11eb_9fae_d0946613b163row4_col1\" class=\"data row4 col1\" >0.069025</td>\n",
       "            </tr>\n",
       "    </tbody></table>"
      ],
      "text/plain": [
       "<pandas.io.formats.style.Styler at 0x25f5af73a58>"
      ]
     },
     "execution_count": 30,
     "metadata": {},
     "output_type": "execute_result"
    }
   ],
   "source": [
    "#Standard Error of Producer's Accuracy estimated by region\n",
    "data.groupby(by = [\"Region\"]).apply(estimate_PA_SE).reset_index(name ='PA SE').style.hide_index()"
   ]
  },
  {
   "cell_type": "code",
   "execution_count": 31,
   "metadata": {},
   "outputs": [
    {
     "data": {
      "text/html": [
       "<style  type=\"text/css\" >\n",
       "</style><table id=\"T_57a4c88a_6c8a_11eb_a9fe_d0946613b163\" ><thead>    <tr>        <th class=\"col_heading level0 col0\" >area, km²</th>        <th class=\"col_heading level0 col1\" >area SE, km²</th>        <th class=\"col_heading level0 col2\" >OA</th>        <th class=\"col_heading level0 col3\" >OA SE</th>        <th class=\"col_heading level0 col4\" >UA</th>        <th class=\"col_heading level0 col5\" >UA SE</th>        <th class=\"col_heading level0 col6\" >PA</th>        <th class=\"col_heading level0 col7\" >PA SE</th>    </tr></thead><tbody>\n",
       "                <tr>\n",
       "                                <td id=\"T_57a4c88a_6c8a_11eb_a9fe_d0946613b163row0_col0\" class=\"data row0 col0\" >1227725.19</td>\n",
       "                        <td id=\"T_57a4c88a_6c8a_11eb_a9fe_d0946613b163row0_col1\" class=\"data row0 col1\" >31527.13</td>\n",
       "                        <td id=\"T_57a4c88a_6c8a_11eb_a9fe_d0946613b163row0_col2\" class=\"data row0 col2\" >0.94</td>\n",
       "                        <td id=\"T_57a4c88a_6c8a_11eb_a9fe_d0946613b163row0_col3\" class=\"data row0 col3\" >0.01</td>\n",
       "                        <td id=\"T_57a4c88a_6c8a_11eb_a9fe_d0946613b163row0_col4\" class=\"data row0 col4\" >0.90</td>\n",
       "                        <td id=\"T_57a4c88a_6c8a_11eb_a9fe_d0946613b163row0_col5\" class=\"data row0 col5\" >0.01</td>\n",
       "                        <td id=\"T_57a4c88a_6c8a_11eb_a9fe_d0946613b163row0_col6\" class=\"data row0 col6\" >0.90</td>\n",
       "                        <td id=\"T_57a4c88a_6c8a_11eb_a9fe_d0946613b163row0_col7\" class=\"data row0 col7\" >0.02</td>\n",
       "            </tr>\n",
       "    </tbody></table>"
      ],
      "text/plain": [
       "<pandas.io.formats.style.Styler at 0x25f5afc7ef0>"
      ]
     },
     "execution_count": 31,
     "metadata": {},
     "output_type": "execute_result"
    }
   ],
   "source": [
    "#Run all models for all regions together\n",
    "functions = [estimate_area, estimate_area_SE, estimate_OA, estimate_OA_SE, estimate_UA, estimate_UA_SE, estimate_PA, estimate_PA_SE]\n",
    "names = ['area, km²','area SE, km²', 'OA', 'OA SE', 'UA','UA SE', 'PA','PA SE']\n",
    "values = {nm:[fn(data)] for fn, nm in zip(functions,names)}\n",
    "results = pd.DataFrame(values)\n",
    "\n",
    "results.style.hide_index().format(\"{:.2f}\")"
   ]
  },
  {
   "cell_type": "code",
   "execution_count": 32,
   "metadata": {},
   "outputs": [
    {
     "data": {
      "text/html": [
       "<style  type=\"text/css\" >\n",
       "</style><table id=\"T_5ce7136e_6c8a_11eb_8e39_d0946613b163\" ><thead>    <tr>        <th class=\"col_heading level0 col0\" >Region</th>        <th class=\"col_heading level0 col1\" >area, km²</th>        <th class=\"col_heading level0 col2\" >area SE, km²</th>        <th class=\"col_heading level0 col3\" >OA</th>        <th class=\"col_heading level0 col4\" >OA SE</th>        <th class=\"col_heading level0 col5\" >UA</th>        <th class=\"col_heading level0 col6\" >UA SE</th>        <th class=\"col_heading level0 col7\" >PA</th>        <th class=\"col_heading level0 col8\" >PA SE</th>    </tr></thead><tbody>\n",
       "                <tr>\n",
       "                                <td id=\"T_5ce7136e_6c8a_11eb_8e39_d0946613b163row0_col0\" class=\"data row0 col0\" >AFR</td>\n",
       "                        <td id=\"T_5ce7136e_6c8a_11eb_8e39_d0946613b163row0_col1\" class=\"data row0 col1\" >16854.62</td>\n",
       "                        <td id=\"T_5ce7136e_6c8a_11eb_8e39_d0946613b163row0_col2\" class=\"data row0 col2\" >6300.36</td>\n",
       "                        <td id=\"T_5ce7136e_6c8a_11eb_8e39_d0946613b163row0_col3\" class=\"data row0 col3\" >0.98</td>\n",
       "                        <td id=\"T_5ce7136e_6c8a_11eb_8e39_d0946613b163row0_col4\" class=\"data row0 col4\" >0.01</td>\n",
       "                        <td id=\"T_5ce7136e_6c8a_11eb_8e39_d0946613b163row0_col5\" class=\"data row0 col5\" >0.62</td>\n",
       "                        <td id=\"T_5ce7136e_6c8a_11eb_8e39_d0946613b163row0_col6\" class=\"data row0 col6\" >0.05</td>\n",
       "                        <td id=\"T_5ce7136e_6c8a_11eb_8e39_d0946613b163row0_col7\" class=\"data row0 col7\" >0.44</td>\n",
       "                        <td id=\"T_5ce7136e_6c8a_11eb_8e39_d0946613b163row0_col8\" class=\"data row0 col8\" >0.17</td>\n",
       "            </tr>\n",
       "            <tr>\n",
       "                                <td id=\"T_5ce7136e_6c8a_11eb_8e39_d0946613b163row1_col0\" class=\"data row1 col0\" >EUR</td>\n",
       "                        <td id=\"T_5ce7136e_6c8a_11eb_8e39_d0946613b163row1_col1\" class=\"data row1 col1\" >572411.27</td>\n",
       "                        <td id=\"T_5ce7136e_6c8a_11eb_8e39_d0946613b163row1_col2\" class=\"data row1 col2\" >21875.33</td>\n",
       "                        <td id=\"T_5ce7136e_6c8a_11eb_8e39_d0946613b163row1_col3\" class=\"data row1 col3\" >0.93</td>\n",
       "                        <td id=\"T_5ce7136e_6c8a_11eb_8e39_d0946613b163row1_col4\" class=\"data row1 col4\" >0.02</td>\n",
       "                        <td id=\"T_5ce7136e_6c8a_11eb_8e39_d0946613b163row1_col5\" class=\"data row1 col5\" >0.94</td>\n",
       "                        <td id=\"T_5ce7136e_6c8a_11eb_8e39_d0946613b163row1_col6\" class=\"data row1 col6\" >0.02</td>\n",
       "                        <td id=\"T_5ce7136e_6c8a_11eb_8e39_d0946613b163row1_col7\" class=\"data row1 col7\" >0.94</td>\n",
       "                        <td id=\"T_5ce7136e_6c8a_11eb_8e39_d0946613b163row1_col8\" class=\"data row1 col8\" >0.02</td>\n",
       "            </tr>\n",
       "            <tr>\n",
       "                                <td id=\"T_5ce7136e_6c8a_11eb_8e39_d0946613b163row2_col0\" class=\"data row2 col0\" >LAM</td>\n",
       "                        <td id=\"T_5ce7136e_6c8a_11eb_8e39_d0946613b163row2_col1\" class=\"data row2 col1\" >128598.23</td>\n",
       "                        <td id=\"T_5ce7136e_6c8a_11eb_8e39_d0946613b163row2_col2\" class=\"data row2 col2\" >14285.63</td>\n",
       "                        <td id=\"T_5ce7136e_6c8a_11eb_8e39_d0946613b163row2_col3\" class=\"data row2 col3\" >0.93</td>\n",
       "                        <td id=\"T_5ce7136e_6c8a_11eb_8e39_d0946613b163row2_col4\" class=\"data row2 col4\" >0.01</td>\n",
       "                        <td id=\"T_5ce7136e_6c8a_11eb_8e39_d0946613b163row2_col5\" class=\"data row2 col5\" >0.74</td>\n",
       "                        <td id=\"T_5ce7136e_6c8a_11eb_8e39_d0946613b163row2_col6\" class=\"data row2 col6\" >0.05</td>\n",
       "                        <td id=\"T_5ce7136e_6c8a_11eb_8e39_d0946613b163row2_col7\" class=\"data row2 col7\" >0.67</td>\n",
       "                        <td id=\"T_5ce7136e_6c8a_11eb_8e39_d0946613b163row2_col8\" class=\"data row2 col8\" >0.07</td>\n",
       "            </tr>\n",
       "            <tr>\n",
       "                                <td id=\"T_5ce7136e_6c8a_11eb_8e39_d0946613b163row3_col0\" class=\"data row3 col0\" >NAM</td>\n",
       "                        <td id=\"T_5ce7136e_6c8a_11eb_8e39_d0946613b163row3_col1\" class=\"data row3 col1\" >385702.26</td>\n",
       "                        <td id=\"T_5ce7136e_6c8a_11eb_8e39_d0946613b163row3_col2\" class=\"data row3 col2\" >10635.11</td>\n",
       "                        <td id=\"T_5ce7136e_6c8a_11eb_8e39_d0946613b163row3_col3\" class=\"data row3 col3\" >0.97</td>\n",
       "                        <td id=\"T_5ce7136e_6c8a_11eb_8e39_d0946613b163row3_col4\" class=\"data row3 col4\" >0.01</td>\n",
       "                        <td id=\"T_5ce7136e_6c8a_11eb_8e39_d0946613b163row3_col5\" class=\"data row3 col5\" >0.95</td>\n",
       "                        <td id=\"T_5ce7136e_6c8a_11eb_8e39_d0946613b163row3_col6\" class=\"data row3 col6\" >0.02</td>\n",
       "                        <td id=\"T_5ce7136e_6c8a_11eb_8e39_d0946613b163row3_col7\" class=\"data row3 col7\" >0.98</td>\n",
       "                        <td id=\"T_5ce7136e_6c8a_11eb_8e39_d0946613b163row3_col8\" class=\"data row3 col8\" >0.02</td>\n",
       "            </tr>\n",
       "            <tr>\n",
       "                                <td id=\"T_5ce7136e_6c8a_11eb_8e39_d0946613b163row4_col0\" class=\"data row4 col0\" >SEA-AUS</td>\n",
       "                        <td id=\"T_5ce7136e_6c8a_11eb_8e39_d0946613b163row4_col1\" class=\"data row4 col1\" >124158.81</td>\n",
       "                        <td id=\"T_5ce7136e_6c8a_11eb_8e39_d0946613b163row4_col2\" class=\"data row4 col2\" >12591.68</td>\n",
       "                        <td id=\"T_5ce7136e_6c8a_11eb_8e39_d0946613b163row4_col3\" class=\"data row4 col3\" >0.92</td>\n",
       "                        <td id=\"T_5ce7136e_6c8a_11eb_8e39_d0946613b163row4_col4\" class=\"data row4 col4\" >0.01</td>\n",
       "                        <td id=\"T_5ce7136e_6c8a_11eb_8e39_d0946613b163row4_col5\" class=\"data row4 col5\" >0.74</td>\n",
       "                        <td id=\"T_5ce7136e_6c8a_11eb_8e39_d0946613b163row4_col6\" class=\"data row4 col6\" >0.05</td>\n",
       "                        <td id=\"T_5ce7136e_6c8a_11eb_8e39_d0946613b163row4_col7\" class=\"data row4 col7\" >0.74</td>\n",
       "                        <td id=\"T_5ce7136e_6c8a_11eb_8e39_d0946613b163row4_col8\" class=\"data row4 col8\" >0.07</td>\n",
       "            </tr>\n",
       "    </tbody></table>"
      ],
      "text/plain": [
       "<pandas.io.formats.style.Styler at 0x25f5aebeac8>"
      ]
     },
     "execution_count": 32,
     "metadata": {},
     "output_type": "execute_result"
    }
   ],
   "source": [
    "#Run all models for each region\n",
    "functions = [estimate_area, estimate_area_SE, estimate_OA, estimate_OA_SE, estimate_UA, estimate_UA_SE, estimate_PA, estimate_PA_SE]\n",
    "names = ['area, km²','area SE, km²', 'OA', 'OA SE', 'UA','UA SE', 'PA','PA SE']\n",
    "results = pd.concat([data.groupby(by = [\"Region\"]).apply(fn).reset_index(name = nm).set_index(\"Region\") for fn, nm in zip(functions,names)], axis = 1).reset_index()\n",
    "\n",
    "results.style.hide_index().format({name: '{:.2f}' for name in names})"
   ]
  }
 ],
 "metadata": {
  "kernelspec": {
   "display_name": "Python 3",
   "language": "python",
   "name": "python3"
  },
  "language_info": {
   "codemirror_mode": {
    "name": "ipython",
    "version": 3
   },
   "file_extension": ".py",
   "mimetype": "text/x-python",
   "name": "python",
   "nbconvert_exporter": "python",
   "pygments_lexer": "ipython3",
   "version": "3.7.3"
  }
 },
 "nbformat": 4,
 "nbformat_minor": 2
}
